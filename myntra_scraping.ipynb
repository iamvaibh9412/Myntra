{
 "cells": [
  {
   "cell_type": "code",
   "execution_count": 1,
   "id": "bca83423",
   "metadata": {},
   "outputs": [
    {
     "name": "stdout",
     "output_type": "stream",
     "text": [
      "BrandName: 50\n",
      "ProductName: 50\n",
      "ProductMRP: 50\n",
      "ProductSellingPrice: 50\n",
      "ProductRating: 50\n",
      "ProductRatingCount: 50\n"
     ]
    }
   ],
   "source": [
    "from selenium import webdriver\n",
    "from time import sleep\n",
    "\n",
    "browser = webdriver.Chrome()\n",
    "# this URL is only for the Category of Mens Tshirt\n",
    "browser.get('https://www.myntra.com/men-tshirts')\n",
    "\n",
    "EntireData = {\n",
    "    'BrandName': [],\n",
    "    'ProductName': [],\n",
    "    'ProductMRP': [],\n",
    "    'ProductSellingPrice': [],\n",
    "    'ProductRating': [],\n",
    "    'ProductRatingCount': []\n",
    "}\n",
    "\n",
    "# Loop through product cards\n",
    "products = browser.find_elements('xpath', \"//li[contains(@class,'product-base')]\")\n",
    "\n",
    "for product in products:\n",
    "    # Brand Name\n",
    "    try:\n",
    "        brand = product.find_element('xpath', \".//h3[contains(@class, 'product-brand')]\")\n",
    "        EntireData['BrandName'].append(brand.text)\n",
    "    except:\n",
    "        EntireData['BrandName'].append('')\n",
    "\n",
    "    # Product Name\n",
    "    try:\n",
    "        pname = product.find_element('xpath', \".//h4[contains(@class, 'product-product')]\")\n",
    "        EntireData['ProductName'].append(pname.text)\n",
    "    except:\n",
    "        EntireData['ProductName'].append('')\n",
    "\n",
    "    # Product MRP\n",
    "    try:\n",
    "        mrp = product.find_element('xpath', \".//span[contains(@class,'product-strike')]\")\n",
    "        EntireData['ProductMRP'].append(mrp.text)\n",
    "    except:\n",
    "        EntireData['ProductMRP'].append('0')\n",
    "\n",
    "    # Product Selling Price\n",
    "    try:\n",
    "        selling_price = product.find_element('xpath', \".//span[contains(@class,'product-discountedPrice')]\")\n",
    "        EntireData['ProductSellingPrice'].append(selling_price.text)\n",
    "    except:\n",
    "        EntireData['ProductSellingPrice'].append('0')\n",
    "\n",
    "    # Product Rating\n",
    "    try:\n",
    "        rating = product.find_element('xpath', \".//div[contains(@class,'product-ratingsContainer')]\")\n",
    "        EntireData['ProductRating'].append(rating.text.split('\\n')[0].strip())\n",
    "    except:\n",
    "        EntireData['ProductRating'].append('0')\n",
    "\n",
    "    # Product Rating Count\n",
    "    try:\n",
    "        rating_count = product.find_element('xpath', \".//div[contains(@class,'product-ratingsCount')]\")\n",
    "        EntireData['ProductRatingCount'].append(rating_count.text.split('\\n')[-1].strip())\n",
    "    except:\n",
    "        EntireData['ProductRatingCount'].append('0')\n",
    "\n",
    "\n",
    "# Check if all lists are equal in length\n",
    "print(\"BrandName:\", len(EntireData['BrandName']))\n",
    "print(\"ProductName:\", len(EntireData['ProductName']))\n",
    "print(\"ProductMRP:\", len(EntireData['ProductMRP']))\n",
    "print(\"ProductSellingPrice:\", len(EntireData['ProductSellingPrice']))\n",
    "print(\"ProductRating:\", len(EntireData['ProductRating']))\n",
    "print(\"ProductRatingCount:\", len(EntireData['ProductRatingCount']))\n",
    "\n"
   ]
  },
  {
   "cell_type": "code",
   "execution_count": 2,
   "id": "6904e9e2",
   "metadata": {},
   "outputs": [],
   "source": [
    "import pandas as pd\n",
    "\n",
    "MyntraTshirtMens = pd.DataFrame(EntireData)"
   ]
  },
  {
   "cell_type": "code",
   "execution_count": 3,
   "id": "650784e0",
   "metadata": {},
   "outputs": [
    {
     "name": "stdout",
     "output_type": "stream",
     "text": [
      "BrandName: 50\n",
      "ProductName: 50\n",
      "ProductMRP: 50\n",
      "ProductSellingPrice: 50\n",
      "ProductRating: 50\n",
      "ProductRatingCount: 50\n"
     ]
    }
   ],
   "source": [
    "# for Mens Jeans\n",
    "from selenium import webdriver\n",
    "# from time import sleep\n",
    "\n",
    "browser = webdriver.Chrome()\n",
    "# this URL is only for the Category of Mens Tshirt\n",
    "browser.get('https://www.myntra.com/men-jeans')\n",
    "\n",
    "EntireData = {\n",
    "    'BrandName': [],\n",
    "    'ProductName': [],\n",
    "    'ProductMRP': [],\n",
    "    'ProductSellingPrice': [],\n",
    "    'ProductRating': [],\n",
    "    'ProductRatingCount': []\n",
    "}\n",
    "\n",
    "# Loop through product cards\n",
    "products = browser.find_elements('xpath', \"//li[contains(@class,'product-base')]\")\n",
    "\n",
    "for product in products:\n",
    "    # Brand Name\n",
    "    try:\n",
    "        brand = product.find_element('xpath', \".//h3[contains(@class, 'product-brand')]\")\n",
    "        EntireData['BrandName'].append(brand.text)\n",
    "    except:\n",
    "        EntireData['BrandName'].append('')\n",
    "\n",
    "    # Product Name\n",
    "    try:\n",
    "        pname = product.find_element('xpath', \".//h4[contains(@class, 'product-product')]\")\n",
    "        EntireData['ProductName'].append(pname.text)\n",
    "    except:\n",
    "        EntireData['ProductName'].append('')\n",
    "\n",
    "    # Product MRP\n",
    "    try:\n",
    "        mrp = product.find_element('xpath', \".//span[contains(@class,'product-strike')]\")\n",
    "        EntireData['ProductMRP'].append(mrp.text)\n",
    "    except:\n",
    "        EntireData['ProductMRP'].append('0')\n",
    "\n",
    "    # Product Selling Price\n",
    "    try:\n",
    "        selling_price = product.find_element('xpath', \".//span[contains(@class,'product-discountedPrice')]\")\n",
    "        EntireData['ProductSellingPrice'].append(selling_price.text)\n",
    "    except:\n",
    "        EntireData['ProductSellingPrice'].append('0')\n",
    "\n",
    "    # Product Rating\n",
    "    try:\n",
    "        rating = product.find_element('xpath', \".//div[contains(@class,'product-ratingsContainer')]\")\n",
    "        EntireData['ProductRating'].append(rating.text.split('\\n')[0].strip())\n",
    "    except:\n",
    "        EntireData['ProductRating'].append('0')\n",
    "\n",
    "    # Product Rating Count\n",
    "    try:\n",
    "        rating_count = product.find_element('xpath', \".//div[contains(@class,'product-ratingsCount')]\")\n",
    "        EntireData['ProductRatingCount'].append(rating_count.text.split('\\n')[-1].strip())\n",
    "    except:\n",
    "        EntireData['ProductRatingCount'].append('0')\n",
    "\n",
    "\n",
    "# Check if all lists are equal in length\n",
    "print(\"BrandName:\", len(EntireData['BrandName']))\n",
    "print(\"ProductName:\", len(EntireData['ProductName']))\n",
    "print(\"ProductMRP:\", len(EntireData['ProductMRP']))\n",
    "print(\"ProductSellingPrice:\", len(EntireData['ProductSellingPrice']))\n",
    "print(\"ProductRating:\", len(EntireData['ProductRating']))\n",
    "print(\"ProductRatingCount:\", len(EntireData['ProductRatingCount']))\n",
    "\n",
    "import pandas as pd\n",
    "MyntraJeansMens = pd.DataFrame(EntireData)\n",
    "# MyntraJeansMens.to_csv('MensJeans.csv')"
   ]
  },
  {
   "cell_type": "code",
   "execution_count": 4,
   "id": "c0010d26",
   "metadata": {},
   "outputs": [
    {
     "name": "stdout",
     "output_type": "stream",
     "text": [
      "BrandName: 0\n",
      "ProductName: 0\n",
      "ProductMRP: 0\n",
      "ProductSellingPrice: 0\n",
      "ProductRating: 0\n",
      "ProductRatingCount: 0\n"
     ]
    }
   ],
   "source": [
    "# for Mens Casual Shoes\n",
    "from selenium import webdriver\n",
    "# from time import sleep\n",
    "\n",
    "browser = webdriver.Chrome()\n",
    "# this URL is only for the Category of Mens Tshirt\n",
    "browser.get('https://www.myntra.com/men-casual-shoes')\n",
    "\n",
    "EntireData = {\n",
    "    'BrandName': [],\n",
    "    'ProductName': [],\n",
    "    'ProductMRP': [],\n",
    "    'ProductSellingPrice': [],\n",
    "    'ProductRating': [],\n",
    "    'ProductRatingCount': []\n",
    "}\n",
    "\n",
    "# Loop through product cards\n",
    "products = browser.find_elements('xpath', \"//li[contains(@class,'product-base')]\")\n",
    "\n",
    "for product in products:\n",
    "    # Brand Name\n",
    "    try:\n",
    "        brand = product.find_element('xpath', \".//h3[contains(@class, 'product-brand')]\")\n",
    "        EntireData['BrandName'].append(brand.text)\n",
    "    except:\n",
    "        EntireData['BrandName'].append('')\n",
    "\n",
    "    # Product Name\n",
    "    try:\n",
    "        pname = product.find_element('xpath', \".//h4[contains(@class, 'product-product')]\")\n",
    "        EntireData['ProductName'].append(pname.text)\n",
    "    except:\n",
    "        EntireData['ProductName'].append('')\n",
    "\n",
    "    # Product MRP\n",
    "    try:\n",
    "        mrp = product.find_element('xpath', \".//span[contains(@class,'product-strike')]\")\n",
    "        EntireData['ProductMRP'].append(mrp.text)\n",
    "    except:\n",
    "        EntireData['ProductMRP'].append('0')\n",
    "\n",
    "    # Product Selling Price\n",
    "    try:\n",
    "        selling_price = product.find_element('xpath', \".//span[contains(@class,'product-discountedPrice')]\")\n",
    "        EntireData['ProductSellingPrice'].append(selling_price.text)\n",
    "    except:\n",
    "        EntireData['ProductSellingPrice'].append('0')\n",
    "\n",
    "    # Product Rating\n",
    "    try:\n",
    "        rating = product.find_element('xpath', \".//div[contains(@class,'product-ratingsContainer')]\")\n",
    "        EntireData['ProductRating'].append(rating.text.split('\\n')[0].strip())\n",
    "    except:\n",
    "        EntireData['ProductRating'].append('0')\n",
    "\n",
    "    # Product Rating Count\n",
    "    try:\n",
    "        rating_count = product.find_element('xpath', \".//div[contains(@class,'product-ratingsCount')]\")\n",
    "        EntireData['ProductRatingCount'].append(rating_count.text.split('\\n')[-1].strip())\n",
    "    except:\n",
    "        EntireData['ProductRatingCount'].append('0')\n",
    "\n",
    "\n",
    "# Check if all lists are equal in length\n",
    "print(\"BrandName:\", len(EntireData['BrandName']))\n",
    "print(\"ProductName:\", len(EntireData['ProductName']))\n",
    "print(\"ProductMRP:\", len(EntireData['ProductMRP']))\n",
    "print(\"ProductSellingPrice:\", len(EntireData['ProductSellingPrice']))\n",
    "print(\"ProductRating:\", len(EntireData['ProductRating']))\n",
    "print(\"ProductRatingCount:\", len(EntireData['ProductRatingCount']))\n",
    "\n",
    "import pandas as pd\n",
    "MyntraCasualShoesMens = pd.DataFrame(EntireData)\n",
    "# MyntraCasualShoesMens.to_csv('MensCasualShoes.csv')"
   ]
  },
  {
   "cell_type": "code",
   "execution_count": 5,
   "id": "7fd98e24",
   "metadata": {},
   "outputs": [
    {
     "name": "stdout",
     "output_type": "stream",
     "text": [
      "BrandName: 50\n",
      "ProductName: 50\n",
      "ProductMRP: 50\n",
      "ProductSellingPrice: 50\n",
      "ProductRating: 50\n",
      "ProductRatingCount: 50\n"
     ]
    }
   ],
   "source": [
    "# for Mens Sport Shoes\n",
    "from selenium import webdriver\n",
    "# from time import sleep\n",
    "\n",
    "browser = webdriver.Chrome()\n",
    "# this URL is only for the Category of Mens Tshirt\n",
    "browser.get('https://www.myntra.com/men-sports-shoes')\n",
    "\n",
    "EntireData = {\n",
    "    'BrandName': [],\n",
    "    'ProductName': [],\n",
    "    'ProductMRP': [],\n",
    "    'ProductSellingPrice': [],\n",
    "    'ProductRating': [],\n",
    "    'ProductRatingCount': []\n",
    "}\n",
    "\n",
    "# Loop through product cards\n",
    "products = browser.find_elements('xpath', \"//li[contains(@class,'product-base')]\")\n",
    "\n",
    "for product in products:\n",
    "    # Brand Name\n",
    "    try:\n",
    "        brand = product.find_element('xpath', \".//h3[contains(@class, 'product-brand')]\")\n",
    "        EntireData['BrandName'].append(brand.text)\n",
    "    except:\n",
    "        EntireData['BrandName'].append('')\n",
    "\n",
    "    # Product Name\n",
    "    try:\n",
    "        pname = product.find_element('xpath', \".//h4[contains(@class, 'product-product')]\")\n",
    "        EntireData['ProductName'].append(pname.text)\n",
    "    except:\n",
    "        EntireData['ProductName'].append('')\n",
    "\n",
    "    # Product MRP\n",
    "    try:\n",
    "        mrp = product.find_element('xpath', \".//span[contains(@class,'product-strike')]\")\n",
    "        EntireData['ProductMRP'].append(mrp.text)\n",
    "    except:\n",
    "        EntireData['ProductMRP'].append('0')\n",
    "\n",
    "    # Product Selling Price\n",
    "    try:\n",
    "        selling_price = product.find_element('xpath', \".//span[contains(@class,'product-discountedPrice')]\")\n",
    "        EntireData['ProductSellingPrice'].append(selling_price.text)\n",
    "    except:\n",
    "        EntireData['ProductSellingPrice'].append('0')\n",
    "\n",
    "    # Product Rating\n",
    "    try:\n",
    "        rating = product.find_element('xpath', \".//div[contains(@class,'product-ratingsContainer')]\")\n",
    "        EntireData['ProductRating'].append(rating.text.split('\\n')[0].strip())\n",
    "    except:\n",
    "        EntireData['ProductRating'].append('0')\n",
    "\n",
    "    # Product Rating Count\n",
    "    try:\n",
    "        rating_count = product.find_element('xpath', \".//div[contains(@class,'product-ratingsCount')]\")\n",
    "        EntireData['ProductRatingCount'].append(rating_count.text.split('\\n')[-1].strip())\n",
    "    except:\n",
    "        EntireData['ProductRatingCount'].append('0')\n",
    "\n",
    "\n",
    "# Check if all lists are equal in length\n",
    "print(\"BrandName:\", len(EntireData['BrandName']))\n",
    "print(\"ProductName:\", len(EntireData['ProductName']))\n",
    "print(\"ProductMRP:\", len(EntireData['ProductMRP']))\n",
    "print(\"ProductSellingPrice:\", len(EntireData['ProductSellingPrice']))\n",
    "print(\"ProductRating:\", len(EntireData['ProductRating']))\n",
    "print(\"ProductRatingCount:\", len(EntireData['ProductRatingCount']))\n",
    "\n",
    "import pandas as pd\n",
    "MyntraSportsShoesMens = pd.DataFrame(EntireData)\n",
    "# MyntraSportsShoesMens.to_csv('MensSportsShoes.csv')"
   ]
  },
  {
   "cell_type": "code",
   "execution_count": 6,
   "id": "4b1b98c4",
   "metadata": {},
   "outputs": [
    {
     "name": "stdout",
     "output_type": "stream",
     "text": [
      "BrandName: 50\n",
      "ProductName: 50\n",
      "ProductMRP: 50\n",
      "ProductSellingPrice: 50\n",
      "ProductRating: 50\n",
      "ProductRatingCount: 50\n"
     ]
    }
   ],
   "source": [
    "# for Mens Wallets\n",
    "from selenium import webdriver\n",
    "# from time import sleep\n",
    "\n",
    "browser = webdriver.Chrome()\n",
    "# this URL is only for the Category of Mens Tshirt\n",
    "browser.get('https://www.myntra.com/men-wallets')\n",
    "\n",
    "EntireData = {\n",
    "    'BrandName': [],\n",
    "    'ProductName': [],\n",
    "    'ProductMRP': [],\n",
    "    'ProductSellingPrice': [],\n",
    "    'ProductRating': [],\n",
    "    'ProductRatingCount': []\n",
    "}\n",
    "\n",
    "# Loop through product cards\n",
    "products = browser.find_elements('xpath', \"//li[contains(@class,'product-base')]\")\n",
    "\n",
    "for product in products:\n",
    "    # Brand Name\n",
    "    try:\n",
    "        brand = product.find_element('xpath', \".//h3[contains(@class, 'product-brand')]\")\n",
    "        EntireData['BrandName'].append(brand.text)\n",
    "    except:\n",
    "        EntireData['BrandName'].append('')\n",
    "\n",
    "    # Product Name\n",
    "    try:\n",
    "        pname = product.find_element('xpath', \".//h4[contains(@class, 'product-product')]\")\n",
    "        EntireData['ProductName'].append(pname.text)\n",
    "    except:\n",
    "        EntireData['ProductName'].append('')\n",
    "\n",
    "    # Product MRP\n",
    "    try:\n",
    "        mrp = product.find_element('xpath', \".//span[contains(@class,'product-strike')]\")\n",
    "        EntireData['ProductMRP'].append(mrp.text)\n",
    "    except:\n",
    "        EntireData['ProductMRP'].append('0')\n",
    "\n",
    "    # Product Selling Price\n",
    "    try:\n",
    "        selling_price = product.find_element('xpath', \".//span[contains(@class,'product-discountedPrice')]\")\n",
    "        EntireData['ProductSellingPrice'].append(selling_price.text)\n",
    "    except:\n",
    "        EntireData['ProductSellingPrice'].append('0')\n",
    "\n",
    "    # Product Rating\n",
    "    try:\n",
    "        rating = product.find_element('xpath', \".//div[contains(@class,'product-ratingsContainer')]\")\n",
    "        EntireData['ProductRating'].append(rating.text.split('\\n')[0].strip())\n",
    "    except:\n",
    "        EntireData['ProductRating'].append('0')\n",
    "\n",
    "    # Product Rating Count\n",
    "    try:\n",
    "        rating_count = product.find_element('xpath', \".//div[contains(@class,'product-ratingsCount')]\")\n",
    "        EntireData['ProductRatingCount'].append(rating_count.text.split('\\n')[-1].strip())\n",
    "    except:\n",
    "        EntireData['ProductRatingCount'].append('0')\n",
    "\n",
    "\n",
    "# Check if all lists are equal in length\n",
    "print(\"BrandName:\", len(EntireData['BrandName']))\n",
    "print(\"ProductName:\", len(EntireData['ProductName']))\n",
    "print(\"ProductMRP:\", len(EntireData['ProductMRP']))\n",
    "print(\"ProductSellingPrice:\", len(EntireData['ProductSellingPrice']))\n",
    "print(\"ProductRating:\", len(EntireData['ProductRating']))\n",
    "print(\"ProductRatingCount:\", len(EntireData['ProductRatingCount']))\n",
    "\n",
    "import pandas as pd\n",
    "MyntraWalletsMens = pd.DataFrame(EntireData)\n",
    "# MyntraWalletsMens.to_csv('MensWallets.csv')"
   ]
  },
  {
   "cell_type": "code",
   "execution_count": 7,
   "id": "07ad5ad5",
   "metadata": {},
   "outputs": [
    {
     "name": "stdout",
     "output_type": "stream",
     "text": [
      "BrandName: 50\n",
      "ProductName: 50\n",
      "ProductMRP: 50\n",
      "ProductSellingPrice: 50\n",
      "ProductRating: 50\n",
      "ProductRatingCount: 50\n"
     ]
    }
   ],
   "source": [
    "# for Mens Kurtas\n",
    "from selenium import webdriver\n",
    "# from time import sleep\n",
    "\n",
    "browser = webdriver.Chrome()\n",
    "# this URL is only for the Category of Mens Tshirt\n",
    "browser.get('https://www.myntra.com/men-kurtas')\n",
    "\n",
    "EntireData = {\n",
    "    'BrandName': [],\n",
    "    'ProductName': [],\n",
    "    'ProductMRP': [],\n",
    "    'ProductSellingPrice': [],\n",
    "    'ProductRating': [],\n",
    "    'ProductRatingCount': []\n",
    "}\n",
    "\n",
    "# Loop through product cards\n",
    "products = browser.find_elements('xpath', \"//li[contains(@class,'product-base')]\")\n",
    "\n",
    "for product in products:\n",
    "    # Brand Name\n",
    "    try:\n",
    "        brand = product.find_element('xpath', \".//h3[contains(@class, 'product-brand')]\")\n",
    "        EntireData['BrandName'].append(brand.text)\n",
    "    except:\n",
    "        EntireData['BrandName'].append('')\n",
    "\n",
    "    # Product Name\n",
    "    try:\n",
    "        pname = product.find_element('xpath', \".//h4[contains(@class, 'product-product')]\")\n",
    "        EntireData['ProductName'].append(pname.text)\n",
    "    except:\n",
    "        EntireData['ProductName'].append('')\n",
    "\n",
    "    # Product MRP\n",
    "    try:\n",
    "        mrp = product.find_element('xpath', \".//span[contains(@class,'product-strike')]\")\n",
    "        EntireData['ProductMRP'].append(mrp.text)\n",
    "    except:\n",
    "        EntireData['ProductMRP'].append('0')\n",
    "\n",
    "    # Product Selling Price\n",
    "    try:\n",
    "        selling_price = product.find_element('xpath', \".//span[contains(@class,'product-discountedPrice')]\")\n",
    "        EntireData['ProductSellingPrice'].append(selling_price.text)\n",
    "    except:\n",
    "        EntireData['ProductSellingPrice'].append('0')\n",
    "\n",
    "    # Product Rating\n",
    "    try:\n",
    "        rating = product.find_element('xpath', \".//div[contains(@class,'product-ratingsContainer')]\")\n",
    "        EntireData['ProductRating'].append(rating.text.split('\\n')[0].strip())\n",
    "    except:\n",
    "        EntireData['ProductRating'].append('0')\n",
    "\n",
    "    # Product Rating Count\n",
    "    try:\n",
    "        rating_count = product.find_element('xpath', \".//div[contains(@class,'product-ratingsCount')]\")\n",
    "        EntireData['ProductRatingCount'].append(rating_count.text.split('\\n')[-1].strip())\n",
    "    except:\n",
    "        EntireData['ProductRatingCount'].append('0')\n",
    "\n",
    "\n",
    "# Check if all lists are equal in length\n",
    "print(\"BrandName:\", len(EntireData['BrandName']))\n",
    "print(\"ProductName:\", len(EntireData['ProductName']))\n",
    "print(\"ProductMRP:\", len(EntireData['ProductMRP']))\n",
    "print(\"ProductSellingPrice:\", len(EntireData['ProductSellingPrice']))\n",
    "print(\"ProductRating:\", len(EntireData['ProductRating']))\n",
    "print(\"ProductRatingCount:\", len(EntireData['ProductRatingCount']))\n",
    "\n",
    "import pandas as pd\n",
    "MyntraKurtasMens = pd.DataFrame(EntireData)\n",
    "# MyntraKurtasMens.to_csv('MensKurtas.csv')"
   ]
  },
  {
   "cell_type": "code",
   "execution_count": 8,
   "id": "4ff81fc8",
   "metadata": {},
   "outputs": [
    {
     "name": "stdout",
     "output_type": "stream",
     "text": [
      "BrandName: 50\n",
      "ProductName: 50\n",
      "ProductMRP: 50\n",
      "ProductSellingPrice: 50\n",
      "ProductRating: 50\n",
      "ProductRatingCount: 50\n"
     ]
    }
   ],
   "source": [
    "# for Mens briefs-and-trunks\n",
    "from selenium import webdriver\n",
    "# from time import sleep\n",
    "\n",
    "browser = webdriver.Chrome()\n",
    "# this URL is only for the Category of Mens Tshirt\n",
    "browser.get('https://www.myntra.com/men-briefs-and-trunks')\n",
    "\n",
    "EntireData = {\n",
    "    'BrandName': [],\n",
    "    'ProductName': [],\n",
    "    'ProductMRP': [],\n",
    "    'ProductSellingPrice': [],\n",
    "    'ProductRating': [],\n",
    "    'ProductRatingCount': []\n",
    "}\n",
    "\n",
    "# Loop through product cards\n",
    "products = browser.find_elements('xpath', \"//li[contains(@class,'product-base')]\")\n",
    "\n",
    "for product in products:\n",
    "    # Brand Name\n",
    "    try:\n",
    "        brand = product.find_element('xpath', \".//h3[contains(@class, 'product-brand')]\")\n",
    "        EntireData['BrandName'].append(brand.text)\n",
    "    except:\n",
    "        EntireData['BrandName'].append('')\n",
    "\n",
    "    # Product Name\n",
    "    try:\n",
    "        pname = product.find_element('xpath', \".//h4[contains(@class, 'product-product')]\")\n",
    "        EntireData['ProductName'].append(pname.text)\n",
    "    except:\n",
    "        EntireData['ProductName'].append('')\n",
    "\n",
    "    # Product MRP\n",
    "    try:\n",
    "        mrp = product.find_element('xpath', \".//span[contains(@class,'product-strike')]\")\n",
    "        EntireData['ProductMRP'].append(mrp.text)\n",
    "    except:\n",
    "        EntireData['ProductMRP'].append('0')\n",
    "\n",
    "    # Product Selling Price\n",
    "    try:\n",
    "        selling_price = product.find_element('xpath', \".//span[contains(@class,'product-discountedPrice')]\")\n",
    "        EntireData['ProductSellingPrice'].append(selling_price.text)\n",
    "    except:\n",
    "        EntireData['ProductSellingPrice'].append('0')\n",
    "\n",
    "    # Product Rating\n",
    "    try:\n",
    "        rating = product.find_element('xpath', \".//div[contains(@class,'product-ratingsContainer')]\")\n",
    "        EntireData['ProductRating'].append(rating.text.split('\\n')[0].strip())\n",
    "    except:\n",
    "        EntireData['ProductRating'].append('0')\n",
    "\n",
    "    # Product Rating Count\n",
    "    try:\n",
    "        rating_count = product.find_element('xpath', \".//div[contains(@class,'product-ratingsCount')]\")\n",
    "        EntireData['ProductRatingCount'].append(rating_count.text.split('\\n')[-1].strip())\n",
    "    except:\n",
    "        EntireData['ProductRatingCount'].append('0')\n",
    "\n",
    "\n",
    "# Check if all lists are equal in length\n",
    "print(\"BrandName:\", len(EntireData['BrandName']))\n",
    "print(\"ProductName:\", len(EntireData['ProductName']))\n",
    "print(\"ProductMRP:\", len(EntireData['ProductMRP']))\n",
    "print(\"ProductSellingPrice:\", len(EntireData['ProductSellingPrice']))\n",
    "print(\"ProductRating:\", len(EntireData['ProductRating']))\n",
    "print(\"ProductRatingCount:\", len(EntireData['ProductRatingCount']))\n",
    "\n",
    "import pandas as pd\n",
    "MyntraTrunksMens = pd.DataFrame(EntireData)\n",
    "# MyntraTrunksMens.to_csv('MenTrunks.csv')"
   ]
  },
  {
   "cell_type": "code",
   "execution_count": 9,
   "id": "3eb315f8",
   "metadata": {},
   "outputs": [],
   "source": [
    "# for Mens SmartWatches\n",
    "from selenium import webdriver\n",
    "# from time import sleep\n",
    "\n",
    "browser = webdriver.Chrome()\n",
    "# this URL is only for the Category of Mens Tshirt\n",
    "browser.get('https://www.myntra.com/smart-wearables')\n",
    "\n",
    "EntireData = {\n",
    "    'BrandName': [],\n",
    "    'ProductName': [],\n",
    "    'ProductMRP': [],\n",
    "    'ProductSellingPrice': [],\n",
    "    'ProductRating': [],\n",
    "    'ProductRatingCount': []\n",
    "}\n",
    "\n",
    "# Loop through product cards\n",
    "products = browser.find_elements('xpath', \"//li[contains(@class,'product-base')]\")\n",
    "\n",
    "for product in products:\n",
    "    # Brand Name\n",
    "    try:\n",
    "        brand = product.find_element('xpath', \".//h3[contains(@class, 'product-brand')]\")\n",
    "        EntireData['BrandName'].append(brand.text)\n",
    "    except:\n",
    "        EntireData['BrandName'].append('')\n",
    "\n",
    "    # Product Name\n",
    "    try:\n",
    "        pname = product.find_element('xpath', \".//h4[contains(@class, 'product-product')]\")\n",
    "        EntireData['ProductName'].append(pname.text)\n",
    "    except:\n",
    "        EntireData['ProductName'].append('')\n",
    "\n",
    "    # Product MRP\n",
    "    try:\n",
    "        mrp = product.find_element('xpath', \".//span[contains(@class,'product-strike')]\")\n",
    "        EntireData['ProductMRP'].append(mrp.text)\n",
    "    except:\n",
    "        EntireData['ProductMRP'].append('0')\n",
    "\n",
    "    # Product Selling Price\n",
    "    try:\n",
    "        selling_price = product.find_element('xpath', \".//span[contains(@class,'product-discountedPrice')]\")\n",
    "        EntireData['ProductSellingPrice'].append(selling_price.text)\n",
    "    except:\n",
    "        EntireData['ProductSellingPrice'].append('0')\n",
    "\n",
    "    # Product Rating\n",
    "    try:\n",
    "        rating = product.find_element('xpath', \".//div[contains(@class,'product-ratingsContainer')]\")\n",
    "        EntireData['ProductRating'].append(rating.text.split('\\n')[0].strip())\n",
    "    except:\n",
    "        EntireData['ProductRating'].append('0')\n",
    "\n",
    "    # Product Rating Count\n",
    "    try:\n",
    "        rating_count = product.find_element('xpath', \".//div[contains(@class,'product-ratingsCount')]\")\n",
    "        EntireData['ProductRatingCount'].append(rating_count.text.split('\\n')[-1].strip())\n",
    "    except:\n",
    "        EntireData['ProductRatingCount'].append('0')\n",
    "\n",
    "\n",
    "browser.quit()\n",
    "import pandas as pd\n",
    "MyntraSmartWatchsMens = pd.DataFrame(EntireData)\n",
    "# MyntraSmartWatchsMens.to_csv('MensSmartWatchs.csv')"
   ]
  },
  {
   "cell_type": "code",
   "execution_count": 10,
   "id": "0d622e05",
   "metadata": {},
   "outputs": [],
   "source": [
    "# for Mens SmartWatches\n",
    "from selenium import webdriver\n",
    "# from time import sleep\n",
    "\n",
    "browser = webdriver.Chrome()\n",
    "# this URL is only for the Category of Mens Tshirt\n",
    "browser.get('https://www.myntra.com/women-kurtas-kurtis-suits')\n",
    "\n",
    "EntireData = {\n",
    "    'BrandName': [],\n",
    "    'ProductName': [],\n",
    "    'ProductMRP': [],\n",
    "    'ProductSellingPrice': [],\n",
    "    'ProductRating': [],\n",
    "    'ProductRatingCount': []\n",
    "}\n",
    "\n",
    "# Loop through product cards\n",
    "products = browser.find_elements('xpath', \"//li[contains(@class,'product-base')]\")\n",
    "\n",
    "for product in products:\n",
    "    # Brand Name\n",
    "    try:\n",
    "        brand = product.find_element('xpath', \".//h3[contains(@class, 'product-brand')]\")\n",
    "        EntireData['BrandName'].append(brand.text)\n",
    "    except:\n",
    "        EntireData['BrandName'].append('')\n",
    "\n",
    "    # Product Name\n",
    "    try:\n",
    "        pname = product.find_element('xpath', \".//h4[contains(@class, 'product-product')]\")\n",
    "        EntireData['ProductName'].append(pname.text)\n",
    "    except:\n",
    "        EntireData['ProductName'].append('')\n",
    "\n",
    "    # Product MRP\n",
    "    try:\n",
    "        mrp = product.find_element('xpath', \".//span[contains(@class,'product-strike')]\")\n",
    "        EntireData['ProductMRP'].append(mrp.text)\n",
    "    except:\n",
    "        EntireData['ProductMRP'].append('0')\n",
    "\n",
    "    # Product Selling Price\n",
    "    try:\n",
    "        selling_price = product.find_element('xpath', \".//span[contains(@class,'product-discountedPrice')]\")\n",
    "        EntireData['ProductSellingPrice'].append(selling_price.text)\n",
    "    except:\n",
    "        EntireData['ProductSellingPrice'].append('0')\n",
    "\n",
    "    # Product Rating\n",
    "    try:\n",
    "        rating = product.find_element('xpath', \".//div[contains(@class,'product-ratingsContainer')]\")\n",
    "        EntireData['ProductRating'].append(rating.text.split('\\n')[0].strip())\n",
    "    except:\n",
    "        EntireData['ProductRating'].append('0')\n",
    "\n",
    "    # Product Rating Count\n",
    "    try:\n",
    "        rating_count = product.find_element('xpath', \".//div[contains(@class,'product-ratingsCount')]\")\n",
    "        EntireData['ProductRatingCount'].append(rating_count.text.split('\\n')[-1].strip())\n",
    "    except:\n",
    "        EntireData['ProductRatingCount'].append('0')\n",
    "\n",
    "\n",
    "browser.quit()\n",
    "import pandas as pd\n",
    "MyntraKurtasWomens = pd.DataFrame(EntireData)\n",
    "# MyntraKurtasWomens.to_csv('Womenskurtass.csv')"
   ]
  },
  {
   "cell_type": "code",
   "execution_count": 11,
   "id": "58f133ec",
   "metadata": {},
   "outputs": [],
   "source": [
    "# for Mens SmartWatches\n",
    "from selenium import webdriver\n",
    "# from time import sleep\n",
    "\n",
    "browser = webdriver.Chrome()\n",
    "# this URL is only for the Category of Mens Tshirt\n",
    "browser.get('https://www.myntra.com/women-jeans')\n",
    "\n",
    "EntireData = {\n",
    "    'BrandName': [],\n",
    "    'ProductName': [],\n",
    "    'ProductMRP': [],\n",
    "    'ProductSellingPrice': [],\n",
    "    'ProductRating': [],\n",
    "    'ProductRatingCount': []\n",
    "}\n",
    "\n",
    "# Loop through product cards\n",
    "products = browser.find_elements('xpath', \"//li[contains(@class,'product-base')]\")\n",
    "\n",
    "for product in products:\n",
    "    # Brand Name\n",
    "    try:\n",
    "        brand = product.find_element('xpath', \".//h3[contains(@class, 'product-brand')]\")\n",
    "        EntireData['BrandName'].append(brand.text)\n",
    "    except:\n",
    "        EntireData['BrandName'].append('')\n",
    "\n",
    "    # Product Name\n",
    "    try:\n",
    "        pname = product.find_element('xpath', \".//h4[contains(@class, 'product-product')]\")\n",
    "        EntireData['ProductName'].append(pname.text)\n",
    "    except:\n",
    "        EntireData['ProductName'].append('')\n",
    "\n",
    "    # Product MRP\n",
    "    try:\n",
    "        mrp = product.find_element('xpath', \".//span[contains(@class,'product-strike')]\")\n",
    "        EntireData['ProductMRP'].append(mrp.text)\n",
    "    except:\n",
    "        EntireData['ProductMRP'].append('0')\n",
    "\n",
    "    # Product Selling Price\n",
    "    try:\n",
    "        selling_price = product.find_element('xpath', \".//span[contains(@class,'product-discountedPrice')]\")\n",
    "        EntireData['ProductSellingPrice'].append(selling_price.text)\n",
    "    except:\n",
    "        EntireData['ProductSellingPrice'].append('0')\n",
    "\n",
    "    # Product Rating\n",
    "    try:\n",
    "        rating = product.find_element('xpath', \".//div[contains(@class,'product-ratingsContainer')]\")\n",
    "        EntireData['ProductRating'].append(rating.text.split('\\n')[0].strip())\n",
    "    except:\n",
    "        EntireData['ProductRating'].append('0')\n",
    "\n",
    "    # Product Rating Count\n",
    "    try:\n",
    "        rating_count = product.find_element('xpath', \".//div[contains(@class,'product-ratingsCount')]\")\n",
    "        EntireData['ProductRatingCount'].append(rating_count.text.split('\\n')[-1].strip())\n",
    "    except:\n",
    "        EntireData['ProductRatingCount'].append('0')\n",
    "\n",
    "\n",
    "browser.quit()\n",
    "import pandas as pd\n",
    "MyntraJeansWomens = pd.DataFrame(EntireData)\n",
    "# MyntraJeansWomens.to_csv('WomensJeans.csv')"
   ]
  },
  {
   "cell_type": "code",
   "execution_count": 12,
   "id": "6b7d24f3",
   "metadata": {},
   "outputs": [],
   "source": [
    "# for Mens SmartWatches\n",
    "from selenium import webdriver\n",
    "# from time import sleep\n",
    "\n",
    "browser = webdriver.Chrome()\n",
    "# this URL is only for the Category of Mens Tshirt\n",
    "browser.get('https://www.myntra.com/flats')\n",
    "\n",
    "EntireData = {\n",
    "    'BrandName': [],\n",
    "    'ProductName': [],\n",
    "    'ProductMRP': [],\n",
    "    'ProductSellingPrice': [],\n",
    "    'ProductRating': [],\n",
    "    'ProductRatingCount': []\n",
    "}\n",
    "\n",
    "# Loop through product cards\n",
    "products = browser.find_elements('xpath', \"//li[contains(@class,'product-base')]\")\n",
    "\n",
    "for product in products:\n",
    "    # Brand Name\n",
    "    try:\n",
    "        brand = product.find_element('xpath', \".//h3[contains(@class, 'product-brand')]\")\n",
    "        EntireData['BrandName'].append(brand.text)\n",
    "    except:\n",
    "        EntireData['BrandName'].append('')\n",
    "\n",
    "    # Product Name\n",
    "    try:\n",
    "        pname = product.find_element('xpath', \".//h4[contains(@class, 'product-product')]\")\n",
    "        EntireData['ProductName'].append(pname.text)\n",
    "    except:\n",
    "        EntireData['ProductName'].append('')\n",
    "\n",
    "    # Product MRP\n",
    "    try:\n",
    "        mrp = product.find_element('xpath', \".//span[contains(@class,'product-strike')]\")\n",
    "        EntireData['ProductMRP'].append(mrp.text)\n",
    "    except:\n",
    "        EntireData['ProductMRP'].append('0')\n",
    "\n",
    "    # Product Selling Price\n",
    "    try:\n",
    "        selling_price = product.find_element('xpath', \".//span[contains(@class,'product-discountedPrice')]\")\n",
    "        EntireData['ProductSellingPrice'].append(selling_price.text)\n",
    "    except:\n",
    "        EntireData['ProductSellingPrice'].append('0')\n",
    "\n",
    "    # Product Rating\n",
    "    try:\n",
    "        rating = product.find_element('xpath', \".//div[contains(@class,'product-ratingsContainer')]\")\n",
    "        EntireData['ProductRating'].append(rating.text.split('\\n')[0].strip())\n",
    "    except:\n",
    "        EntireData['ProductRating'].append('0')\n",
    "\n",
    "    # Product Rating Count\n",
    "    try:\n",
    "        rating_count = product.find_element('xpath', \".//div[contains(@class,'product-ratingsCount')]\")\n",
    "        EntireData['ProductRatingCount'].append(rating_count.text.split('\\n')[-1].strip())\n",
    "    except:\n",
    "        EntireData['ProductRatingCount'].append('0')\n",
    "\n",
    "\n",
    "# browser.quit()\n",
    "import pandas as pd\n",
    "MyntraFlatsWomens = pd.DataFrame(EntireData)\n",
    "# MyntraFlatsWomens.to_csv('WomensFlats.csv')"
   ]
  },
  {
   "cell_type": "code",
   "execution_count": 13,
   "id": "5c2084f0",
   "metadata": {},
   "outputs": [],
   "source": [
    "# for Mens SmartWatches\n",
    "from selenium import webdriver\n",
    "# from time import sleep\n",
    "\n",
    "browser = webdriver.Chrome()\n",
    "# this URL is only for the Category of Mens Tshirt\n",
    "browser.get('https://www.myntra.com/women-sportswear-clothing')\n",
    "\n",
    "EntireData = {\n",
    "    'BrandName': [],\n",
    "    'ProductName': [],\n",
    "    'ProductMRP': [],\n",
    "    'ProductSellingPrice': [],\n",
    "    'ProductRating': [],\n",
    "    'ProductRatingCount': []\n",
    "}\n",
    "\n",
    "# Loop through product cards\n",
    "products = browser.find_elements('xpath', \"//li[contains(@class,'product-base')]\")\n",
    "\n",
    "for product in products:\n",
    "    # Brand Name\n",
    "    try:\n",
    "        brand = product.find_element('xpath', \".//h3[contains(@class, 'product-brand')]\")\n",
    "        EntireData['BrandName'].append(brand.text)\n",
    "    except:\n",
    "        EntireData['BrandName'].append('')\n",
    "\n",
    "    # Product Name\n",
    "    try:\n",
    "        pname = product.find_element('xpath', \".//h4[contains(@class, 'product-product')]\")\n",
    "        EntireData['ProductName'].append(pname.text)\n",
    "    except:\n",
    "        EntireData['ProductName'].append('')\n",
    "\n",
    "    # Product MRP\n",
    "    try:\n",
    "        mrp = product.find_element('xpath', \".//span[contains(@class,'product-strike')]\")\n",
    "        EntireData['ProductMRP'].append(mrp.text)\n",
    "    except:\n",
    "        EntireData['ProductMRP'].append('0')\n",
    "\n",
    "    # Product Selling Price\n",
    "    try:\n",
    "        selling_price = product.find_element('xpath', \".//span[contains(@class,'product-discountedPrice')]\")\n",
    "        EntireData['ProductSellingPrice'].append(selling_price.text)\n",
    "    except:\n",
    "        EntireData['ProductSellingPrice'].append('0')\n",
    "\n",
    "    # Product Rating\n",
    "    try:\n",
    "        rating = product.find_element('xpath', \".//div[contains(@class,'product-ratingsContainer')]\")\n",
    "        EntireData['ProductRating'].append(rating.text.split('\\n')[0].strip())\n",
    "    except:\n",
    "        EntireData['ProductRating'].append('0')\n",
    "\n",
    "    # Product Rating Count\n",
    "    try:\n",
    "        rating_count = product.find_element('xpath', \".//div[contains(@class,'product-ratingsCount')]\")\n",
    "        EntireData['ProductRatingCount'].append(rating_count.text.split('\\n')[-1].strip())\n",
    "    except:\n",
    "        EntireData['ProductRatingCount'].append('0')\n",
    "\n",
    "\n",
    "browser.quit()\n",
    "import pandas as pd\n",
    "MyntraSportsClothsWomens = pd.DataFrame(EntireData)\n",
    "# MyntraSportsClothsWomens.to_csv('WomensSportsCloths.csv')"
   ]
  },
  {
   "cell_type": "code",
   "execution_count": 14,
   "id": "571111a3",
   "metadata": {},
   "outputs": [],
   "source": [
    "# for Mens SmartWatches\n",
    "from selenium import webdriver\n",
    "# from time import sleep\n",
    "\n",
    "browser = webdriver.Chrome()\n",
    "# this URL is only for the Category of Mens Tshirt\n",
    "browser.get('https://www.myntra.com/makeup')\n",
    "\n",
    "EntireData = {\n",
    "    'BrandName': [],\n",
    "    'ProductName': [],\n",
    "    'ProductMRP': [],\n",
    "    'ProductSellingPrice': [],\n",
    "    'ProductRating': [],\n",
    "    'ProductRatingCount': []\n",
    "}\n",
    "\n",
    "# Loop through product cards\n",
    "products = browser.find_elements('xpath', \"//li[contains(@class,'product-base')]\")\n",
    "\n",
    "for product in products:\n",
    "    # Brand Name\n",
    "    try:\n",
    "        brand = product.find_element('xpath', \".//h3[contains(@class, 'product-brand')]\")\n",
    "        EntireData['BrandName'].append(brand.text)\n",
    "    except:\n",
    "        EntireData['BrandName'].append('')\n",
    "\n",
    "    # Product Name\n",
    "    try:\n",
    "        pname = product.find_element('xpath', \".//h4[contains(@class, 'product-product')]\")\n",
    "        EntireData['ProductName'].append(pname.text)\n",
    "    except:\n",
    "        EntireData['ProductName'].append('')\n",
    "\n",
    "    # Product MRP\n",
    "    try:\n",
    "        mrp = product.find_element('xpath', \".//span[contains(@class,'product-strike')]\")\n",
    "        EntireData['ProductMRP'].append(mrp.text)\n",
    "    except:\n",
    "        EntireData['ProductMRP'].append('0')\n",
    "\n",
    "    # Product Selling Price\n",
    "    try:\n",
    "        selling_price = product.find_element('xpath', \".//span[contains(@class,'product-discountedPrice')]\")\n",
    "        EntireData['ProductSellingPrice'].append(selling_price.text)\n",
    "    except:\n",
    "        EntireData['ProductSellingPrice'].append('0')\n",
    "\n",
    "    # Product Rating\n",
    "    try:\n",
    "        rating = product.find_element('xpath', \".//div[contains(@class,'product-ratingsContainer')]\")\n",
    "        EntireData['ProductRating'].append(rating.text.split('\\n')[0].strip())\n",
    "    except:\n",
    "        EntireData['ProductRating'].append('0')\n",
    "\n",
    "    # Product Rating Count\n",
    "    try:\n",
    "        rating_count = product.find_element('xpath', \".//div[contains(@class,'product-ratingsCount')]\")\n",
    "        EntireData['ProductRatingCount'].append(rating_count.text.split('\\n')[-1].strip())\n",
    "    except:\n",
    "        EntireData['ProductRatingCount'].append('0')\n",
    "\n",
    "\n",
    "# browser.quit()\n",
    "import pandas as pd\n",
    "MyntraMakeupWomens = pd.DataFrame(EntireData)\n",
    "# MyntraMakeupWomens.to_csv('WomensMakeups.csv')"
   ]
  },
  {
   "cell_type": "code",
   "execution_count": 15,
   "id": "af9bee23",
   "metadata": {},
   "outputs": [],
   "source": [
    "# for Mens SmartWatches\n",
    "from selenium import webdriver\n",
    "# from time import sleep\n",
    "\n",
    "browser = webdriver.Chrome()\n",
    "# this URL is only for the Category of Mens Tshirt\n",
    "browser.get('https://www.myntra.com/fashion-jewellery')\n",
    "\n",
    "EntireData = {\n",
    "    'BrandName': [],\n",
    "    'ProductName': [],\n",
    "    'ProductMRP': [],\n",
    "    'ProductSellingPrice': [],\n",
    "    'ProductRating': [],\n",
    "    'ProductRatingCount': []\n",
    "}\n",
    "\n",
    "# Loop through product cards\n",
    "products = browser.find_elements('xpath', \"//li[contains(@class,'product-base')]\")\n",
    "\n",
    "for product in products:\n",
    "    # Brand Name\n",
    "    try:\n",
    "        brand = product.find_element('xpath', \".//h3[contains(@class, 'product-brand')]\")\n",
    "        EntireData['BrandName'].append(brand.text)\n",
    "    except:\n",
    "        EntireData['BrandName'].append('')\n",
    "\n",
    "    # Product Name\n",
    "    try:\n",
    "        pname = product.find_element('xpath', \".//h4[contains(@class, 'product-product')]\")\n",
    "        EntireData['ProductName'].append(pname.text)\n",
    "    except:\n",
    "        EntireData['ProductName'].append('')\n",
    "\n",
    "    # Product MRP\n",
    "    try:\n",
    "        mrp = product.find_element('xpath', \".//span[contains(@class,'product-strike')]\")\n",
    "        EntireData['ProductMRP'].append(mrp.text)\n",
    "    except:\n",
    "        EntireData['ProductMRP'].append('0')\n",
    "\n",
    "    # Product Selling Price\n",
    "    try:\n",
    "        selling_price = product.find_element('xpath', \".//span[contains(@class,'product-discountedPrice')]\")\n",
    "        EntireData['ProductSellingPrice'].append(selling_price.text)\n",
    "    except:\n",
    "        EntireData['ProductSellingPrice'].append('0')\n",
    "\n",
    "    # Product Rating\n",
    "    try:\n",
    "        rating = product.find_element('xpath', \".//div[contains(@class,'product-ratingsContainer')]\")\n",
    "        EntireData['ProductRating'].append(rating.text.split('\\n')[0].strip())\n",
    "    except:\n",
    "        EntireData['ProductRating'].append('0')\n",
    "\n",
    "    # Product Rating Count\n",
    "    try:\n",
    "        rating_count = product.find_element('xpath', \".//div[contains(@class,'product-ratingsCount')]\")\n",
    "        EntireData['ProductRatingCount'].append(rating_count.text.split('\\n')[-1].strip())\n",
    "    except:\n",
    "        EntireData['ProductRatingCount'].append('0')\n",
    "\n",
    "\n",
    "# browser.quit()\n",
    "import pandas as pd\n",
    "MyntraJewelleryWomens = pd.DataFrame(EntireData)\n",
    "# MyntraJewelleryWomens.to_csv('WomensJewellery.csv')"
   ]
  },
  {
   "cell_type": "code",
   "execution_count": 16,
   "id": "ae09874d",
   "metadata": {},
   "outputs": [],
   "source": [
    "# for Mens SmartWatches\n",
    "from selenium import webdriver\n",
    "# from time import sleep\n",
    "\n",
    "browser = webdriver.Chrome()\n",
    "# this URL is only for the Category of Mens Tshirt\n",
    "browser.get('https://www.myntra.com/women-loungewear-and-nightwear')\n",
    "\n",
    "EntireData = {\n",
    "    'BrandName': [],\n",
    "    'ProductName': [],\n",
    "    'ProductMRP': [],\n",
    "    'ProductSellingPrice': [],\n",
    "    'ProductRating': [],\n",
    "    'ProductRatingCount': []\n",
    "}\n",
    "\n",
    "# Loop through product cards\n",
    "products = browser.find_elements('xpath', \"//li[contains(@class,'product-base')]\")\n",
    "\n",
    "for product in products:\n",
    "    # Brand Name\n",
    "    try:\n",
    "        brand = product.find_element('xpath', \".//h3[contains(@class, 'product-brand')]\")\n",
    "        EntireData['BrandName'].append(brand.text)\n",
    "    except:\n",
    "        EntireData['BrandName'].append('')\n",
    "\n",
    "    # Product Name\n",
    "    try:\n",
    "        pname = product.find_element('xpath', \".//h4[contains(@class, 'product-product')]\")\n",
    "        EntireData['ProductName'].append(pname.text)\n",
    "    except:\n",
    "        EntireData['ProductName'].append('')\n",
    "\n",
    "    # Product MRP\n",
    "    try:\n",
    "        mrp = product.find_element('xpath', \".//span[contains(@class,'product-strike')]\")\n",
    "        EntireData['ProductMRP'].append(mrp.text)\n",
    "    except:\n",
    "        EntireData['ProductMRP'].append('0')\n",
    "\n",
    "    # Product Selling Price\n",
    "    try:\n",
    "        selling_price = product.find_element('xpath', \".//span[contains(@class,'product-discountedPrice')]\")\n",
    "        EntireData['ProductSellingPrice'].append(selling_price.text)\n",
    "    except:\n",
    "        EntireData['ProductSellingPrice'].append('0')\n",
    "\n",
    "    # Product Rating\n",
    "    try:\n",
    "        rating = product.find_element('xpath', \".//div[contains(@class,'product-ratingsContainer')]\")\n",
    "        EntireData['ProductRating'].append(rating.text.split('\\n')[0].strip())\n",
    "    except:\n",
    "        EntireData['ProductRating'].append('0')\n",
    "\n",
    "    # Product Rating Count\n",
    "    try:\n",
    "        rating_count = product.find_element('xpath', \".//div[contains(@class,'product-ratingsCount')]\")\n",
    "        EntireData['ProductRatingCount'].append(rating_count.text.split('\\n')[-1].strip())\n",
    "    except:\n",
    "        EntireData['ProductRatingCount'].append('0')\n",
    "\n",
    "\n",
    "# browser.quit()\n",
    "import pandas as pd\n",
    "MyntraLoungewearWomens = pd.DataFrame(EntireData)\n",
    "# MyntraLoungewearWomens.to_csv('WomensLoungewear.csv')"
   ]
  },
  {
   "cell_type": "code",
   "execution_count": 17,
   "id": "a2a42570",
   "metadata": {},
   "outputs": [],
   "source": [
    "# import pandas as pd\n",
    "# import os\n",
    "\n",
    "# # Folder where your 10 CSVs are located\n",
    "# folder_path = 'D:\\Data Analyst\\Myntra'\n",
    "\n",
    "# # Get all CSV file names in the folder\n",
    "# csv_files = [f for f in os.listdir(folder_path) if f.endswith('.csv')]\n",
    "\n",
    "# # Create a list to hold each DataFrame\n",
    "# df_list = []\n",
    "\n",
    "# # Loop through files and read each into a DataFrame\n",
    "# for file in csv_files:\n",
    "#     file_path = os.path.join(folder_path, file)\n",
    "#     df = pd.read_csv(file_path)\n",
    "#     df_list.append(df)\n",
    "\n",
    "# # Combine all DataFrames into one\n",
    "# combined_df = pd.concat(df_list, ignore_index=True)\n",
    "\n",
    "# # Save the combined DataFrame to a new CSV file\n",
    "# output_path = os.path.join(folder_path, 'AllinOne.csv')\n",
    "# combined_df.to_csv(output_path, index=False)\n",
    "\n",
    "# print(f\"✅ All files combined into: {output_path}\")\n"
   ]
  },
  {
   "cell_type": "code",
   "execution_count": 18,
   "id": "ae3ac5a1",
   "metadata": {},
   "outputs": [],
   "source": [
    "# for Mens SmartWatches\n",
    "from selenium import webdriver\n",
    "# from time import sleep\n",
    "\n",
    "browser = webdriver.Chrome()\n",
    "# this URL is only for the Category of Mens Tshirt\n",
    "browser.get('https://www.myntra.com/boy-tshirts')\n",
    "\n",
    "EntireData = {\n",
    "    'BrandName': [],\n",
    "    'ProductName': [],\n",
    "    'ProductMRP': [],\n",
    "    'ProductSellingPrice': [],\n",
    "    'ProductRating': [],\n",
    "    'ProductRatingCount': []\n",
    "}\n",
    "\n",
    "# Loop through product cards\n",
    "products = browser.find_elements('xpath', \"//li[contains(@class,'product-base')]\")\n",
    "\n",
    "for product in products:\n",
    "    # Brand Name\n",
    "    try:\n",
    "        brand = product.find_element('xpath', \".//h3[contains(@class, 'product-brand')]\")\n",
    "        EntireData['BrandName'].append(brand.text)\n",
    "    except:\n",
    "        EntireData['BrandName'].append('')\n",
    "\n",
    "    # Product Name\n",
    "    try:\n",
    "        pname = product.find_element('xpath', \".//h4[contains(@class, 'product-product')]\")\n",
    "        EntireData['ProductName'].append(pname.text)\n",
    "    except:\n",
    "        EntireData['ProductName'].append('')\n",
    "\n",
    "    # Product MRP\n",
    "    try:\n",
    "        mrp = product.find_element('xpath', \".//span[contains(@class,'product-strike')]\")\n",
    "        EntireData['ProductMRP'].append(mrp.text)\n",
    "    except:\n",
    "        EntireData['ProductMRP'].append('0')\n",
    "\n",
    "    # Product Selling Price\n",
    "    try:\n",
    "        selling_price = product.find_element('xpath', \".//span[contains(@class,'product-discountedPrice')]\")\n",
    "        EntireData['ProductSellingPrice'].append(selling_price.text)\n",
    "    except:\n",
    "        EntireData['ProductSellingPrice'].append('0')\n",
    "\n",
    "    # Product Rating\n",
    "    try:\n",
    "        rating = product.find_element('xpath', \".//div[contains(@class,'product-ratingsContainer')]\")\n",
    "        EntireData['ProductRating'].append(rating.text.split('\\n')[0].strip())\n",
    "    except:\n",
    "        EntireData['ProductRating'].append('0')\n",
    "\n",
    "    # Product Rating Count\n",
    "    try:\n",
    "        rating_count = product.find_element('xpath', \".//div[contains(@class,'product-ratingsCount')]\")\n",
    "        EntireData['ProductRatingCount'].append(rating_count.text.split('\\n')[-1].strip())\n",
    "    except:\n",
    "        EntireData['ProductRatingCount'].append('0')\n",
    "\n",
    "\n",
    "browser.quit()\n",
    "import pandas as pd\n",
    "MyntraTshirtsKids = pd.DataFrame(EntireData)\n",
    "# MyntraTshirtsKids.to_csv('KidsTshirts.csv')"
   ]
  },
  {
   "cell_type": "code",
   "execution_count": 19,
   "id": "16c73031",
   "metadata": {},
   "outputs": [],
   "source": [
    "# for Mens SmartWatches\n",
    "from selenium import webdriver\n",
    "# from time import sleep\n",
    "\n",
    "browser = webdriver.Chrome()\n",
    "# this URL is only for the Category of Mens Tshirt\n",
    "browser.get('https://www.myntra.com/kids-footwear')\n",
    "\n",
    "EntireData = {\n",
    "    'BrandName': [],\n",
    "    'ProductName': [],\n",
    "    'ProductMRP': [],\n",
    "    'ProductSellingPrice': [],\n",
    "    'ProductRating': [],\n",
    "    'ProductRatingCount': []\n",
    "}\n",
    "\n",
    "# Loop through product cards\n",
    "products = browser.find_elements('xpath', \"//li[contains(@class,'product-base')]\")\n",
    "\n",
    "for product in products:\n",
    "    # Brand Name\n",
    "    try:\n",
    "        brand = product.find_element('xpath', \".//h3[contains(@class, 'product-brand')]\")\n",
    "        EntireData['BrandName'].append(brand.text)\n",
    "    except:\n",
    "        EntireData['BrandName'].append('')\n",
    "\n",
    "    # Product Name\n",
    "    try:\n",
    "        pname = product.find_element('xpath', \".//h4[contains(@class, 'product-product')]\")\n",
    "        EntireData['ProductName'].append(pname.text)\n",
    "    except:\n",
    "        EntireData['ProductName'].append('')\n",
    "\n",
    "    # Product MRP\n",
    "    try:\n",
    "        mrp = product.find_element('xpath', \".//span[contains(@class,'product-strike')]\")\n",
    "        EntireData['ProductMRP'].append(mrp.text)\n",
    "    except:\n",
    "        EntireData['ProductMRP'].append('0')\n",
    "\n",
    "    # Product Selling Price\n",
    "    try:\n",
    "        selling_price = product.find_element('xpath', \".//span[contains(@class,'product-discountedPrice')]\")\n",
    "        EntireData['ProductSellingPrice'].append(selling_price.text)\n",
    "    except:\n",
    "        EntireData['ProductSellingPrice'].append('0')\n",
    "\n",
    "    # Product Rating\n",
    "    try:\n",
    "        rating = product.find_element('xpath', \".//div[contains(@class,'product-ratingsContainer')]\")\n",
    "        EntireData['ProductRating'].append(rating.text.split('\\n')[0].strip())\n",
    "    except:\n",
    "        EntireData['ProductRating'].append('0')\n",
    "\n",
    "    # Product Rating Count\n",
    "    try:\n",
    "        rating_count = product.find_element('xpath', \".//div[contains(@class,'product-ratingsCount')]\")\n",
    "        EntireData['ProductRatingCount'].append(rating_count.text.split('\\n')[-1].strip())\n",
    "    except:\n",
    "        EntireData['ProductRatingCount'].append('0')\n",
    "\n",
    "\n",
    "browser.quit()\n",
    "import pandas as pd\n",
    "MyntraFootwearKids = pd.DataFrame(EntireData)\n",
    "# MyntraFootwearKids.to_csv('KidsFootwears.csv')"
   ]
  },
  {
   "cell_type": "code",
   "execution_count": 20,
   "id": "5f8cac1f",
   "metadata": {},
   "outputs": [],
   "source": [
    "# for Mens SmartWatches\n",
    "from selenium import webdriver\n",
    "# from time import sleep\n",
    "\n",
    "browser = webdriver.Chrome()\n",
    "# this URL is only for the Category of Mens Tshirt\n",
    "browser.get('https://www.myntra.com/toys-and-games')\n",
    "\n",
    "EntireData = {\n",
    "    'BrandName': [],\n",
    "    'ProductName': [],\n",
    "    'ProductMRP': [],\n",
    "    'ProductSellingPrice': [],\n",
    "    'ProductRating': [],\n",
    "    'ProductRatingCount': []\n",
    "}\n",
    "\n",
    "# Loop through product cards\n",
    "products = browser.find_elements('xpath', \"//li[contains(@class,'product-base')]\")\n",
    "\n",
    "for product in products:\n",
    "    # Brand Name\n",
    "    try:\n",
    "        brand = product.find_element('xpath', \".//h3[contains(@class, 'product-brand')]\")\n",
    "        EntireData['BrandName'].append(brand.text)\n",
    "    except:\n",
    "        EntireData['BrandName'].append('')\n",
    "\n",
    "    # Product Name\n",
    "    try:\n",
    "        pname = product.find_element('xpath', \".//h4[contains(@class, 'product-product')]\")\n",
    "        EntireData['ProductName'].append(pname.text)\n",
    "    except:\n",
    "        EntireData['ProductName'].append('')\n",
    "\n",
    "    # Product MRP\n",
    "    try:\n",
    "        mrp = product.find_element('xpath', \".//span[contains(@class,'product-strike')]\")\n",
    "        EntireData['ProductMRP'].append(mrp.text)\n",
    "    except:\n",
    "        EntireData['ProductMRP'].append('0')\n",
    "\n",
    "    # Product Selling Price\n",
    "    try:\n",
    "        selling_price = product.find_element('xpath', \".//span[contains(@class,'product-discountedPrice')]\")\n",
    "        EntireData['ProductSellingPrice'].append(selling_price.text)\n",
    "    except:\n",
    "        EntireData['ProductSellingPrice'].append('0')\n",
    "\n",
    "    # Product Rating\n",
    "    try:\n",
    "        rating = product.find_element('xpath', \".//div[contains(@class,'product-ratingsContainer')]\")\n",
    "        EntireData['ProductRating'].append(rating.text.split('\\n')[0].strip())\n",
    "    except:\n",
    "        EntireData['ProductRating'].append('0')\n",
    "\n",
    "    # Product Rating Count\n",
    "    try:\n",
    "        rating_count = product.find_element('xpath', \".//div[contains(@class,'product-ratingsCount')]\")\n",
    "        EntireData['ProductRatingCount'].append(rating_count.text.split('\\n')[-1].strip())\n",
    "    except:\n",
    "        EntireData['ProductRatingCount'].append('0')\n",
    "\n",
    "\n",
    "browser.quit()\n",
    "import pandas as pd\n",
    "MyntraToysKids = pd.DataFrame(EntireData)\n",
    "# MyntraToysKids.to_csv('KidsToys.csv')"
   ]
  },
  {
   "cell_type": "code",
   "execution_count": 21,
   "id": "7b3334f7",
   "metadata": {},
   "outputs": [],
   "source": [
    "# for Mens SmartWatches\n",
    "from selenium import webdriver\n",
    "# from time import sleep\n",
    "\n",
    "browser = webdriver.Chrome()\n",
    "# this URL is only for the Category of Mens Tshirt\n",
    "browser.get('https://www.myntra.com/kids?f=Categories%3AWatch%20Gift%20Set%2CWatches&plaEnabled=false')\n",
    "\n",
    "EntireData = {\n",
    "    'BrandName': [],\n",
    "    'ProductName': [],\n",
    "    'ProductMRP': [],\n",
    "    'ProductSellingPrice': [],\n",
    "    'ProductRating': [],\n",
    "    'ProductRatingCount': []\n",
    "}\n",
    "\n",
    "# Loop through product cards\n",
    "products = browser.find_elements('xpath', \"//li[contains(@class,'product-base')]\")\n",
    "\n",
    "for product in products:\n",
    "    # Brand Name\n",
    "    try:\n",
    "        brand = product.find_element('xpath', \".//h3[contains(@class, 'product-brand')]\")\n",
    "        EntireData['BrandName'].append(brand.text)\n",
    "    except:\n",
    "        EntireData['BrandName'].append('')\n",
    "\n",
    "    # Product Name\n",
    "    try:\n",
    "        pname = product.find_element('xpath', \".//h4[contains(@class, 'product-product')]\")\n",
    "        EntireData['ProductName'].append(pname.text)\n",
    "    except:\n",
    "        EntireData['ProductName'].append('')\n",
    "\n",
    "    # Product MRP\n",
    "    try:\n",
    "        mrp = product.find_element('xpath', \".//span[contains(@class,'product-strike')]\")\n",
    "        EntireData['ProductMRP'].append(mrp.text)\n",
    "    except:\n",
    "        EntireData['ProductMRP'].append('0')\n",
    "\n",
    "    # Product Selling Price\n",
    "    try:\n",
    "        selling_price = product.find_element('xpath', \".//span[contains(@class,'product-discountedPrice')]\")\n",
    "        EntireData['ProductSellingPrice'].append(selling_price.text)\n",
    "    except:\n",
    "        EntireData['ProductSellingPrice'].append('0')\n",
    "\n",
    "    # Product Rating\n",
    "    try:\n",
    "        rating = product.find_element('xpath', \".//div[contains(@class,'product-ratingsContainer')]\")\n",
    "        EntireData['ProductRating'].append(rating.text.split('\\n')[0].strip())\n",
    "    except:\n",
    "        EntireData['ProductRating'].append('0')\n",
    "\n",
    "    # Product Rating Count\n",
    "    try:\n",
    "        rating_count = product.find_element('xpath', \".//div[contains(@class,'product-ratingsCount')]\")\n",
    "        EntireData['ProductRatingCount'].append(rating_count.text.split('\\n')[-1].strip())\n",
    "    except:\n",
    "        EntireData['ProductRatingCount'].append('0')\n",
    "\n",
    "\n",
    "browser.quit()\n",
    "import pandas as pd\n",
    "MyntraWatchesKids = pd.DataFrame(EntireData)\n",
    "# MyntraWatchesKids.to_csv('KidsWatches.csv')"
   ]
  },
  {
   "cell_type": "code",
   "execution_count": 22,
   "id": "a88a58c2",
   "metadata": {},
   "outputs": [],
   "source": [
    "# for Mens SmartWatches\n",
    "from selenium import webdriver\n",
    "# from time import sleep\n",
    "\n",
    "browser = webdriver.Chrome()\n",
    "# this URL is only for the Category of Mens Tshirt\n",
    "browser.get('https://www.myntra.com/skin-care?f=gender%3Amen%20women%2Cwomen')\n",
    "\n",
    "EntireData = {\n",
    "    'BrandName': [],\n",
    "    'ProductName': [],\n",
    "    'ProductMRP': [],\n",
    "    'ProductSellingPrice': [],\n",
    "    'ProductRating': [],\n",
    "    'ProductRatingCount': []\n",
    "}\n",
    "\n",
    "# Loop through product cards\n",
    "products = browser.find_elements('xpath', \"//li[contains(@class,'product-base')]\")\n",
    "\n",
    "for product in products:\n",
    "    # Brand Name\n",
    "    try:\n",
    "        brand = product.find_element('xpath', \".//h3[contains(@class, 'product-brand')]\")\n",
    "        EntireData['BrandName'].append(brand.text)\n",
    "    except:\n",
    "        EntireData['BrandName'].append('')\n",
    "\n",
    "    # Product Name\n",
    "    try:\n",
    "        pname = product.find_element('xpath', \".//h4[contains(@class, 'product-product')]\")\n",
    "        EntireData['ProductName'].append(pname.text)\n",
    "    except:\n",
    "        EntireData['ProductName'].append('')\n",
    "\n",
    "    # Product MRP\n",
    "    try:\n",
    "        mrp = product.find_element('xpath', \".//span[contains(@class,'product-strike')]\")\n",
    "        EntireData['ProductMRP'].append(mrp.text)\n",
    "    except:\n",
    "        EntireData['ProductMRP'].append('0')\n",
    "\n",
    "    # Product Selling Price\n",
    "    try:\n",
    "        selling_price = product.find_element('xpath', \".//span[contains(@class,'product-discountedPrice')]\")\n",
    "        EntireData['ProductSellingPrice'].append(selling_price.text)\n",
    "    except:\n",
    "        EntireData['ProductSellingPrice'].append('0')\n",
    "\n",
    "    # Product Rating\n",
    "    try:\n",
    "        rating = product.find_element('xpath', \".//div[contains(@class,'product-ratingsContainer')]\")\n",
    "        EntireData['ProductRating'].append(rating.text.split('\\n')[0].strip())\n",
    "    except:\n",
    "        EntireData['ProductRating'].append('0')\n",
    "\n",
    "    # Product Rating Count\n",
    "    try:\n",
    "        rating_count = product.find_element('xpath', \".//div[contains(@class,'product-ratingsCount')]\")\n",
    "        EntireData['ProductRatingCount'].append(rating_count.text.split('\\n')[-1].strip())\n",
    "    except:\n",
    "        EntireData['ProductRatingCount'].append('0')\n",
    "\n",
    "\n",
    "browser.quit()\n",
    "import pandas as pd\n",
    "MyntraSkincareWomens = pd.DataFrame(EntireData)\n",
    "# MyntraSkincareWomens.to_csv('WomensSkincare.csv')"
   ]
  },
  {
   "cell_type": "code",
   "execution_count": 23,
   "id": "d5397296",
   "metadata": {},
   "outputs": [],
   "source": [
    "# for Mens SmartWatches\n",
    "from selenium import webdriver\n",
    "# from time import sleep\n",
    "\n",
    "browser = webdriver.Chrome()\n",
    "# this URL is only for the Category of Mens Tshirt\n",
    "browser.get('https://www.myntra.com/women-perfumes')\n",
    "\n",
    "EntireData = {\n",
    "    'BrandName': [],\n",
    "    'ProductName': [],\n",
    "    'ProductMRP': [],\n",
    "    'ProductSellingPrice': [],\n",
    "    'ProductRating': [],\n",
    "    'ProductRatingCount': []\n",
    "}\n",
    "\n",
    "# Loop through product cards\n",
    "products = browser.find_elements('xpath', \"//li[contains(@class,'product-base')]\")\n",
    "\n",
    "for product in products:\n",
    "    # Brand Name\n",
    "    try:\n",
    "        brand = product.find_element('xpath', \".//h3[contains(@class, 'product-brand')]\")\n",
    "        EntireData['BrandName'].append(brand.text)\n",
    "    except:\n",
    "        EntireData['BrandName'].append('')\n",
    "\n",
    "    # Product Name\n",
    "    try:\n",
    "        pname = product.find_element('xpath', \".//h4[contains(@class, 'product-product')]\")\n",
    "        EntireData['ProductName'].append(pname.text)\n",
    "    except:\n",
    "        EntireData['ProductName'].append('')\n",
    "\n",
    "    # Product MRP\n",
    "    try:\n",
    "        mrp = product.find_element('xpath', \".//span[contains(@class,'product-strike')]\")\n",
    "        EntireData['ProductMRP'].append(mrp.text)\n",
    "    except:\n",
    "        EntireData['ProductMRP'].append('0')\n",
    "\n",
    "    # Product Selling Price\n",
    "    try:\n",
    "        selling_price = product.find_element('xpath', \".//span[contains(@class,'product-discountedPrice')]\")\n",
    "        EntireData['ProductSellingPrice'].append(selling_price.text)\n",
    "    except:\n",
    "        EntireData['ProductSellingPrice'].append('0')\n",
    "\n",
    "    # Product Rating\n",
    "    try:\n",
    "        rating = product.find_element('xpath', \".//div[contains(@class,'product-ratingsContainer')]\")\n",
    "        EntireData['ProductRating'].append(rating.text.split('\\n')[0].strip())\n",
    "    except:\n",
    "        EntireData['ProductRating'].append('0')\n",
    "\n",
    "    # Product Rating Count\n",
    "    try:\n",
    "        rating_count = product.find_element('xpath', \".//div[contains(@class,'product-ratingsCount')]\")\n",
    "        EntireData['ProductRatingCount'].append(rating_count.text.split('\\n')[-1].strip())\n",
    "    except:\n",
    "        EntireData['ProductRatingCount'].append('0')\n",
    "\n",
    "\n",
    "browser.quit()\n",
    "import pandas as pd\n",
    "MyntraPerfumesWomens = pd.DataFrame(EntireData)\n",
    "# MyntraPerfumesWomens.to_csv('WomensPerfumes.csv')"
   ]
  },
  {
   "cell_type": "code",
   "execution_count": 24,
   "id": "8c45a729",
   "metadata": {},
   "outputs": [],
   "source": [
    "# for Mens SmartWatches\n",
    "from selenium import webdriver\n",
    "# from time import sleep\n",
    "\n",
    "browser = webdriver.Chrome()\n",
    "# this URL is only for the Category of Mens Tshirt\n",
    "browser.get('https://www.myntra.com/headphones')\n",
    "\n",
    "EntireData = {\n",
    "    'BrandName': [],\n",
    "    'ProductName': [],\n",
    "    'ProductMRP': [],\n",
    "    'ProductSellingPrice': [],\n",
    "    'ProductRating': [],\n",
    "    'ProductRatingCount': []\n",
    "}\n",
    "\n",
    "# Loop through product cards\n",
    "products = browser.find_elements('xpath', \"//li[contains(@class,'product-base')]\")\n",
    "\n",
    "for product in products:\n",
    "    # Brand Name\n",
    "    try:\n",
    "        brand = product.find_element('xpath', \".//h3[contains(@class, 'product-brand')]\")\n",
    "        EntireData['BrandName'].append(brand.text)\n",
    "    except:\n",
    "        EntireData['BrandName'].append('')\n",
    "\n",
    "    # Product Name\n",
    "    try:\n",
    "        pname = product.find_element('xpath', \".//h4[contains(@class, 'product-product')]\")\n",
    "        EntireData['ProductName'].append(pname.text)\n",
    "    except:\n",
    "        EntireData['ProductName'].append('')\n",
    "\n",
    "    # Product MRP\n",
    "    try:\n",
    "        mrp = product.find_element('xpath', \".//span[contains(@class,'product-strike')]\")\n",
    "        EntireData['ProductMRP'].append(mrp.text)\n",
    "    except:\n",
    "        EntireData['ProductMRP'].append('0')\n",
    "\n",
    "    # Product Selling Price\n",
    "    try:\n",
    "        selling_price = product.find_element('xpath', \".//span[contains(@class,'product-discountedPrice')]\")\n",
    "        EntireData['ProductSellingPrice'].append(selling_price.text)\n",
    "    except:\n",
    "        EntireData['ProductSellingPrice'].append('0')\n",
    "\n",
    "    # Product Rating\n",
    "    try:\n",
    "        rating = product.find_element('xpath', \".//div[contains(@class,'product-ratingsContainer')]\")\n",
    "        EntireData['ProductRating'].append(rating.text.split('\\n')[0].strip())\n",
    "    except:\n",
    "        EntireData['ProductRating'].append('0')\n",
    "\n",
    "    # Product Rating Count\n",
    "    try:\n",
    "        rating_count = product.find_element('xpath', \".//div[contains(@class,'product-ratingsCount')]\")\n",
    "        EntireData['ProductRatingCount'].append(rating_count.text.split('\\n')[-1].strip())\n",
    "    except:\n",
    "        EntireData['ProductRatingCount'].append('0')\n",
    "\n",
    "\n",
    "browser.quit()\n",
    "import pandas as pd\n",
    "MyntraHeadphonesUnisex = pd.DataFrame(EntireData)\n",
    "# MyntraHeadphonesUnisex.to_csv('UnisexHeadphones.csv')"
   ]
  },
  {
   "cell_type": "code",
   "execution_count": 25,
   "id": "d5d022ac",
   "metadata": {},
   "outputs": [],
   "source": [
    "# for Mens SmartWatches\n",
    "from selenium import webdriver\n",
    "# from time import sleep\n",
    "\n",
    "browser = webdriver.Chrome()\n",
    "# this URL is only for the Category of Mens Tshirt\n",
    "browser.get('https://www.myntra.com/trimmer')\n",
    "\n",
    "EntireData = {\n",
    "    'BrandName': [],\n",
    "    'ProductName': [],\n",
    "    'ProductMRP': [],\n",
    "    'ProductSellingPrice': [],\n",
    "    'ProductRating': [],\n",
    "    'ProductRatingCount': []\n",
    "}\n",
    "\n",
    "# Loop through product cards\n",
    "products = browser.find_elements('xpath', \"//li[contains(@class,'product-base')]\")\n",
    "\n",
    "for product in products:\n",
    "    # Brand Name\n",
    "    try:\n",
    "        brand = product.find_element('xpath', \".//h3[contains(@class, 'product-brand')]\")\n",
    "        EntireData['BrandName'].append(brand.text)\n",
    "    except:\n",
    "        EntireData['BrandName'].append('')\n",
    "\n",
    "    # Product Name\n",
    "    try:\n",
    "        pname = product.find_element('xpath', \".//h4[contains(@class, 'product-product')]\")\n",
    "        EntireData['ProductName'].append(pname.text)\n",
    "    except:\n",
    "        EntireData['ProductName'].append('')\n",
    "\n",
    "    # Product MRP\n",
    "    try:\n",
    "        mrp = product.find_element('xpath', \".//span[contains(@class,'product-strike')]\")\n",
    "        EntireData['ProductMRP'].append(mrp.text)\n",
    "    except:\n",
    "        EntireData['ProductMRP'].append('0')\n",
    "\n",
    "    # Product Selling Price\n",
    "    try:\n",
    "        selling_price = product.find_element('xpath', \".//span[contains(@class,'product-discountedPrice')]\")\n",
    "        EntireData['ProductSellingPrice'].append(selling_price.text)\n",
    "    except:\n",
    "        EntireData['ProductSellingPrice'].append('0')\n",
    "\n",
    "    # Product Rating\n",
    "    try:\n",
    "        rating = product.find_element('xpath', \".//div[contains(@class,'product-ratingsContainer')]\")\n",
    "        EntireData['ProductRating'].append(rating.text.split('\\n')[0].strip())\n",
    "    except:\n",
    "        EntireData['ProductRating'].append('0')\n",
    "\n",
    "    # Product Rating Count\n",
    "    try:\n",
    "        rating_count = product.find_element('xpath', \".//div[contains(@class,'product-ratingsCount')]\")\n",
    "        EntireData['ProductRatingCount'].append(rating_count.text.split('\\n')[-1].strip())\n",
    "    except:\n",
    "        EntireData['ProductRatingCount'].append('0')\n",
    "\n",
    "\n",
    "browser.quit()\n",
    "import pandas as pd\n",
    "MyntraTrimmers = pd.DataFrame(EntireData)\n",
    "# MyntraTrimmers.to_csv('Trimmers.csv')"
   ]
  },
  {
   "cell_type": "code",
   "execution_count": 26,
   "id": "3138784c",
   "metadata": {},
   "outputs": [],
   "source": [
    "# for Mens SmartWatches\n",
    "from selenium import webdriver\n",
    "# from time import sleep\n",
    "\n",
    "browser = webdriver.Chrome()\n",
    "# this URL is only for the Category of Mens Tshirt\n",
    "browser.get('https://www.myntra.com/speakers')\n",
    "\n",
    "EntireData = {\n",
    "    'BrandName': [],\n",
    "    'ProductName': [],\n",
    "    'ProductMRP': [],\n",
    "    'ProductSellingPrice': [],\n",
    "    'ProductRating': [],\n",
    "    'ProductRatingCount': []\n",
    "}\n",
    "\n",
    "# Loop through product cards\n",
    "products = browser.find_elements('xpath', \"//li[contains(@class,'product-base')]\")\n",
    "\n",
    "for product in products:\n",
    "    # Brand Name\n",
    "    try:\n",
    "        brand = product.find_element('xpath', \".//h3[contains(@class, 'product-brand')]\")\n",
    "        EntireData['BrandName'].append(brand.text)\n",
    "    except:\n",
    "        EntireData['BrandName'].append('')\n",
    "\n",
    "    # Product Name\n",
    "    try:\n",
    "        pname = product.find_element('xpath', \".//h4[contains(@class, 'product-product')]\")\n",
    "        EntireData['ProductName'].append(pname.text)\n",
    "    except:\n",
    "        EntireData['ProductName'].append('')\n",
    "\n",
    "    # Product MRP\n",
    "    try:\n",
    "        mrp = product.find_element('xpath', \".//span[contains(@class,'product-strike')]\")\n",
    "        EntireData['ProductMRP'].append(mrp.text)\n",
    "    except:\n",
    "        EntireData['ProductMRP'].append('0')\n",
    "\n",
    "    # Product Selling Price\n",
    "    try:\n",
    "        selling_price = product.find_element('xpath', \".//span[contains(@class,'product-discountedPrice')]\")\n",
    "        EntireData['ProductSellingPrice'].append(selling_price.text)\n",
    "    except:\n",
    "        EntireData['ProductSellingPrice'].append('0')\n",
    "\n",
    "    # Product Rating\n",
    "    try:\n",
    "        rating = product.find_element('xpath', \".//div[contains(@class,'product-ratingsContainer')]\")\n",
    "        EntireData['ProductRating'].append(rating.text.split('\\n')[0].strip())\n",
    "    except:\n",
    "        EntireData['ProductRating'].append('0')\n",
    "\n",
    "    # Product Rating Count\n",
    "    try:\n",
    "        rating_count = product.find_element('xpath', \".//div[contains(@class,'product-ratingsCount')]\")\n",
    "        EntireData['ProductRatingCount'].append(rating_count.text.split('\\n')[-1].strip())\n",
    "    except:\n",
    "        EntireData['ProductRatingCount'].append('0')\n",
    "\n",
    "\n",
    "browser.quit()\n",
    "import pandas as pd\n",
    "MyntraSpeakers = pd.DataFrame(EntireData)\n",
    "# MyntraSpeakers.to_csv('Speakers.csv')"
   ]
  },
  {
   "cell_type": "code",
   "execution_count": 27,
   "id": "bebfc58f",
   "metadata": {},
   "outputs": [],
   "source": [
    "# import pandas as pd\n",
    "# import os\n",
    "\n",
    "# # Folder where your 10 CSVs are located\n",
    "# folder_path = 'D:\\Data Analyst\\Myntra'\n",
    "\n",
    "# # Get all CSV file names in the folder\n",
    "# csv_files = [f for f in os.listdir(folder_path) if f.endswith('.csv')]\n",
    "\n",
    "# # Create a list to hold each DataFrame\n",
    "# df_list = []\n",
    "\n",
    "# # Loop through files and read each into a DataFrame\n",
    "# for file in csv_files:\n",
    "#     file_path = os.path.join(folder_path, file)\n",
    "#     df = pd.read_csv(file_path)\n",
    "#     df_list.append(df)\n",
    "\n",
    "# # Combine all DataFrames into one\n",
    "# combined_df = pd.concat(df_list, ignore_index=True)\n",
    "\n",
    "# # Save the combined DataFrame to a new CSV file\n",
    "# output_path = os.path.join(folder_path, 'MyntraDataset.csv')\n",
    "# combined_df.to_csv(output_path, index=False)\n",
    "\n",
    "# print(f\"✅ All files combined into: {output_path}\")\n"
   ]
  },
  {
   "cell_type": "code",
   "execution_count": 28,
   "id": "9e13bbb8",
   "metadata": {},
   "outputs": [
    {
     "name": "stdout",
     "output_type": "stream",
     "text": [
      "All dataframes appended successfully!\n"
     ]
    }
   ],
   "source": [
    "import pandas as pd\n",
    "\n",
    "# List of all DataFrame variables\n",
    "dataframes = [\n",
    "    MyntraTshirtMens, MyntraJeansMens, MyntraCasualShoesMens,\n",
    "    MyntraSportsShoesMens, MyntraWalletsMens, MyntraKurtasMens,\n",
    "    MyntraTrunksMens, MyntraSmartWatchsMens, MyntraKurtasWomens,\n",
    "    MyntraJeansWomens, MyntraFlatsWomens, MyntraSportsClothsWomens,\n",
    "    MyntraMakeupWomens, MyntraJewelleryWomens, MyntraLoungewearWomens,\n",
    "    MyntraTshirtsKids, MyntraFootwearKids, MyntraToysKids,\n",
    "    MyntraWatchesKids, MyntraSkincareWomens, MyntraPerfumesWomens,\n",
    "    MyntraHeadphonesUnisex, MyntraTrimmers, MyntraSpeakers\n",
    "]\n",
    "\n",
    "# # Optional: tag each DataFrame with a source column before concatenating\n",
    "names = [\n",
    "    \"MyntraTshirtMens\", \"MyntraJeansMens\", \"MyntraCasualShoesMens\",\n",
    "    \"MyntraSportsShoesMens\", \"MyntraWalletsMens\", \"MyntraKurtasMens\",\n",
    "    \"MyntraTrunksMens\", \"MyntraSmartWatchsMen\", \"MyntraKurtasWomens\",\n",
    "    \"MyntraJeansWomens\", \"MyntraFlatsWomens\", \"MyntraSportsClothsWomens\",\n",
    "    \"MyntraMakeupWomens\", \"MyntraJewelleryWomens\", \"MyntraLoungewearWomens\",\n",
    "    \"MyntraTshirtsKids\", \"MyntraFootwearKids\", \"MyntraToysKids\",\n",
    "    \"MyntraWatchesKids\", \"MyntraSkincareWomens\", \"MyntraPerfumesWomens\",\n",
    "    \"MyntraHeadphonesUnisex\", \"MyntraTrimmers\", \"MyntraSpeakers\"\n",
    "]\n",
    "\n",
    "# # Add a 'source' column to each DataFrame (optional but helpful)\n",
    "for df, name in zip(dataframes, names):\n",
    "    df[\"source\"] = name\n",
    "\n",
    "# Combine all into one DataFrame\n",
    "combined_df = pd.concat(dataframes, ignore_index=True)\n",
    "\n",
    "# Done!\n",
    "print(\"All dataframes appended successfully!\")\n",
    "\n",
    "# Optionally save or work with combined_df\n",
    "# combined_df.to_csv(\"Myntra_All_Combined.csv\", index=False)\n"
   ]
  },
  {
   "cell_type": "code",
   "execution_count": 29,
   "id": "dd3d603a",
   "metadata": {},
   "outputs": [
    {
     "data": {
      "text/html": [
       "<div>\n",
       "<style scoped>\n",
       "    .dataframe tbody tr th:only-of-type {\n",
       "        vertical-align: middle;\n",
       "    }\n",
       "\n",
       "    .dataframe tbody tr th {\n",
       "        vertical-align: top;\n",
       "    }\n",
       "\n",
       "    .dataframe thead th {\n",
       "        text-align: right;\n",
       "    }\n",
       "</style>\n",
       "<table border=\"1\" class=\"dataframe\">\n",
       "  <thead>\n",
       "    <tr style=\"text-align: right;\">\n",
       "      <th></th>\n",
       "      <th>BrandName</th>\n",
       "      <th>ProductName</th>\n",
       "      <th>ProductMRP</th>\n",
       "      <th>ProductSellingPrice</th>\n",
       "      <th>ProductRating</th>\n",
       "      <th>ProductRatingCount</th>\n",
       "      <th>source</th>\n",
       "    </tr>\n",
       "  </thead>\n",
       "  <tbody>\n",
       "    <tr>\n",
       "      <th>0</th>\n",
       "      <td>United Colors of Benetton</td>\n",
       "      <td>Men Solid Cotton T-shirt</td>\n",
       "      <td>Rs. 1999</td>\n",
       "      <td>Rs. 1299</td>\n",
       "      <td>4.7</td>\n",
       "      <td>9</td>\n",
       "      <td>MyntraTshirtMens</td>\n",
       "    </tr>\n",
       "    <tr>\n",
       "      <th>1</th>\n",
       "      <td>Celio</td>\n",
       "      <td>Polo Collar Cotton T-shirt</td>\n",
       "      <td>0</td>\n",
       "      <td>0</td>\n",
       "      <td>0</td>\n",
       "      <td>0</td>\n",
       "      <td>MyntraTshirtMens</td>\n",
       "    </tr>\n",
       "    <tr>\n",
       "      <th>2</th>\n",
       "      <td>Campus Sutra</td>\n",
       "      <td>Men Self Design Cotton T-shirt</td>\n",
       "      <td>Rs. 1699</td>\n",
       "      <td>Rs. 560</td>\n",
       "      <td>4.4</td>\n",
       "      <td>795</td>\n",
       "      <td>MyntraTshirtMens</td>\n",
       "    </tr>\n",
       "    <tr>\n",
       "      <th>3</th>\n",
       "      <td>Campus Sutra</td>\n",
       "      <td>Men Solid Cotton Polo T-shirt</td>\n",
       "      <td>Rs. 1699</td>\n",
       "      <td>Rs. 560</td>\n",
       "      <td>4</td>\n",
       "      <td>303</td>\n",
       "      <td>MyntraTshirtMens</td>\n",
       "    </tr>\n",
       "    <tr>\n",
       "      <th>4</th>\n",
       "      <td>Dzant</td>\n",
       "      <td>Pure Cotton T-shirt</td>\n",
       "      <td>Rs. 2499</td>\n",
       "      <td>Rs. 999</td>\n",
       "      <td>0</td>\n",
       "      <td>0</td>\n",
       "      <td>MyntraTshirtMens</td>\n",
       "    </tr>\n",
       "  </tbody>\n",
       "</table>\n",
       "</div>"
      ],
      "text/plain": [
       "                   BrandName                     ProductName ProductMRP  \\\n",
       "0  United Colors of Benetton        Men Solid Cotton T-shirt   Rs. 1999   \n",
       "1                      Celio      Polo Collar Cotton T-shirt          0   \n",
       "2               Campus Sutra  Men Self Design Cotton T-shirt   Rs. 1699   \n",
       "3               Campus Sutra   Men Solid Cotton Polo T-shirt   Rs. 1699   \n",
       "4                      Dzant             Pure Cotton T-shirt   Rs. 2499   \n",
       "\n",
       "  ProductSellingPrice ProductRating ProductRatingCount            source  \n",
       "0            Rs. 1299           4.7                  9  MyntraTshirtMens  \n",
       "1                   0             0                  0  MyntraTshirtMens  \n",
       "2             Rs. 560           4.4                795  MyntraTshirtMens  \n",
       "3             Rs. 560             4                303  MyntraTshirtMens  \n",
       "4             Rs. 999             0                  0  MyntraTshirtMens  "
      ]
     },
     "execution_count": 29,
     "metadata": {},
     "output_type": "execute_result"
    }
   ],
   "source": [
    "combined_df.head()"
   ]
  },
  {
   "cell_type": "code",
   "execution_count": 30,
   "id": "3dab5405",
   "metadata": {},
   "outputs": [
    {
     "data": {
      "text/html": [
       "<div>\n",
       "<style scoped>\n",
       "    .dataframe tbody tr th:only-of-type {\n",
       "        vertical-align: middle;\n",
       "    }\n",
       "\n",
       "    .dataframe tbody tr th {\n",
       "        vertical-align: top;\n",
       "    }\n",
       "\n",
       "    .dataframe thead th {\n",
       "        text-align: right;\n",
       "    }\n",
       "</style>\n",
       "<table border=\"1\" class=\"dataframe\">\n",
       "  <thead>\n",
       "    <tr style=\"text-align: right;\">\n",
       "      <th></th>\n",
       "      <th>BrandName</th>\n",
       "      <th>ProductName</th>\n",
       "      <th>ProductMRP</th>\n",
       "      <th>ProductSellingPrice</th>\n",
       "      <th>ProductRating</th>\n",
       "      <th>ProductRatingCount</th>\n",
       "      <th>source</th>\n",
       "      <th>category</th>\n",
       "    </tr>\n",
       "  </thead>\n",
       "  <tbody>\n",
       "    <tr>\n",
       "      <th>0</th>\n",
       "      <td>United Colors of Benetton</td>\n",
       "      <td>Men Solid Cotton T-shirt</td>\n",
       "      <td>Rs. 1999</td>\n",
       "      <td>Rs. 1299</td>\n",
       "      <td>4.7</td>\n",
       "      <td>9</td>\n",
       "      <td>MyntraTshirtMens</td>\n",
       "      <td>Tshirt</td>\n",
       "    </tr>\n",
       "    <tr>\n",
       "      <th>1</th>\n",
       "      <td>Celio</td>\n",
       "      <td>Polo Collar Cotton T-shirt</td>\n",
       "      <td>0</td>\n",
       "      <td>0</td>\n",
       "      <td>0</td>\n",
       "      <td>0</td>\n",
       "      <td>MyntraTshirtMens</td>\n",
       "      <td>Tshirt</td>\n",
       "    </tr>\n",
       "    <tr>\n",
       "      <th>2</th>\n",
       "      <td>Campus Sutra</td>\n",
       "      <td>Men Self Design Cotton T-shirt</td>\n",
       "      <td>Rs. 1699</td>\n",
       "      <td>Rs. 560</td>\n",
       "      <td>4.4</td>\n",
       "      <td>795</td>\n",
       "      <td>MyntraTshirtMens</td>\n",
       "      <td>Tshirt</td>\n",
       "    </tr>\n",
       "    <tr>\n",
       "      <th>3</th>\n",
       "      <td>Campus Sutra</td>\n",
       "      <td>Men Solid Cotton Polo T-shirt</td>\n",
       "      <td>Rs. 1699</td>\n",
       "      <td>Rs. 560</td>\n",
       "      <td>4</td>\n",
       "      <td>303</td>\n",
       "      <td>MyntraTshirtMens</td>\n",
       "      <td>Tshirt</td>\n",
       "    </tr>\n",
       "    <tr>\n",
       "      <th>4</th>\n",
       "      <td>Dzant</td>\n",
       "      <td>Pure Cotton T-shirt</td>\n",
       "      <td>Rs. 2499</td>\n",
       "      <td>Rs. 999</td>\n",
       "      <td>0</td>\n",
       "      <td>0</td>\n",
       "      <td>MyntraTshirtMens</td>\n",
       "      <td>Tshirt</td>\n",
       "    </tr>\n",
       "  </tbody>\n",
       "</table>\n",
       "</div>"
      ],
      "text/plain": [
       "                   BrandName                     ProductName ProductMRP  \\\n",
       "0  United Colors of Benetton        Men Solid Cotton T-shirt   Rs. 1999   \n",
       "1                      Celio      Polo Collar Cotton T-shirt          0   \n",
       "2               Campus Sutra  Men Self Design Cotton T-shirt   Rs. 1699   \n",
       "3               Campus Sutra   Men Solid Cotton Polo T-shirt   Rs. 1699   \n",
       "4                      Dzant             Pure Cotton T-shirt   Rs. 2499   \n",
       "\n",
       "  ProductSellingPrice ProductRating ProductRatingCount            source  \\\n",
       "0            Rs. 1299           4.7                  9  MyntraTshirtMens   \n",
       "1                   0             0                  0  MyntraTshirtMens   \n",
       "2             Rs. 560           4.4                795  MyntraTshirtMens   \n",
       "3             Rs. 560             4                303  MyntraTshirtMens   \n",
       "4             Rs. 999             0                  0  MyntraTshirtMens   \n",
       "\n",
       "  category  \n",
       "0   Tshirt  \n",
       "1   Tshirt  \n",
       "2   Tshirt  \n",
       "3   Tshirt  \n",
       "4   Tshirt  "
      ]
     },
     "execution_count": 30,
     "metadata": {},
     "output_type": "execute_result"
    }
   ],
   "source": [
    "# Define a mapping of variable name to its category\n",
    "category_mapping = {\n",
    "    \"MyntraTshirtMens\": \"Tshirt\",\n",
    "    \"MyntraJeansMens\": \"Jeans\",\n",
    "    \"MyntraCasualShoesMens\": \"Casual Shoes\",\n",
    "    \"MyntraSportsShoesMens\": \"Sports Shoes\",\n",
    "    \"MyntraWalletsMens\": \"Wallets\",\n",
    "    \"MyntraKurtasMens\": \"Kurtas\",\n",
    "    \"MyntraTrunksMens\": \"Trunks\",\n",
    "    \"MyntraSmartWatchsMen\": \"Smart Watches\",\n",
    "    \"MyntraKurtasWomens\": \"Kurtas\",\n",
    "    \"MyntraJeansWomens\": \"Jeans\",\n",
    "    \"MyntraFlatsWomens\": \"Flats\",\n",
    "    \"MyntraSportsClothsWomens\": \"Sports Clothes\",\n",
    "    \"MyntraMakeupWomens\": \"Makeup\",\n",
    "    \"MyntraJewelleryWomens\": \"Jewellery\",\n",
    "    \"MyntraLoungewearWomens\": \"Loungewear\",\n",
    "    \"MyntraTshirtsKids\": \"Tshirt\",\n",
    "    \"MyntraFootwearKids\": \"Footwear\",\n",
    "    \"MyntraToysKids\": \"Toys\",\n",
    "    \"MyntraWatchesKids\": \"Watches\",\n",
    "    \"MyntraSkincareWomens\": \"Skincare\",\n",
    "    \"MyntraPerfumesWomens\": \"Perfumes\",\n",
    "    \"MyntraHeadphonesUnisex\": \"Headphones\",\n",
    "    \"MyntraTrimmers\": \"Trimmers\",\n",
    "    \"MyntraSpeakers\": \"Speakers\"\n",
    "}\n",
    "\n",
    "# Apply the category mapping to the combined_df\n",
    "combined_df[\"category\"] = combined_df[\"source\"].map(category_mapping)\n",
    "\n",
    "combined_df.head()\n"
   ]
  },
  {
   "cell_type": "code",
   "execution_count": 3,
   "id": "47cf935c",
   "metadata": {},
   "outputs": [
    {
     "data": {
      "text/html": [
       "<div>\n",
       "<style scoped>\n",
       "    .dataframe tbody tr th:only-of-type {\n",
       "        vertical-align: middle;\n",
       "    }\n",
       "\n",
       "    .dataframe tbody tr th {\n",
       "        vertical-align: top;\n",
       "    }\n",
       "\n",
       "    .dataframe thead th {\n",
       "        text-align: right;\n",
       "    }\n",
       "</style>\n",
       "<table border=\"1\" class=\"dataframe\">\n",
       "  <thead>\n",
       "    <tr style=\"text-align: right;\">\n",
       "      <th></th>\n",
       "      <th>Unnamed: 0</th>\n",
       "      <th>BrandName</th>\n",
       "      <th>ProductName</th>\n",
       "      <th>ProductMRP</th>\n",
       "      <th>ProductSellingPrice</th>\n",
       "      <th>ProductRating</th>\n",
       "      <th>ProductRatingCount</th>\n",
       "      <th>source</th>\n",
       "      <th>category</th>\n",
       "    </tr>\n",
       "  </thead>\n",
       "  <tbody>\n",
       "    <tr>\n",
       "      <th>0</th>\n",
       "      <td>0</td>\n",
       "      <td>United Colors of Benetton</td>\n",
       "      <td>Men Solid Cotton T-shirt</td>\n",
       "      <td>Rs. 1999</td>\n",
       "      <td>Rs. 1299</td>\n",
       "      <td>4.7</td>\n",
       "      <td>9</td>\n",
       "      <td>MyntraTshirtMens</td>\n",
       "      <td>Tshirt</td>\n",
       "    </tr>\n",
       "    <tr>\n",
       "      <th>1</th>\n",
       "      <td>1</td>\n",
       "      <td>Celio</td>\n",
       "      <td>Polo Collar Cotton T-shirt</td>\n",
       "      <td>0</td>\n",
       "      <td>0</td>\n",
       "      <td>0.0</td>\n",
       "      <td>0</td>\n",
       "      <td>MyntraTshirtMens</td>\n",
       "      <td>Tshirt</td>\n",
       "    </tr>\n",
       "    <tr>\n",
       "      <th>2</th>\n",
       "      <td>2</td>\n",
       "      <td>Campus Sutra</td>\n",
       "      <td>Men Self Design Cotton T-shirt</td>\n",
       "      <td>Rs. 1699</td>\n",
       "      <td>Rs. 560</td>\n",
       "      <td>4.4</td>\n",
       "      <td>795</td>\n",
       "      <td>MyntraTshirtMens</td>\n",
       "      <td>Tshirt</td>\n",
       "    </tr>\n",
       "    <tr>\n",
       "      <th>3</th>\n",
       "      <td>3</td>\n",
       "      <td>Campus Sutra</td>\n",
       "      <td>Men Solid Cotton Polo T-shirt</td>\n",
       "      <td>Rs. 1699</td>\n",
       "      <td>Rs. 560</td>\n",
       "      <td>4.0</td>\n",
       "      <td>303</td>\n",
       "      <td>MyntraTshirtMens</td>\n",
       "      <td>Tshirt</td>\n",
       "    </tr>\n",
       "    <tr>\n",
       "      <th>4</th>\n",
       "      <td>4</td>\n",
       "      <td>Dzant</td>\n",
       "      <td>Pure Cotton T-shirt</td>\n",
       "      <td>Rs. 2499</td>\n",
       "      <td>Rs. 999</td>\n",
       "      <td>0.0</td>\n",
       "      <td>0</td>\n",
       "      <td>MyntraTshirtMens</td>\n",
       "      <td>Tshirt</td>\n",
       "    </tr>\n",
       "  </tbody>\n",
       "</table>\n",
       "</div>"
      ],
      "text/plain": [
       "   Unnamed: 0                  BrandName                     ProductName  \\\n",
       "0           0  United Colors of Benetton        Men Solid Cotton T-shirt   \n",
       "1           1                      Celio      Polo Collar Cotton T-shirt   \n",
       "2           2               Campus Sutra  Men Self Design Cotton T-shirt   \n",
       "3           3               Campus Sutra   Men Solid Cotton Polo T-shirt   \n",
       "4           4                      Dzant             Pure Cotton T-shirt   \n",
       "\n",
       "  ProductMRP ProductSellingPrice  ProductRating ProductRatingCount  \\\n",
       "0   Rs. 1999            Rs. 1299            4.7                  9   \n",
       "1          0                   0            0.0                  0   \n",
       "2   Rs. 1699             Rs. 560            4.4                795   \n",
       "3   Rs. 1699             Rs. 560            4.0                303   \n",
       "4   Rs. 2499             Rs. 999            0.0                  0   \n",
       "\n",
       "             source category  \n",
       "0  MyntraTshirtMens   Tshirt  \n",
       "1  MyntraTshirtMens   Tshirt  \n",
       "2  MyntraTshirtMens   Tshirt  \n",
       "3  MyntraTshirtMens   Tshirt  \n",
       "4  MyntraTshirtMens   Tshirt  "
      ]
     },
     "execution_count": 3,
     "metadata": {},
     "output_type": "execute_result"
    }
   ],
   "source": [
    "df.head()"
   ]
  },
  {
   "cell_type": "code",
   "execution_count": 109,
   "id": "bb9861c4",
   "metadata": {},
   "outputs": [],
   "source": [
    "df=pd.read_csv('myntra_final_data.csv')"
   ]
  },
  {
   "cell_type": "code",
   "execution_count": 110,
   "id": "9114f0ea",
   "metadata": {},
   "outputs": [],
   "source": [
    "df  = df[['BrandName','ProductName','ProductMRP','ProductSellingPrice','ProductRating','ProductRatingCount','category']]"
   ]
  },
  {
   "cell_type": "code",
   "execution_count": 111,
   "id": "806ad8f9",
   "metadata": {},
   "outputs": [
    {
     "data": {
      "text/html": [
       "<div>\n",
       "<style scoped>\n",
       "    .dataframe tbody tr th:only-of-type {\n",
       "        vertical-align: middle;\n",
       "    }\n",
       "\n",
       "    .dataframe tbody tr th {\n",
       "        vertical-align: top;\n",
       "    }\n",
       "\n",
       "    .dataframe thead th {\n",
       "        text-align: right;\n",
       "    }\n",
       "</style>\n",
       "<table border=\"1\" class=\"dataframe\">\n",
       "  <thead>\n",
       "    <tr style=\"text-align: right;\">\n",
       "      <th></th>\n",
       "      <th>BrandName</th>\n",
       "      <th>ProductName</th>\n",
       "      <th>ProductMRP</th>\n",
       "      <th>ProductSellingPrice</th>\n",
       "      <th>ProductRating</th>\n",
       "      <th>ProductRatingCount</th>\n",
       "      <th>category</th>\n",
       "    </tr>\n",
       "  </thead>\n",
       "  <tbody>\n",
       "    <tr>\n",
       "      <th>0</th>\n",
       "      <td>United Colors of Benetton</td>\n",
       "      <td>Men Solid Cotton T-shirt</td>\n",
       "      <td>Rs. 1999</td>\n",
       "      <td>Rs. 1299</td>\n",
       "      <td>4.7</td>\n",
       "      <td>9</td>\n",
       "      <td>Tshirt</td>\n",
       "    </tr>\n",
       "    <tr>\n",
       "      <th>1</th>\n",
       "      <td>Celio</td>\n",
       "      <td>Polo Collar Cotton T-shirt</td>\n",
       "      <td>0</td>\n",
       "      <td>0</td>\n",
       "      <td>0.0</td>\n",
       "      <td>0</td>\n",
       "      <td>Tshirt</td>\n",
       "    </tr>\n",
       "    <tr>\n",
       "      <th>2</th>\n",
       "      <td>Campus Sutra</td>\n",
       "      <td>Men Self Design Cotton T-shirt</td>\n",
       "      <td>Rs. 1699</td>\n",
       "      <td>Rs. 560</td>\n",
       "      <td>4.4</td>\n",
       "      <td>795</td>\n",
       "      <td>Tshirt</td>\n",
       "    </tr>\n",
       "    <tr>\n",
       "      <th>3</th>\n",
       "      <td>Campus Sutra</td>\n",
       "      <td>Men Solid Cotton Polo T-shirt</td>\n",
       "      <td>Rs. 1699</td>\n",
       "      <td>Rs. 560</td>\n",
       "      <td>4.0</td>\n",
       "      <td>303</td>\n",
       "      <td>Tshirt</td>\n",
       "    </tr>\n",
       "    <tr>\n",
       "      <th>4</th>\n",
       "      <td>Dzant</td>\n",
       "      <td>Pure Cotton T-shirt</td>\n",
       "      <td>Rs. 2499</td>\n",
       "      <td>Rs. 999</td>\n",
       "      <td>0.0</td>\n",
       "      <td>0</td>\n",
       "      <td>Tshirt</td>\n",
       "    </tr>\n",
       "  </tbody>\n",
       "</table>\n",
       "</div>"
      ],
      "text/plain": [
       "                   BrandName                     ProductName ProductMRP  \\\n",
       "0  United Colors of Benetton        Men Solid Cotton T-shirt   Rs. 1999   \n",
       "1                      Celio      Polo Collar Cotton T-shirt          0   \n",
       "2               Campus Sutra  Men Self Design Cotton T-shirt   Rs. 1699   \n",
       "3               Campus Sutra   Men Solid Cotton Polo T-shirt   Rs. 1699   \n",
       "4                      Dzant             Pure Cotton T-shirt   Rs. 2499   \n",
       "\n",
       "  ProductSellingPrice  ProductRating ProductRatingCount category  \n",
       "0            Rs. 1299            4.7                  9   Tshirt  \n",
       "1                   0            0.0                  0   Tshirt  \n",
       "2             Rs. 560            4.4                795   Tshirt  \n",
       "3             Rs. 560            4.0                303   Tshirt  \n",
       "4             Rs. 999            0.0                  0   Tshirt  "
      ]
     },
     "execution_count": 111,
     "metadata": {},
     "output_type": "execute_result"
    }
   ],
   "source": [
    "df.head()"
   ]
  },
  {
   "cell_type": "code",
   "execution_count": 112,
   "id": "9ab2dec6",
   "metadata": {},
   "outputs": [],
   "source": [
    "df['ProductMRP'] = df['ProductMRP'].str.replace(r'[^0-9]', '', regex=True).astype(int)\n",
    "df['ProductSellingPrice'] = df['ProductSellingPrice'].str.replace(r'[^0-9]', '', regex=True).astype(int)"
   ]
  },
  {
   "cell_type": "code",
   "execution_count": 113,
   "id": "ad695c4b",
   "metadata": {},
   "outputs": [],
   "source": [
    "def convert_rating_count(val):\n",
    "    val = str(val).lower().strip()\n",
    "    if 'k' in val:\n",
    "        return int(float(val.replace('k', '')) * 1000)\n",
    "    elif 'm' in val:\n",
    "        return int(float(val.replace('m', '')) * 1000000)\n",
    "    else:\n",
    "        return int(float(val))\n",
    "\n",
    "df['ProductRatingCount'] = df['ProductRatingCount'].apply(convert_rating_count)\n",
    "\n",
    "# Convert ProductRating to float\n",
    "df['ProductRating'] = df['ProductRating'].astype(float)"
   ]
  },
  {
   "cell_type": "code",
   "execution_count": 114,
   "id": "947c4997",
   "metadata": {},
   "outputs": [
    {
     "data": {
      "text/html": [
       "<div>\n",
       "<style scoped>\n",
       "    .dataframe tbody tr th:only-of-type {\n",
       "        vertical-align: middle;\n",
       "    }\n",
       "\n",
       "    .dataframe tbody tr th {\n",
       "        vertical-align: top;\n",
       "    }\n",
       "\n",
       "    .dataframe thead th {\n",
       "        text-align: right;\n",
       "    }\n",
       "</style>\n",
       "<table border=\"1\" class=\"dataframe\">\n",
       "  <thead>\n",
       "    <tr style=\"text-align: right;\">\n",
       "      <th></th>\n",
       "      <th>BrandName</th>\n",
       "      <th>ProductName</th>\n",
       "      <th>ProductMRP</th>\n",
       "      <th>ProductSellingPrice</th>\n",
       "      <th>ProductRating</th>\n",
       "      <th>ProductRatingCount</th>\n",
       "      <th>category</th>\n",
       "    </tr>\n",
       "  </thead>\n",
       "  <tbody>\n",
       "    <tr>\n",
       "      <th>0</th>\n",
       "      <td>United Colors of Benetton</td>\n",
       "      <td>Men Solid Cotton T-shirt</td>\n",
       "      <td>1999</td>\n",
       "      <td>1299</td>\n",
       "      <td>4.7</td>\n",
       "      <td>9</td>\n",
       "      <td>Tshirt</td>\n",
       "    </tr>\n",
       "    <tr>\n",
       "      <th>1</th>\n",
       "      <td>Celio</td>\n",
       "      <td>Polo Collar Cotton T-shirt</td>\n",
       "      <td>0</td>\n",
       "      <td>0</td>\n",
       "      <td>0.0</td>\n",
       "      <td>0</td>\n",
       "      <td>Tshirt</td>\n",
       "    </tr>\n",
       "    <tr>\n",
       "      <th>2</th>\n",
       "      <td>Campus Sutra</td>\n",
       "      <td>Men Self Design Cotton T-shirt</td>\n",
       "      <td>1699</td>\n",
       "      <td>560</td>\n",
       "      <td>4.4</td>\n",
       "      <td>795</td>\n",
       "      <td>Tshirt</td>\n",
       "    </tr>\n",
       "    <tr>\n",
       "      <th>3</th>\n",
       "      <td>Campus Sutra</td>\n",
       "      <td>Men Solid Cotton Polo T-shirt</td>\n",
       "      <td>1699</td>\n",
       "      <td>560</td>\n",
       "      <td>4.0</td>\n",
       "      <td>303</td>\n",
       "      <td>Tshirt</td>\n",
       "    </tr>\n",
       "    <tr>\n",
       "      <th>4</th>\n",
       "      <td>Dzant</td>\n",
       "      <td>Pure Cotton T-shirt</td>\n",
       "      <td>2499</td>\n",
       "      <td>999</td>\n",
       "      <td>0.0</td>\n",
       "      <td>0</td>\n",
       "      <td>Tshirt</td>\n",
       "    </tr>\n",
       "  </tbody>\n",
       "</table>\n",
       "</div>"
      ],
      "text/plain": [
       "                   BrandName                     ProductName  ProductMRP  \\\n",
       "0  United Colors of Benetton        Men Solid Cotton T-shirt        1999   \n",
       "1                      Celio      Polo Collar Cotton T-shirt           0   \n",
       "2               Campus Sutra  Men Self Design Cotton T-shirt        1699   \n",
       "3               Campus Sutra   Men Solid Cotton Polo T-shirt        1699   \n",
       "4                      Dzant             Pure Cotton T-shirt        2499   \n",
       "\n",
       "   ProductSellingPrice  ProductRating  ProductRatingCount category  \n",
       "0                 1299            4.7                   9   Tshirt  \n",
       "1                    0            0.0                   0   Tshirt  \n",
       "2                  560            4.4                 795   Tshirt  \n",
       "3                  560            4.0                 303   Tshirt  \n",
       "4                  999            0.0                   0   Tshirt  "
      ]
     },
     "execution_count": 114,
     "metadata": {},
     "output_type": "execute_result"
    }
   ],
   "source": [
    "df.head()"
   ]
  },
  {
   "cell_type": "code",
   "execution_count": 115,
   "id": "aad8b9c7",
   "metadata": {},
   "outputs": [
    {
     "data": {
      "text/plain": [
       "(1100, 7)"
      ]
     },
     "execution_count": 115,
     "metadata": {},
     "output_type": "execute_result"
    }
   ],
   "source": [
    "df.shape"
   ]
  },
  {
   "cell_type": "code",
   "execution_count": 116,
   "id": "8c97bf73",
   "metadata": {},
   "outputs": [],
   "source": [
    "df = df.copy()"
   ]
  },
  {
   "cell_type": "code",
   "execution_count": 117,
   "id": "ff66600d",
   "metadata": {},
   "outputs": [
    {
     "name": "stdout",
     "output_type": "stream",
     "text": [
      "<class 'pandas.core.frame.DataFrame'>\n",
      "RangeIndex: 1100 entries, 0 to 1099\n",
      "Data columns (total 7 columns):\n",
      " #   Column               Non-Null Count  Dtype  \n",
      "---  ------               --------------  -----  \n",
      " 0   BrandName            1100 non-null   object \n",
      " 1   ProductName          1099 non-null   object \n",
      " 2   ProductMRP           1100 non-null   int64  \n",
      " 3   ProductSellingPrice  1100 non-null   int64  \n",
      " 4   ProductRating        1100 non-null   float64\n",
      " 5   ProductRatingCount   1100 non-null   int64  \n",
      " 6   category             1100 non-null   object \n",
      "dtypes: float64(1), int64(3), object(3)\n",
      "memory usage: 60.3+ KB\n"
     ]
    }
   ],
   "source": [
    "df.info()"
   ]
  },
  {
   "cell_type": "code",
   "execution_count": 118,
   "id": "04573ab9",
   "metadata": {},
   "outputs": [
    {
     "data": {
      "text/plain": [
       "(1079, 7)"
      ]
     },
     "execution_count": 118,
     "metadata": {},
     "output_type": "execute_result"
    }
   ],
   "source": [
    "df.drop_duplicates(inplace=True)\n",
    "df.shape"
   ]
  },
  {
   "cell_type": "code",
   "execution_count": 104,
   "id": "c7b53565",
   "metadata": {},
   "outputs": [],
   "source": [
    "### EDA, Data Cleaning and Data Transformation"
   ]
  },
  {
   "cell_type": "code",
   "execution_count": 119,
   "id": "de2e447d",
   "metadata": {},
   "outputs": [
    {
     "name": "stdout",
     "output_type": "stream",
     "text": [
      "<class 'pandas.core.frame.DataFrame'>\n",
      "Index: 1079 entries, 0 to 1099\n",
      "Data columns (total 7 columns):\n",
      " #   Column               Non-Null Count  Dtype  \n",
      "---  ------               --------------  -----  \n",
      " 0   BrandName            1079 non-null   object \n",
      " 1   ProductName          1078 non-null   object \n",
      " 2   ProductMRP           1079 non-null   int64  \n",
      " 3   ProductSellingPrice  1079 non-null   int64  \n",
      " 4   ProductRating        1079 non-null   float64\n",
      " 5   ProductRatingCount   1079 non-null   int64  \n",
      " 6   category             1079 non-null   object \n",
      "dtypes: float64(1), int64(3), object(3)\n",
      "memory usage: 67.4+ KB\n"
     ]
    }
   ],
   "source": [
    "df.info()"
   ]
  },
  {
   "cell_type": "code",
   "execution_count": 120,
   "id": "f30ce418",
   "metadata": {},
   "outputs": [
    {
     "data": {
      "text/html": [
       "<div>\n",
       "<style scoped>\n",
       "    .dataframe tbody tr th:only-of-type {\n",
       "        vertical-align: middle;\n",
       "    }\n",
       "\n",
       "    .dataframe tbody tr th {\n",
       "        vertical-align: top;\n",
       "    }\n",
       "\n",
       "    .dataframe thead th {\n",
       "        text-align: right;\n",
       "    }\n",
       "</style>\n",
       "<table border=\"1\" class=\"dataframe\">\n",
       "  <thead>\n",
       "    <tr style=\"text-align: right;\">\n",
       "      <th></th>\n",
       "      <th>ProductMRP</th>\n",
       "      <th>ProductSellingPrice</th>\n",
       "      <th>ProductRating</th>\n",
       "      <th>ProductRatingCount</th>\n",
       "    </tr>\n",
       "  </thead>\n",
       "  <tbody>\n",
       "    <tr>\n",
       "      <th>count</th>\n",
       "      <td>1079.000000</td>\n",
       "      <td>1079.000000</td>\n",
       "      <td>1079.000000</td>\n",
       "      <td>1079.000000</td>\n",
       "    </tr>\n",
       "    <tr>\n",
       "      <th>mean</th>\n",
       "      <td>2229.066728</td>\n",
       "      <td>1011.468953</td>\n",
       "      <td>3.626599</td>\n",
       "      <td>1699.660797</td>\n",
       "    </tr>\n",
       "    <tr>\n",
       "      <th>std</th>\n",
       "      <td>2631.041526</td>\n",
       "      <td>1515.953633</td>\n",
       "      <td>1.555142</td>\n",
       "      <td>5733.785251</td>\n",
       "    </tr>\n",
       "    <tr>\n",
       "      <th>min</th>\n",
       "      <td>0.000000</td>\n",
       "      <td>0.000000</td>\n",
       "      <td>0.000000</td>\n",
       "      <td>0.000000</td>\n",
       "    </tr>\n",
       "    <tr>\n",
       "      <th>25%</th>\n",
       "      <td>667.500000</td>\n",
       "      <td>365.500000</td>\n",
       "      <td>3.900000</td>\n",
       "      <td>13.000000</td>\n",
       "    </tr>\n",
       "    <tr>\n",
       "      <th>50%</th>\n",
       "      <td>1745.000000</td>\n",
       "      <td>692.000000</td>\n",
       "      <td>4.300000</td>\n",
       "      <td>106.000000</td>\n",
       "    </tr>\n",
       "    <tr>\n",
       "      <th>75%</th>\n",
       "      <td>2999.000000</td>\n",
       "      <td>1099.000000</td>\n",
       "      <td>4.500000</td>\n",
       "      <td>776.000000</td>\n",
       "    </tr>\n",
       "    <tr>\n",
       "      <th>max</th>\n",
       "      <td>26999.000000</td>\n",
       "      <td>22499.000000</td>\n",
       "      <td>5.000000</td>\n",
       "      <td>61200.000000</td>\n",
       "    </tr>\n",
       "  </tbody>\n",
       "</table>\n",
       "</div>"
      ],
      "text/plain": [
       "         ProductMRP  ProductSellingPrice  ProductRating  ProductRatingCount\n",
       "count   1079.000000          1079.000000    1079.000000         1079.000000\n",
       "mean    2229.066728          1011.468953       3.626599         1699.660797\n",
       "std     2631.041526          1515.953633       1.555142         5733.785251\n",
       "min        0.000000             0.000000       0.000000            0.000000\n",
       "25%      667.500000           365.500000       3.900000           13.000000\n",
       "50%     1745.000000           692.000000       4.300000          106.000000\n",
       "75%     2999.000000          1099.000000       4.500000          776.000000\n",
       "max    26999.000000         22499.000000       5.000000        61200.000000"
      ]
     },
     "execution_count": 120,
     "metadata": {},
     "output_type": "execute_result"
    }
   ],
   "source": [
    "df.describe()"
   ]
  },
  {
   "cell_type": "code",
   "execution_count": 122,
   "id": "d311cf57",
   "metadata": {},
   "outputs": [],
   "source": [
    "#Average MRP and Selling Price by Category and Brand\n",
    "\n",
    "df['Discount'] = df['ProductMRP'] - df['ProductSellingPrice']\n",
    "df['DiscountPercent'] = (df['Discount'] / df['ProductMRP']) * 100\n",
    "df['HasDiscount'] = df['Discount'] > 0"
   ]
  },
  {
   "cell_type": "code",
   "execution_count": 123,
   "id": "5c773e4b",
   "metadata": {},
   "outputs": [
    {
     "data": {
      "text/plain": [
       "BrandName                0\n",
       "ProductName              1\n",
       "ProductMRP               0\n",
       "ProductSellingPrice      0\n",
       "ProductRating            0\n",
       "ProductRatingCount       0\n",
       "category                 0\n",
       "Discount                 0\n",
       "DiscountPercent        169\n",
       "HasDiscount              0\n",
       "dtype: int64"
      ]
     },
     "execution_count": 123,
     "metadata": {},
     "output_type": "execute_result"
    }
   ],
   "source": [
    "df.isnull().sum()"
   ]
  },
  {
   "cell_type": "code",
   "execution_count": 124,
   "id": "67552c53",
   "metadata": {},
   "outputs": [],
   "source": [
    "df['ProductMRP'] = pd.to_numeric(df['ProductMRP'], errors='coerce')\n",
    "df['ProductSellingPrice'] = pd.to_numeric(df['ProductSellingPrice'], errors='coerce')\n",
    "df['DiscountPercent'] = df['DiscountPercent'].fillna(0)\n",
    "# df.drop_duplicates(inplace=True)"
   ]
  },
  {
   "cell_type": "code",
   "execution_count": 125,
   "id": "37b6c8b4",
   "metadata": {},
   "outputs": [
    {
     "data": {
      "text/html": [
       "<div>\n",
       "<style scoped>\n",
       "    .dataframe tbody tr th:only-of-type {\n",
       "        vertical-align: middle;\n",
       "    }\n",
       "\n",
       "    .dataframe tbody tr th {\n",
       "        vertical-align: top;\n",
       "    }\n",
       "\n",
       "    .dataframe thead th {\n",
       "        text-align: right;\n",
       "    }\n",
       "</style>\n",
       "<table border=\"1\" class=\"dataframe\">\n",
       "  <thead>\n",
       "    <tr style=\"text-align: right;\">\n",
       "      <th></th>\n",
       "      <th>BrandName</th>\n",
       "      <th>ProductName</th>\n",
       "      <th>ProductMRP</th>\n",
       "      <th>ProductSellingPrice</th>\n",
       "      <th>ProductRating</th>\n",
       "      <th>ProductRatingCount</th>\n",
       "      <th>category</th>\n",
       "      <th>Discount</th>\n",
       "      <th>DiscountPercent</th>\n",
       "      <th>HasDiscount</th>\n",
       "    </tr>\n",
       "  </thead>\n",
       "  <tbody>\n",
       "    <tr>\n",
       "      <th>0</th>\n",
       "      <td>United Colors of Benetton</td>\n",
       "      <td>Men Solid Cotton T-shirt</td>\n",
       "      <td>1999</td>\n",
       "      <td>1299</td>\n",
       "      <td>4.7</td>\n",
       "      <td>9</td>\n",
       "      <td>Tshirt</td>\n",
       "      <td>700</td>\n",
       "      <td>35.017509</td>\n",
       "      <td>True</td>\n",
       "    </tr>\n",
       "    <tr>\n",
       "      <th>1</th>\n",
       "      <td>Celio</td>\n",
       "      <td>Polo Collar Cotton T-shirt</td>\n",
       "      <td>0</td>\n",
       "      <td>0</td>\n",
       "      <td>0.0</td>\n",
       "      <td>0</td>\n",
       "      <td>Tshirt</td>\n",
       "      <td>0</td>\n",
       "      <td>0.000000</td>\n",
       "      <td>False</td>\n",
       "    </tr>\n",
       "    <tr>\n",
       "      <th>2</th>\n",
       "      <td>Campus Sutra</td>\n",
       "      <td>Men Self Design Cotton T-shirt</td>\n",
       "      <td>1699</td>\n",
       "      <td>560</td>\n",
       "      <td>4.4</td>\n",
       "      <td>795</td>\n",
       "      <td>Tshirt</td>\n",
       "      <td>1139</td>\n",
       "      <td>67.039435</td>\n",
       "      <td>True</td>\n",
       "    </tr>\n",
       "    <tr>\n",
       "      <th>3</th>\n",
       "      <td>Campus Sutra</td>\n",
       "      <td>Men Solid Cotton Polo T-shirt</td>\n",
       "      <td>1699</td>\n",
       "      <td>560</td>\n",
       "      <td>4.0</td>\n",
       "      <td>303</td>\n",
       "      <td>Tshirt</td>\n",
       "      <td>1139</td>\n",
       "      <td>67.039435</td>\n",
       "      <td>True</td>\n",
       "    </tr>\n",
       "    <tr>\n",
       "      <th>4</th>\n",
       "      <td>Dzant</td>\n",
       "      <td>Pure Cotton T-shirt</td>\n",
       "      <td>2499</td>\n",
       "      <td>999</td>\n",
       "      <td>0.0</td>\n",
       "      <td>0</td>\n",
       "      <td>Tshirt</td>\n",
       "      <td>1500</td>\n",
       "      <td>60.024010</td>\n",
       "      <td>True</td>\n",
       "    </tr>\n",
       "  </tbody>\n",
       "</table>\n",
       "</div>"
      ],
      "text/plain": [
       "                   BrandName                     ProductName  ProductMRP  \\\n",
       "0  United Colors of Benetton        Men Solid Cotton T-shirt        1999   \n",
       "1                      Celio      Polo Collar Cotton T-shirt           0   \n",
       "2               Campus Sutra  Men Self Design Cotton T-shirt        1699   \n",
       "3               Campus Sutra   Men Solid Cotton Polo T-shirt        1699   \n",
       "4                      Dzant             Pure Cotton T-shirt        2499   \n",
       "\n",
       "   ProductSellingPrice  ProductRating  ProductRatingCount category  Discount  \\\n",
       "0                 1299            4.7                   9   Tshirt       700   \n",
       "1                    0            0.0                   0   Tshirt         0   \n",
       "2                  560            4.4                 795   Tshirt      1139   \n",
       "3                  560            4.0                 303   Tshirt      1139   \n",
       "4                  999            0.0                   0   Tshirt      1500   \n",
       "\n",
       "   DiscountPercent  HasDiscount  \n",
       "0        35.017509         True  \n",
       "1         0.000000        False  \n",
       "2        67.039435         True  \n",
       "3        67.039435         True  \n",
       "4        60.024010         True  "
      ]
     },
     "execution_count": 125,
     "metadata": {},
     "output_type": "execute_result"
    }
   ],
   "source": [
    "df.head()"
   ]
  },
  {
   "cell_type": "code",
   "execution_count": 126,
   "id": "0084f90f",
   "metadata": {},
   "outputs": [
    {
     "data": {
      "text/plain": [
       "BrandName              0\n",
       "ProductName            1\n",
       "ProductMRP             0\n",
       "ProductSellingPrice    0\n",
       "ProductRating          0\n",
       "ProductRatingCount     0\n",
       "category               0\n",
       "Discount               0\n",
       "DiscountPercent        0\n",
       "HasDiscount            0\n",
       "dtype: int64"
      ]
     },
     "execution_count": 126,
     "metadata": {},
     "output_type": "execute_result"
    }
   ],
   "source": [
    "df.isna().sum()"
   ]
  },
  {
   "cell_type": "code",
   "execution_count": 127,
   "id": "ba729fd3",
   "metadata": {},
   "outputs": [],
   "source": [
    "def label_rating(rating):\n",
    "    if rating <= 1:\n",
    "        return 'Avoid This Product'\n",
    "    elif rating <= 2:\n",
    "        return 'Not Recommended'\n",
    "    elif rating <= 3:\n",
    "        return 'Below Average'\n",
    "    elif rating <= 3.5:\n",
    "        return 'Average'\n",
    "    elif rating <= 4:\n",
    "        return 'Good Choice'\n",
    "    elif rating <= 4.5:\n",
    "        return 'Great Product'\n",
    "    else:\n",
    "        return 'Excellent'\n",
    "\n",
    "df['UserSatisfactionLevel'] = df['ProductRating'].apply(label_rating)"
   ]
  },
  {
   "cell_type": "code",
   "execution_count": 128,
   "id": "842cd704",
   "metadata": {},
   "outputs": [
    {
     "data": {
      "text/html": [
       "<div>\n",
       "<style scoped>\n",
       "    .dataframe tbody tr th:only-of-type {\n",
       "        vertical-align: middle;\n",
       "    }\n",
       "\n",
       "    .dataframe tbody tr th {\n",
       "        vertical-align: top;\n",
       "    }\n",
       "\n",
       "    .dataframe thead th {\n",
       "        text-align: right;\n",
       "    }\n",
       "</style>\n",
       "<table border=\"1\" class=\"dataframe\">\n",
       "  <thead>\n",
       "    <tr style=\"text-align: right;\">\n",
       "      <th></th>\n",
       "      <th>BrandName</th>\n",
       "      <th>ProductName</th>\n",
       "      <th>ProductMRP</th>\n",
       "      <th>ProductSellingPrice</th>\n",
       "      <th>ProductRating</th>\n",
       "      <th>ProductRatingCount</th>\n",
       "      <th>category</th>\n",
       "      <th>Discount</th>\n",
       "      <th>DiscountPercent</th>\n",
       "      <th>HasDiscount</th>\n",
       "      <th>UserSatisfactionLevel</th>\n",
       "    </tr>\n",
       "  </thead>\n",
       "  <tbody>\n",
       "    <tr>\n",
       "      <th>0</th>\n",
       "      <td>United Colors of Benetton</td>\n",
       "      <td>Men Solid Cotton T-shirt</td>\n",
       "      <td>1999</td>\n",
       "      <td>1299</td>\n",
       "      <td>4.7</td>\n",
       "      <td>9</td>\n",
       "      <td>Tshirt</td>\n",
       "      <td>700</td>\n",
       "      <td>35.017509</td>\n",
       "      <td>True</td>\n",
       "      <td>Excellent</td>\n",
       "    </tr>\n",
       "    <tr>\n",
       "      <th>1</th>\n",
       "      <td>Celio</td>\n",
       "      <td>Polo Collar Cotton T-shirt</td>\n",
       "      <td>0</td>\n",
       "      <td>0</td>\n",
       "      <td>0.0</td>\n",
       "      <td>0</td>\n",
       "      <td>Tshirt</td>\n",
       "      <td>0</td>\n",
       "      <td>0.000000</td>\n",
       "      <td>False</td>\n",
       "      <td>Avoid This Product</td>\n",
       "    </tr>\n",
       "    <tr>\n",
       "      <th>2</th>\n",
       "      <td>Campus Sutra</td>\n",
       "      <td>Men Self Design Cotton T-shirt</td>\n",
       "      <td>1699</td>\n",
       "      <td>560</td>\n",
       "      <td>4.4</td>\n",
       "      <td>795</td>\n",
       "      <td>Tshirt</td>\n",
       "      <td>1139</td>\n",
       "      <td>67.039435</td>\n",
       "      <td>True</td>\n",
       "      <td>Great Product</td>\n",
       "    </tr>\n",
       "    <tr>\n",
       "      <th>3</th>\n",
       "      <td>Campus Sutra</td>\n",
       "      <td>Men Solid Cotton Polo T-shirt</td>\n",
       "      <td>1699</td>\n",
       "      <td>560</td>\n",
       "      <td>4.0</td>\n",
       "      <td>303</td>\n",
       "      <td>Tshirt</td>\n",
       "      <td>1139</td>\n",
       "      <td>67.039435</td>\n",
       "      <td>True</td>\n",
       "      <td>Good Choice</td>\n",
       "    </tr>\n",
       "    <tr>\n",
       "      <th>4</th>\n",
       "      <td>Dzant</td>\n",
       "      <td>Pure Cotton T-shirt</td>\n",
       "      <td>2499</td>\n",
       "      <td>999</td>\n",
       "      <td>0.0</td>\n",
       "      <td>0</td>\n",
       "      <td>Tshirt</td>\n",
       "      <td>1500</td>\n",
       "      <td>60.024010</td>\n",
       "      <td>True</td>\n",
       "      <td>Avoid This Product</td>\n",
       "    </tr>\n",
       "  </tbody>\n",
       "</table>\n",
       "</div>"
      ],
      "text/plain": [
       "                   BrandName                     ProductName  ProductMRP  \\\n",
       "0  United Colors of Benetton        Men Solid Cotton T-shirt        1999   \n",
       "1                      Celio      Polo Collar Cotton T-shirt           0   \n",
       "2               Campus Sutra  Men Self Design Cotton T-shirt        1699   \n",
       "3               Campus Sutra   Men Solid Cotton Polo T-shirt        1699   \n",
       "4                      Dzant             Pure Cotton T-shirt        2499   \n",
       "\n",
       "   ProductSellingPrice  ProductRating  ProductRatingCount category  Discount  \\\n",
       "0                 1299            4.7                   9   Tshirt       700   \n",
       "1                    0            0.0                   0   Tshirt         0   \n",
       "2                  560            4.4                 795   Tshirt      1139   \n",
       "3                  560            4.0                 303   Tshirt      1139   \n",
       "4                  999            0.0                   0   Tshirt      1500   \n",
       "\n",
       "   DiscountPercent  HasDiscount UserSatisfactionLevel  \n",
       "0        35.017509         True             Excellent  \n",
       "1         0.000000        False    Avoid This Product  \n",
       "2        67.039435         True         Great Product  \n",
       "3        67.039435         True           Good Choice  \n",
       "4        60.024010         True    Avoid This Product  "
      ]
     },
     "execution_count": 128,
     "metadata": {},
     "output_type": "execute_result"
    }
   ],
   "source": [
    "df.head()"
   ]
  },
  {
   "cell_type": "code",
   "execution_count": 129,
   "id": "44a5da28",
   "metadata": {},
   "outputs": [],
   "source": [
    "import pandas as pd\n",
    "import numpy as np\n",
    "import plotly.express as px\n",
    "import plotly.graph_objects as go\n",
    "from sklearn.model_selection import train_test_split\n",
    "from sklearn.preprocessing import LabelEncoder, StandardScaler\n",
    "from sklearn.metrics import classification_report, accuracy_score\n",
    "from sklearn.ensemble import RandomForestClassifier\n",
    "import seaborn as sns\n",
    "import matplotlib.pyplot as plt"
   ]
  },
  {
   "cell_type": "code",
   "execution_count": 130,
   "id": "90dc0de1",
   "metadata": {},
   "outputs": [
    {
     "data": {
      "application/vnd.plotly.v1+json": {
       "config": {
        "plotlyServerURL": "https://plot.ly"
       },
       "data": [
        {
         "hovertemplate": "Brand=%{x}<br>Product Count=%{y}<extra></extra>",
         "legendgroup": "",
         "marker": {
          "color": "#636efa",
          "pattern": {
           "shape": ""
          }
         },
         "name": "",
         "orientation": "v",
         "showlegend": false,
         "textposition": "auto",
         "type": "bar",
         "x": [
          "H&M",
          "Lakme",
          "BOULT AUDIO",
          "HRX by Hrithik Roshan",
          "Spiky",
          "VIP",
          "Portronics",
          "Sangria",
          "Nike",
          "Maybelline"
         ],
         "xaxis": "x",
         "y": {
          "bdata": "LRcUFBEREQ8ODg==",
          "dtype": "i1"
         },
         "yaxis": "y"
        }
       ],
       "layout": {
        "barmode": "relative",
        "legend": {
         "tracegroupgap": 0
        },
        "template": {
         "data": {
          "bar": [
           {
            "error_x": {
             "color": "#2a3f5f"
            },
            "error_y": {
             "color": "#2a3f5f"
            },
            "marker": {
             "line": {
              "color": "#E5ECF6",
              "width": 0.5
             },
             "pattern": {
              "fillmode": "overlay",
              "size": 10,
              "solidity": 0.2
             }
            },
            "type": "bar"
           }
          ],
          "barpolar": [
           {
            "marker": {
             "line": {
              "color": "#E5ECF6",
              "width": 0.5
             },
             "pattern": {
              "fillmode": "overlay",
              "size": 10,
              "solidity": 0.2
             }
            },
            "type": "barpolar"
           }
          ],
          "carpet": [
           {
            "aaxis": {
             "endlinecolor": "#2a3f5f",
             "gridcolor": "white",
             "linecolor": "white",
             "minorgridcolor": "white",
             "startlinecolor": "#2a3f5f"
            },
            "baxis": {
             "endlinecolor": "#2a3f5f",
             "gridcolor": "white",
             "linecolor": "white",
             "minorgridcolor": "white",
             "startlinecolor": "#2a3f5f"
            },
            "type": "carpet"
           }
          ],
          "choropleth": [
           {
            "colorbar": {
             "outlinewidth": 0,
             "ticks": ""
            },
            "type": "choropleth"
           }
          ],
          "contour": [
           {
            "colorbar": {
             "outlinewidth": 0,
             "ticks": ""
            },
            "colorscale": [
             [
              0,
              "#0d0887"
             ],
             [
              0.1111111111111111,
              "#46039f"
             ],
             [
              0.2222222222222222,
              "#7201a8"
             ],
             [
              0.3333333333333333,
              "#9c179e"
             ],
             [
              0.4444444444444444,
              "#bd3786"
             ],
             [
              0.5555555555555556,
              "#d8576b"
             ],
             [
              0.6666666666666666,
              "#ed7953"
             ],
             [
              0.7777777777777778,
              "#fb9f3a"
             ],
             [
              0.8888888888888888,
              "#fdca26"
             ],
             [
              1,
              "#f0f921"
             ]
            ],
            "type": "contour"
           }
          ],
          "contourcarpet": [
           {
            "colorbar": {
             "outlinewidth": 0,
             "ticks": ""
            },
            "type": "contourcarpet"
           }
          ],
          "heatmap": [
           {
            "colorbar": {
             "outlinewidth": 0,
             "ticks": ""
            },
            "colorscale": [
             [
              0,
              "#0d0887"
             ],
             [
              0.1111111111111111,
              "#46039f"
             ],
             [
              0.2222222222222222,
              "#7201a8"
             ],
             [
              0.3333333333333333,
              "#9c179e"
             ],
             [
              0.4444444444444444,
              "#bd3786"
             ],
             [
              0.5555555555555556,
              "#d8576b"
             ],
             [
              0.6666666666666666,
              "#ed7953"
             ],
             [
              0.7777777777777778,
              "#fb9f3a"
             ],
             [
              0.8888888888888888,
              "#fdca26"
             ],
             [
              1,
              "#f0f921"
             ]
            ],
            "type": "heatmap"
           }
          ],
          "histogram": [
           {
            "marker": {
             "pattern": {
              "fillmode": "overlay",
              "size": 10,
              "solidity": 0.2
             }
            },
            "type": "histogram"
           }
          ],
          "histogram2d": [
           {
            "colorbar": {
             "outlinewidth": 0,
             "ticks": ""
            },
            "colorscale": [
             [
              0,
              "#0d0887"
             ],
             [
              0.1111111111111111,
              "#46039f"
             ],
             [
              0.2222222222222222,
              "#7201a8"
             ],
             [
              0.3333333333333333,
              "#9c179e"
             ],
             [
              0.4444444444444444,
              "#bd3786"
             ],
             [
              0.5555555555555556,
              "#d8576b"
             ],
             [
              0.6666666666666666,
              "#ed7953"
             ],
             [
              0.7777777777777778,
              "#fb9f3a"
             ],
             [
              0.8888888888888888,
              "#fdca26"
             ],
             [
              1,
              "#f0f921"
             ]
            ],
            "type": "histogram2d"
           }
          ],
          "histogram2dcontour": [
           {
            "colorbar": {
             "outlinewidth": 0,
             "ticks": ""
            },
            "colorscale": [
             [
              0,
              "#0d0887"
             ],
             [
              0.1111111111111111,
              "#46039f"
             ],
             [
              0.2222222222222222,
              "#7201a8"
             ],
             [
              0.3333333333333333,
              "#9c179e"
             ],
             [
              0.4444444444444444,
              "#bd3786"
             ],
             [
              0.5555555555555556,
              "#d8576b"
             ],
             [
              0.6666666666666666,
              "#ed7953"
             ],
             [
              0.7777777777777778,
              "#fb9f3a"
             ],
             [
              0.8888888888888888,
              "#fdca26"
             ],
             [
              1,
              "#f0f921"
             ]
            ],
            "type": "histogram2dcontour"
           }
          ],
          "mesh3d": [
           {
            "colorbar": {
             "outlinewidth": 0,
             "ticks": ""
            },
            "type": "mesh3d"
           }
          ],
          "parcoords": [
           {
            "line": {
             "colorbar": {
              "outlinewidth": 0,
              "ticks": ""
             }
            },
            "type": "parcoords"
           }
          ],
          "pie": [
           {
            "automargin": true,
            "type": "pie"
           }
          ],
          "scatter": [
           {
            "fillpattern": {
             "fillmode": "overlay",
             "size": 10,
             "solidity": 0.2
            },
            "type": "scatter"
           }
          ],
          "scatter3d": [
           {
            "line": {
             "colorbar": {
              "outlinewidth": 0,
              "ticks": ""
             }
            },
            "marker": {
             "colorbar": {
              "outlinewidth": 0,
              "ticks": ""
             }
            },
            "type": "scatter3d"
           }
          ],
          "scattercarpet": [
           {
            "marker": {
             "colorbar": {
              "outlinewidth": 0,
              "ticks": ""
             }
            },
            "type": "scattercarpet"
           }
          ],
          "scattergeo": [
           {
            "marker": {
             "colorbar": {
              "outlinewidth": 0,
              "ticks": ""
             }
            },
            "type": "scattergeo"
           }
          ],
          "scattergl": [
           {
            "marker": {
             "colorbar": {
              "outlinewidth": 0,
              "ticks": ""
             }
            },
            "type": "scattergl"
           }
          ],
          "scattermap": [
           {
            "marker": {
             "colorbar": {
              "outlinewidth": 0,
              "ticks": ""
             }
            },
            "type": "scattermap"
           }
          ],
          "scattermapbox": [
           {
            "marker": {
             "colorbar": {
              "outlinewidth": 0,
              "ticks": ""
             }
            },
            "type": "scattermapbox"
           }
          ],
          "scatterpolar": [
           {
            "marker": {
             "colorbar": {
              "outlinewidth": 0,
              "ticks": ""
             }
            },
            "type": "scatterpolar"
           }
          ],
          "scatterpolargl": [
           {
            "marker": {
             "colorbar": {
              "outlinewidth": 0,
              "ticks": ""
             }
            },
            "type": "scatterpolargl"
           }
          ],
          "scatterternary": [
           {
            "marker": {
             "colorbar": {
              "outlinewidth": 0,
              "ticks": ""
             }
            },
            "type": "scatterternary"
           }
          ],
          "surface": [
           {
            "colorbar": {
             "outlinewidth": 0,
             "ticks": ""
            },
            "colorscale": [
             [
              0,
              "#0d0887"
             ],
             [
              0.1111111111111111,
              "#46039f"
             ],
             [
              0.2222222222222222,
              "#7201a8"
             ],
             [
              0.3333333333333333,
              "#9c179e"
             ],
             [
              0.4444444444444444,
              "#bd3786"
             ],
             [
              0.5555555555555556,
              "#d8576b"
             ],
             [
              0.6666666666666666,
              "#ed7953"
             ],
             [
              0.7777777777777778,
              "#fb9f3a"
             ],
             [
              0.8888888888888888,
              "#fdca26"
             ],
             [
              1,
              "#f0f921"
             ]
            ],
            "type": "surface"
           }
          ],
          "table": [
           {
            "cells": {
             "fill": {
              "color": "#EBF0F8"
             },
             "line": {
              "color": "white"
             }
            },
            "header": {
             "fill": {
              "color": "#C8D4E3"
             },
             "line": {
              "color": "white"
             }
            },
            "type": "table"
           }
          ]
         },
         "layout": {
          "annotationdefaults": {
           "arrowcolor": "#2a3f5f",
           "arrowhead": 0,
           "arrowwidth": 1
          },
          "autotypenumbers": "strict",
          "coloraxis": {
           "colorbar": {
            "outlinewidth": 0,
            "ticks": ""
           }
          },
          "colorscale": {
           "diverging": [
            [
             0,
             "#8e0152"
            ],
            [
             0.1,
             "#c51b7d"
            ],
            [
             0.2,
             "#de77ae"
            ],
            [
             0.3,
             "#f1b6da"
            ],
            [
             0.4,
             "#fde0ef"
            ],
            [
             0.5,
             "#f7f7f7"
            ],
            [
             0.6,
             "#e6f5d0"
            ],
            [
             0.7,
             "#b8e186"
            ],
            [
             0.8,
             "#7fbc41"
            ],
            [
             0.9,
             "#4d9221"
            ],
            [
             1,
             "#276419"
            ]
           ],
           "sequential": [
            [
             0,
             "#0d0887"
            ],
            [
             0.1111111111111111,
             "#46039f"
            ],
            [
             0.2222222222222222,
             "#7201a8"
            ],
            [
             0.3333333333333333,
             "#9c179e"
            ],
            [
             0.4444444444444444,
             "#bd3786"
            ],
            [
             0.5555555555555556,
             "#d8576b"
            ],
            [
             0.6666666666666666,
             "#ed7953"
            ],
            [
             0.7777777777777778,
             "#fb9f3a"
            ],
            [
             0.8888888888888888,
             "#fdca26"
            ],
            [
             1,
             "#f0f921"
            ]
           ],
           "sequentialminus": [
            [
             0,
             "#0d0887"
            ],
            [
             0.1111111111111111,
             "#46039f"
            ],
            [
             0.2222222222222222,
             "#7201a8"
            ],
            [
             0.3333333333333333,
             "#9c179e"
            ],
            [
             0.4444444444444444,
             "#bd3786"
            ],
            [
             0.5555555555555556,
             "#d8576b"
            ],
            [
             0.6666666666666666,
             "#ed7953"
            ],
            [
             0.7777777777777778,
             "#fb9f3a"
            ],
            [
             0.8888888888888888,
             "#fdca26"
            ],
            [
             1,
             "#f0f921"
            ]
           ]
          },
          "colorway": [
           "#636efa",
           "#EF553B",
           "#00cc96",
           "#ab63fa",
           "#FFA15A",
           "#19d3f3",
           "#FF6692",
           "#B6E880",
           "#FF97FF",
           "#FECB52"
          ],
          "font": {
           "color": "#2a3f5f"
          },
          "geo": {
           "bgcolor": "white",
           "lakecolor": "white",
           "landcolor": "#E5ECF6",
           "showlakes": true,
           "showland": true,
           "subunitcolor": "white"
          },
          "hoverlabel": {
           "align": "left"
          },
          "hovermode": "closest",
          "mapbox": {
           "style": "light"
          },
          "paper_bgcolor": "white",
          "plot_bgcolor": "#E5ECF6",
          "polar": {
           "angularaxis": {
            "gridcolor": "white",
            "linecolor": "white",
            "ticks": ""
           },
           "bgcolor": "#E5ECF6",
           "radialaxis": {
            "gridcolor": "white",
            "linecolor": "white",
            "ticks": ""
           }
          },
          "scene": {
           "xaxis": {
            "backgroundcolor": "#E5ECF6",
            "gridcolor": "white",
            "gridwidth": 2,
            "linecolor": "white",
            "showbackground": true,
            "ticks": "",
            "zerolinecolor": "white"
           },
           "yaxis": {
            "backgroundcolor": "#E5ECF6",
            "gridcolor": "white",
            "gridwidth": 2,
            "linecolor": "white",
            "showbackground": true,
            "ticks": "",
            "zerolinecolor": "white"
           },
           "zaxis": {
            "backgroundcolor": "#E5ECF6",
            "gridcolor": "white",
            "gridwidth": 2,
            "linecolor": "white",
            "showbackground": true,
            "ticks": "",
            "zerolinecolor": "white"
           }
          },
          "shapedefaults": {
           "line": {
            "color": "#2a3f5f"
           }
          },
          "ternary": {
           "aaxis": {
            "gridcolor": "white",
            "linecolor": "white",
            "ticks": ""
           },
           "baxis": {
            "gridcolor": "white",
            "linecolor": "white",
            "ticks": ""
           },
           "bgcolor": "#E5ECF6",
           "caxis": {
            "gridcolor": "white",
            "linecolor": "white",
            "ticks": ""
           }
          },
          "title": {
           "x": 0.05
          },
          "xaxis": {
           "automargin": true,
           "gridcolor": "white",
           "linecolor": "white",
           "ticks": "",
           "title": {
            "standoff": 15
           },
           "zerolinecolor": "white",
           "zerolinewidth": 2
          },
          "yaxis": {
           "automargin": true,
           "gridcolor": "white",
           "linecolor": "white",
           "ticks": "",
           "title": {
            "standoff": 15
           },
           "zerolinecolor": "white",
           "zerolinewidth": 2
          }
         }
        },
        "title": {
         "text": "Top 10 Brands by Product Count"
        },
        "xaxis": {
         "anchor": "y",
         "domain": [
          0,
          1
         ],
         "title": {
          "text": "Brand"
         }
        },
        "yaxis": {
         "anchor": "x",
         "domain": [
          0,
          1
         ],
         "title": {
          "text": "Product Count"
         }
        }
       }
      }
     },
     "metadata": {},
     "output_type": "display_data"
    }
   ],
   "source": [
    "#Q1: What are the top brands by product count?\n",
    "brand_counts = df['BrandName'].value_counts().nlargest(10).reset_index()\n",
    "brand_counts.columns = ['BrandName', 'count']\n",
    "\n",
    "# Step: Plot with corrected column names\n",
    "fig = px.bar(brand_counts,\n",
    "             x='BrandName', y='count',\n",
    "             labels={'BrandName': 'Brand', 'count': 'Product Count'},\n",
    "             title='Top 10 Brands by Product Count')\n",
    "fig.show()\n"
   ]
  },
  {
   "cell_type": "code",
   "execution_count": 131,
   "id": "97a09e14",
   "metadata": {},
   "outputs": [
    {
     "data": {
      "application/vnd.plotly.v1+json": {
       "config": {
        "plotlyServerURL": "https://plot.ly"
       },
       "data": [
        {
         "bingroup": "x",
         "histnorm": "probability density",
         "hovertemplate": "ProductRating=%{x}<br>probability density=%{y}<extra></extra>",
         "legendgroup": "",
         "marker": {
          "color": "#636efa",
          "pattern": {
           "shape": ""
          }
         },
         "name": "",
         "nbinsx": 20,
         "orientation": "v",
         "showlegend": false,
         "type": "histogram",
         "x": {
          "bdata": "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",
          "dtype": "f8"
         },
         "xaxis": "x",
         "yaxis": "y"
        },
        {
         "hovertemplate": "ProductRating=%{x}<extra></extra>",
         "legendgroup": "",
         "marker": {
          "color": "#636efa"
         },
         "name": "",
         "notched": true,
         "showlegend": false,
         "type": "box",
         "x": {
          "bdata": "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",
          "dtype": "f8"
         },
         "xaxis": "x2",
         "yaxis": "y2"
        }
       ],
       "layout": {
        "bargap": 0.2,
        "barmode": "relative",
        "legend": {
         "tracegroupgap": 0
        },
        "template": {
         "data": {
          "bar": [
           {
            "error_x": {
             "color": "#2a3f5f"
            },
            "error_y": {
             "color": "#2a3f5f"
            },
            "marker": {
             "line": {
              "color": "#E5ECF6",
              "width": 0.5
             },
             "pattern": {
              "fillmode": "overlay",
              "size": 10,
              "solidity": 0.2
             }
            },
            "type": "bar"
           }
          ],
          "barpolar": [
           {
            "marker": {
             "line": {
              "color": "#E5ECF6",
              "width": 0.5
             },
             "pattern": {
              "fillmode": "overlay",
              "size": 10,
              "solidity": 0.2
             }
            },
            "type": "barpolar"
           }
          ],
          "carpet": [
           {
            "aaxis": {
             "endlinecolor": "#2a3f5f",
             "gridcolor": "white",
             "linecolor": "white",
             "minorgridcolor": "white",
             "startlinecolor": "#2a3f5f"
            },
            "baxis": {
             "endlinecolor": "#2a3f5f",
             "gridcolor": "white",
             "linecolor": "white",
             "minorgridcolor": "white",
             "startlinecolor": "#2a3f5f"
            },
            "type": "carpet"
           }
          ],
          "choropleth": [
           {
            "colorbar": {
             "outlinewidth": 0,
             "ticks": ""
            },
            "type": "choropleth"
           }
          ],
          "contour": [
           {
            "colorbar": {
             "outlinewidth": 0,
             "ticks": ""
            },
            "colorscale": [
             [
              0,
              "#0d0887"
             ],
             [
              0.1111111111111111,
              "#46039f"
             ],
             [
              0.2222222222222222,
              "#7201a8"
             ],
             [
              0.3333333333333333,
              "#9c179e"
             ],
             [
              0.4444444444444444,
              "#bd3786"
             ],
             [
              0.5555555555555556,
              "#d8576b"
             ],
             [
              0.6666666666666666,
              "#ed7953"
             ],
             [
              0.7777777777777778,
              "#fb9f3a"
             ],
             [
              0.8888888888888888,
              "#fdca26"
             ],
             [
              1,
              "#f0f921"
             ]
            ],
            "type": "contour"
           }
          ],
          "contourcarpet": [
           {
            "colorbar": {
             "outlinewidth": 0,
             "ticks": ""
            },
            "type": "contourcarpet"
           }
          ],
          "heatmap": [
           {
            "colorbar": {
             "outlinewidth": 0,
             "ticks": ""
            },
            "colorscale": [
             [
              0,
              "#0d0887"
             ],
             [
              0.1111111111111111,
              "#46039f"
             ],
             [
              0.2222222222222222,
              "#7201a8"
             ],
             [
              0.3333333333333333,
              "#9c179e"
             ],
             [
              0.4444444444444444,
              "#bd3786"
             ],
             [
              0.5555555555555556,
              "#d8576b"
             ],
             [
              0.6666666666666666,
              "#ed7953"
             ],
             [
              0.7777777777777778,
              "#fb9f3a"
             ],
             [
              0.8888888888888888,
              "#fdca26"
             ],
             [
              1,
              "#f0f921"
             ]
            ],
            "type": "heatmap"
           }
          ],
          "histogram": [
           {
            "marker": {
             "pattern": {
              "fillmode": "overlay",
              "size": 10,
              "solidity": 0.2
             }
            },
            "type": "histogram"
           }
          ],
          "histogram2d": [
           {
            "colorbar": {
             "outlinewidth": 0,
             "ticks": ""
            },
            "colorscale": [
             [
              0,
              "#0d0887"
             ],
             [
              0.1111111111111111,
              "#46039f"
             ],
             [
              0.2222222222222222,
              "#7201a8"
             ],
             [
              0.3333333333333333,
              "#9c179e"
             ],
             [
              0.4444444444444444,
              "#bd3786"
             ],
             [
              0.5555555555555556,
              "#d8576b"
             ],
             [
              0.6666666666666666,
              "#ed7953"
             ],
             [
              0.7777777777777778,
              "#fb9f3a"
             ],
             [
              0.8888888888888888,
              "#fdca26"
             ],
             [
              1,
              "#f0f921"
             ]
            ],
            "type": "histogram2d"
           }
          ],
          "histogram2dcontour": [
           {
            "colorbar": {
             "outlinewidth": 0,
             "ticks": ""
            },
            "colorscale": [
             [
              0,
              "#0d0887"
             ],
             [
              0.1111111111111111,
              "#46039f"
             ],
             [
              0.2222222222222222,
              "#7201a8"
             ],
             [
              0.3333333333333333,
              "#9c179e"
             ],
             [
              0.4444444444444444,
              "#bd3786"
             ],
             [
              0.5555555555555556,
              "#d8576b"
             ],
             [
              0.6666666666666666,
              "#ed7953"
             ],
             [
              0.7777777777777778,
              "#fb9f3a"
             ],
             [
              0.8888888888888888,
              "#fdca26"
             ],
             [
              1,
              "#f0f921"
             ]
            ],
            "type": "histogram2dcontour"
           }
          ],
          "mesh3d": [
           {
            "colorbar": {
             "outlinewidth": 0,
             "ticks": ""
            },
            "type": "mesh3d"
           }
          ],
          "parcoords": [
           {
            "line": {
             "colorbar": {
              "outlinewidth": 0,
              "ticks": ""
             }
            },
            "type": "parcoords"
           }
          ],
          "pie": [
           {
            "automargin": true,
            "type": "pie"
           }
          ],
          "scatter": [
           {
            "fillpattern": {
             "fillmode": "overlay",
             "size": 10,
             "solidity": 0.2
            },
            "type": "scatter"
           }
          ],
          "scatter3d": [
           {
            "line": {
             "colorbar": {
              "outlinewidth": 0,
              "ticks": ""
             }
            },
            "marker": {
             "colorbar": {
              "outlinewidth": 0,
              "ticks": ""
             }
            },
            "type": "scatter3d"
           }
          ],
          "scattercarpet": [
           {
            "marker": {
             "colorbar": {
              "outlinewidth": 0,
              "ticks": ""
             }
            },
            "type": "scattercarpet"
           }
          ],
          "scattergeo": [
           {
            "marker": {
             "colorbar": {
              "outlinewidth": 0,
              "ticks": ""
             }
            },
            "type": "scattergeo"
           }
          ],
          "scattergl": [
           {
            "marker": {
             "colorbar": {
              "outlinewidth": 0,
              "ticks": ""
             }
            },
            "type": "scattergl"
           }
          ],
          "scattermap": [
           {
            "marker": {
             "colorbar": {
              "outlinewidth": 0,
              "ticks": ""
             }
            },
            "type": "scattermap"
           }
          ],
          "scattermapbox": [
           {
            "marker": {
             "colorbar": {
              "outlinewidth": 0,
              "ticks": ""
             }
            },
            "type": "scattermapbox"
           }
          ],
          "scatterpolar": [
           {
            "marker": {
             "colorbar": {
              "outlinewidth": 0,
              "ticks": ""
             }
            },
            "type": "scatterpolar"
           }
          ],
          "scatterpolargl": [
           {
            "marker": {
             "colorbar": {
              "outlinewidth": 0,
              "ticks": ""
             }
            },
            "type": "scatterpolargl"
           }
          ],
          "scatterternary": [
           {
            "marker": {
             "colorbar": {
              "outlinewidth": 0,
              "ticks": ""
             }
            },
            "type": "scatterternary"
           }
          ],
          "surface": [
           {
            "colorbar": {
             "outlinewidth": 0,
             "ticks": ""
            },
            "colorscale": [
             [
              0,
              "#0d0887"
             ],
             [
              0.1111111111111111,
              "#46039f"
             ],
             [
              0.2222222222222222,
              "#7201a8"
             ],
             [
              0.3333333333333333,
              "#9c179e"
             ],
             [
              0.4444444444444444,
              "#bd3786"
             ],
             [
              0.5555555555555556,
              "#d8576b"
             ],
             [
              0.6666666666666666,
              "#ed7953"
             ],
             [
              0.7777777777777778,
              "#fb9f3a"
             ],
             [
              0.8888888888888888,
              "#fdca26"
             ],
             [
              1,
              "#f0f921"
             ]
            ],
            "type": "surface"
           }
          ],
          "table": [
           {
            "cells": {
             "fill": {
              "color": "#EBF0F8"
             },
             "line": {
              "color": "white"
             }
            },
            "header": {
             "fill": {
              "color": "#C8D4E3"
             },
             "line": {
              "color": "white"
             }
            },
            "type": "table"
           }
          ]
         },
         "layout": {
          "annotationdefaults": {
           "arrowcolor": "#2a3f5f",
           "arrowhead": 0,
           "arrowwidth": 1
          },
          "autotypenumbers": "strict",
          "coloraxis": {
           "colorbar": {
            "outlinewidth": 0,
            "ticks": ""
           }
          },
          "colorscale": {
           "diverging": [
            [
             0,
             "#8e0152"
            ],
            [
             0.1,
             "#c51b7d"
            ],
            [
             0.2,
             "#de77ae"
            ],
            [
             0.3,
             "#f1b6da"
            ],
            [
             0.4,
             "#fde0ef"
            ],
            [
             0.5,
             "#f7f7f7"
            ],
            [
             0.6,
             "#e6f5d0"
            ],
            [
             0.7,
             "#b8e186"
            ],
            [
             0.8,
             "#7fbc41"
            ],
            [
             0.9,
             "#4d9221"
            ],
            [
             1,
             "#276419"
            ]
           ],
           "sequential": [
            [
             0,
             "#0d0887"
            ],
            [
             0.1111111111111111,
             "#46039f"
            ],
            [
             0.2222222222222222,
             "#7201a8"
            ],
            [
             0.3333333333333333,
             "#9c179e"
            ],
            [
             0.4444444444444444,
             "#bd3786"
            ],
            [
             0.5555555555555556,
             "#d8576b"
            ],
            [
             0.6666666666666666,
             "#ed7953"
            ],
            [
             0.7777777777777778,
             "#fb9f3a"
            ],
            [
             0.8888888888888888,
             "#fdca26"
            ],
            [
             1,
             "#f0f921"
            ]
           ],
           "sequentialminus": [
            [
             0,
             "#0d0887"
            ],
            [
             0.1111111111111111,
             "#46039f"
            ],
            [
             0.2222222222222222,
             "#7201a8"
            ],
            [
             0.3333333333333333,
             "#9c179e"
            ],
            [
             0.4444444444444444,
             "#bd3786"
            ],
            [
             0.5555555555555556,
             "#d8576b"
            ],
            [
             0.6666666666666666,
             "#ed7953"
            ],
            [
             0.7777777777777778,
             "#fb9f3a"
            ],
            [
             0.8888888888888888,
             "#fdca26"
            ],
            [
             1,
             "#f0f921"
            ]
           ]
          },
          "colorway": [
           "#636efa",
           "#EF553B",
           "#00cc96",
           "#ab63fa",
           "#FFA15A",
           "#19d3f3",
           "#FF6692",
           "#B6E880",
           "#FF97FF",
           "#FECB52"
          ],
          "font": {
           "color": "#2a3f5f"
          },
          "geo": {
           "bgcolor": "white",
           "lakecolor": "white",
           "landcolor": "#E5ECF6",
           "showlakes": true,
           "showland": true,
           "subunitcolor": "white"
          },
          "hoverlabel": {
           "align": "left"
          },
          "hovermode": "closest",
          "mapbox": {
           "style": "light"
          },
          "paper_bgcolor": "white",
          "plot_bgcolor": "#E5ECF6",
          "polar": {
           "angularaxis": {
            "gridcolor": "white",
            "linecolor": "white",
            "ticks": ""
           },
           "bgcolor": "#E5ECF6",
           "radialaxis": {
            "gridcolor": "white",
            "linecolor": "white",
            "ticks": ""
           }
          },
          "scene": {
           "xaxis": {
            "backgroundcolor": "#E5ECF6",
            "gridcolor": "white",
            "gridwidth": 2,
            "linecolor": "white",
            "showbackground": true,
            "ticks": "",
            "zerolinecolor": "white"
           },
           "yaxis": {
            "backgroundcolor": "#E5ECF6",
            "gridcolor": "white",
            "gridwidth": 2,
            "linecolor": "white",
            "showbackground": true,
            "ticks": "",
            "zerolinecolor": "white"
           },
           "zaxis": {
            "backgroundcolor": "#E5ECF6",
            "gridcolor": "white",
            "gridwidth": 2,
            "linecolor": "white",
            "showbackground": true,
            "ticks": "",
            "zerolinecolor": "white"
           }
          },
          "shapedefaults": {
           "line": {
            "color": "#2a3f5f"
           }
          },
          "ternary": {
           "aaxis": {
            "gridcolor": "white",
            "linecolor": "white",
            "ticks": ""
           },
           "baxis": {
            "gridcolor": "white",
            "linecolor": "white",
            "ticks": ""
           },
           "bgcolor": "#E5ECF6",
           "caxis": {
            "gridcolor": "white",
            "linecolor": "white",
            "ticks": ""
           }
          },
          "title": {
           "x": 0.05
          },
          "xaxis": {
           "automargin": true,
           "gridcolor": "white",
           "linecolor": "white",
           "ticks": "",
           "title": {
            "standoff": 15
           },
           "zerolinecolor": "white",
           "zerolinewidth": 2
          },
          "yaxis": {
           "automargin": true,
           "gridcolor": "white",
           "linecolor": "white",
           "ticks": "",
           "title": {
            "standoff": 15
           },
           "zerolinecolor": "white",
           "zerolinewidth": 2
          }
         }
        },
        "title": {
         "text": "Rating Distribution with Density Curve"
        },
        "xaxis": {
         "anchor": "y",
         "domain": [
          0,
          1
         ],
         "title": {
          "text": "ProductRating"
         }
        },
        "xaxis2": {
         "anchor": "y2",
         "domain": [
          0,
          1
         ],
         "matches": "x",
         "showgrid": true,
         "showticklabels": false
        },
        "yaxis": {
         "anchor": "x",
         "domain": [
          0,
          0.8316
         ],
         "title": {
          "text": "probability density"
         }
        },
        "yaxis2": {
         "anchor": "x2",
         "domain": [
          0.8416,
          1
         ],
         "matches": "y2",
         "showgrid": false,
         "showline": false,
         "showticklabels": false,
         "ticks": ""
        }
       }
      }
     },
     "metadata": {},
     "output_type": "display_data"
    }
   ],
   "source": [
    "#Q2: Distribution of Ratings\n",
    "fig = px.histogram(\n",
    "    df,\n",
    "    x='ProductRating',\n",
    "    nbins=20,\n",
    "    marginal='box',  # Adds a boxplot above the histogram\n",
    "    title='Rating Distribution with Density Curve',\n",
    "    histnorm='probability density'\n",
    ")\n",
    "\n",
    "fig.update_layout(bargap=0.2)\n",
    "fig.show()"
   ]
  },
  {
   "cell_type": "code",
   "execution_count": 132,
   "id": "374fdb91",
   "metadata": {},
   "outputs": [
    {
     "data": {
      "application/vnd.plotly.v1+json": {
       "config": {
        "plotlyServerURL": "https://plot.ly"
       },
       "data": [
        {
         "alignmentgroup": "True",
         "hovertemplate": "BrandName=%{x}<br>Selling Price=%{y}<extra></extra>",
         "legendgroup": "",
         "marker": {
          "color": "#636efa"
         },
         "name": "",
         "notched": false,
         "offsetgroup": "",
         "orientation": "v",
         "showlegend": false,
         "type": "box",
         "x": [
          "ADIDAS",
          "ADIDAS",
          "SELECTED",
          "SELECTED",
          "ADIDAS",
          "ADIDAS",
          "ADIDAS",
          "ADIDAS",
          "ADIDAS",
          "ADIDAS",
          "ADIDAS",
          "Lapis Bard",
          "DENICRAAS",
          "Calvin Klein",
          "DAVIDOFF",
          "DAVIDOFF",
          "Nothing",
          "Braun",
          "Braun",
          "Braun",
          "Braun",
          "Braun",
          "Saregama",
          "Saregama",
          "Sony",
          "Sony",
          "Sony",
          "Saregama",
          "Saregama",
          "Sony",
          "Saregama",
          "Saregama",
          "Saregama",
          "Saregama",
          "Saregama",
          "Sony",
          "Sony",
          "Sony",
          "Sony"
         ],
         "x0": " ",
         "xaxis": "x",
         "y": {
          "bdata": "6QG7At8Vnw8fHAkP/wgPDqsm9AsfDecatwsNETcUHg8fTuNXox+TEW8XswVOG04bKiEqISohQh0AACohAAA2H0IdQh26CZYPlg+WD5YP",
          "dtype": "i2"
         },
         "y0": " ",
         "yaxis": "y"
        }
       ],
       "layout": {
        "boxmode": "group",
        "legend": {
         "tracegroupgap": 0
        },
        "template": {
         "data": {
          "bar": [
           {
            "error_x": {
             "color": "#2a3f5f"
            },
            "error_y": {
             "color": "#2a3f5f"
            },
            "marker": {
             "line": {
              "color": "#E5ECF6",
              "width": 0.5
             },
             "pattern": {
              "fillmode": "overlay",
              "size": 10,
              "solidity": 0.2
             }
            },
            "type": "bar"
           }
          ],
          "barpolar": [
           {
            "marker": {
             "line": {
              "color": "#E5ECF6",
              "width": 0.5
             },
             "pattern": {
              "fillmode": "overlay",
              "size": 10,
              "solidity": 0.2
             }
            },
            "type": "barpolar"
           }
          ],
          "carpet": [
           {
            "aaxis": {
             "endlinecolor": "#2a3f5f",
             "gridcolor": "white",
             "linecolor": "white",
             "minorgridcolor": "white",
             "startlinecolor": "#2a3f5f"
            },
            "baxis": {
             "endlinecolor": "#2a3f5f",
             "gridcolor": "white",
             "linecolor": "white",
             "minorgridcolor": "white",
             "startlinecolor": "#2a3f5f"
            },
            "type": "carpet"
           }
          ],
          "choropleth": [
           {
            "colorbar": {
             "outlinewidth": 0,
             "ticks": ""
            },
            "type": "choropleth"
           }
          ],
          "contour": [
           {
            "colorbar": {
             "outlinewidth": 0,
             "ticks": ""
            },
            "colorscale": [
             [
              0,
              "#0d0887"
             ],
             [
              0.1111111111111111,
              "#46039f"
             ],
             [
              0.2222222222222222,
              "#7201a8"
             ],
             [
              0.3333333333333333,
              "#9c179e"
             ],
             [
              0.4444444444444444,
              "#bd3786"
             ],
             [
              0.5555555555555556,
              "#d8576b"
             ],
             [
              0.6666666666666666,
              "#ed7953"
             ],
             [
              0.7777777777777778,
              "#fb9f3a"
             ],
             [
              0.8888888888888888,
              "#fdca26"
             ],
             [
              1,
              "#f0f921"
             ]
            ],
            "type": "contour"
           }
          ],
          "contourcarpet": [
           {
            "colorbar": {
             "outlinewidth": 0,
             "ticks": ""
            },
            "type": "contourcarpet"
           }
          ],
          "heatmap": [
           {
            "colorbar": {
             "outlinewidth": 0,
             "ticks": ""
            },
            "colorscale": [
             [
              0,
              "#0d0887"
             ],
             [
              0.1111111111111111,
              "#46039f"
             ],
             [
              0.2222222222222222,
              "#7201a8"
             ],
             [
              0.3333333333333333,
              "#9c179e"
             ],
             [
              0.4444444444444444,
              "#bd3786"
             ],
             [
              0.5555555555555556,
              "#d8576b"
             ],
             [
              0.6666666666666666,
              "#ed7953"
             ],
             [
              0.7777777777777778,
              "#fb9f3a"
             ],
             [
              0.8888888888888888,
              "#fdca26"
             ],
             [
              1,
              "#f0f921"
             ]
            ],
            "type": "heatmap"
           }
          ],
          "histogram": [
           {
            "marker": {
             "pattern": {
              "fillmode": "overlay",
              "size": 10,
              "solidity": 0.2
             }
            },
            "type": "histogram"
           }
          ],
          "histogram2d": [
           {
            "colorbar": {
             "outlinewidth": 0,
             "ticks": ""
            },
            "colorscale": [
             [
              0,
              "#0d0887"
             ],
             [
              0.1111111111111111,
              "#46039f"
             ],
             [
              0.2222222222222222,
              "#7201a8"
             ],
             [
              0.3333333333333333,
              "#9c179e"
             ],
             [
              0.4444444444444444,
              "#bd3786"
             ],
             [
              0.5555555555555556,
              "#d8576b"
             ],
             [
              0.6666666666666666,
              "#ed7953"
             ],
             [
              0.7777777777777778,
              "#fb9f3a"
             ],
             [
              0.8888888888888888,
              "#fdca26"
             ],
             [
              1,
              "#f0f921"
             ]
            ],
            "type": "histogram2d"
           }
          ],
          "histogram2dcontour": [
           {
            "colorbar": {
             "outlinewidth": 0,
             "ticks": ""
            },
            "colorscale": [
             [
              0,
              "#0d0887"
             ],
             [
              0.1111111111111111,
              "#46039f"
             ],
             [
              0.2222222222222222,
              "#7201a8"
             ],
             [
              0.3333333333333333,
              "#9c179e"
             ],
             [
              0.4444444444444444,
              "#bd3786"
             ],
             [
              0.5555555555555556,
              "#d8576b"
             ],
             [
              0.6666666666666666,
              "#ed7953"
             ],
             [
              0.7777777777777778,
              "#fb9f3a"
             ],
             [
              0.8888888888888888,
              "#fdca26"
             ],
             [
              1,
              "#f0f921"
             ]
            ],
            "type": "histogram2dcontour"
           }
          ],
          "mesh3d": [
           {
            "colorbar": {
             "outlinewidth": 0,
             "ticks": ""
            },
            "type": "mesh3d"
           }
          ],
          "parcoords": [
           {
            "line": {
             "colorbar": {
              "outlinewidth": 0,
              "ticks": ""
             }
            },
            "type": "parcoords"
           }
          ],
          "pie": [
           {
            "automargin": true,
            "type": "pie"
           }
          ],
          "scatter": [
           {
            "fillpattern": {
             "fillmode": "overlay",
             "size": 10,
             "solidity": 0.2
            },
            "type": "scatter"
           }
          ],
          "scatter3d": [
           {
            "line": {
             "colorbar": {
              "outlinewidth": 0,
              "ticks": ""
             }
            },
            "marker": {
             "colorbar": {
              "outlinewidth": 0,
              "ticks": ""
             }
            },
            "type": "scatter3d"
           }
          ],
          "scattercarpet": [
           {
            "marker": {
             "colorbar": {
              "outlinewidth": 0,
              "ticks": ""
             }
            },
            "type": "scattercarpet"
           }
          ],
          "scattergeo": [
           {
            "marker": {
             "colorbar": {
              "outlinewidth": 0,
              "ticks": ""
             }
            },
            "type": "scattergeo"
           }
          ],
          "scattergl": [
           {
            "marker": {
             "colorbar": {
              "outlinewidth": 0,
              "ticks": ""
             }
            },
            "type": "scattergl"
           }
          ],
          "scattermap": [
           {
            "marker": {
             "colorbar": {
              "outlinewidth": 0,
              "ticks": ""
             }
            },
            "type": "scattermap"
           }
          ],
          "scattermapbox": [
           {
            "marker": {
             "colorbar": {
              "outlinewidth": 0,
              "ticks": ""
             }
            },
            "type": "scattermapbox"
           }
          ],
          "scatterpolar": [
           {
            "marker": {
             "colorbar": {
              "outlinewidth": 0,
              "ticks": ""
             }
            },
            "type": "scatterpolar"
           }
          ],
          "scatterpolargl": [
           {
            "marker": {
             "colorbar": {
              "outlinewidth": 0,
              "ticks": ""
             }
            },
            "type": "scatterpolargl"
           }
          ],
          "scatterternary": [
           {
            "marker": {
             "colorbar": {
              "outlinewidth": 0,
              "ticks": ""
             }
            },
            "type": "scatterternary"
           }
          ],
          "surface": [
           {
            "colorbar": {
             "outlinewidth": 0,
             "ticks": ""
            },
            "colorscale": [
             [
              0,
              "#0d0887"
             ],
             [
              0.1111111111111111,
              "#46039f"
             ],
             [
              0.2222222222222222,
              "#7201a8"
             ],
             [
              0.3333333333333333,
              "#9c179e"
             ],
             [
              0.4444444444444444,
              "#bd3786"
             ],
             [
              0.5555555555555556,
              "#d8576b"
             ],
             [
              0.6666666666666666,
              "#ed7953"
             ],
             [
              0.7777777777777778,
              "#fb9f3a"
             ],
             [
              0.8888888888888888,
              "#fdca26"
             ],
             [
              1,
              "#f0f921"
             ]
            ],
            "type": "surface"
           }
          ],
          "table": [
           {
            "cells": {
             "fill": {
              "color": "#EBF0F8"
             },
             "line": {
              "color": "white"
             }
            },
            "header": {
             "fill": {
              "color": "#C8D4E3"
             },
             "line": {
              "color": "white"
             }
            },
            "type": "table"
           }
          ]
         },
         "layout": {
          "annotationdefaults": {
           "arrowcolor": "#2a3f5f",
           "arrowhead": 0,
           "arrowwidth": 1
          },
          "autotypenumbers": "strict",
          "coloraxis": {
           "colorbar": {
            "outlinewidth": 0,
            "ticks": ""
           }
          },
          "colorscale": {
           "diverging": [
            [
             0,
             "#8e0152"
            ],
            [
             0.1,
             "#c51b7d"
            ],
            [
             0.2,
             "#de77ae"
            ],
            [
             0.3,
             "#f1b6da"
            ],
            [
             0.4,
             "#fde0ef"
            ],
            [
             0.5,
             "#f7f7f7"
            ],
            [
             0.6,
             "#e6f5d0"
            ],
            [
             0.7,
             "#b8e186"
            ],
            [
             0.8,
             "#7fbc41"
            ],
            [
             0.9,
             "#4d9221"
            ],
            [
             1,
             "#276419"
            ]
           ],
           "sequential": [
            [
             0,
             "#0d0887"
            ],
            [
             0.1111111111111111,
             "#46039f"
            ],
            [
             0.2222222222222222,
             "#7201a8"
            ],
            [
             0.3333333333333333,
             "#9c179e"
            ],
            [
             0.4444444444444444,
             "#bd3786"
            ],
            [
             0.5555555555555556,
             "#d8576b"
            ],
            [
             0.6666666666666666,
             "#ed7953"
            ],
            [
             0.7777777777777778,
             "#fb9f3a"
            ],
            [
             0.8888888888888888,
             "#fdca26"
            ],
            [
             1,
             "#f0f921"
            ]
           ],
           "sequentialminus": [
            [
             0,
             "#0d0887"
            ],
            [
             0.1111111111111111,
             "#46039f"
            ],
            [
             0.2222222222222222,
             "#7201a8"
            ],
            [
             0.3333333333333333,
             "#9c179e"
            ],
            [
             0.4444444444444444,
             "#bd3786"
            ],
            [
             0.5555555555555556,
             "#d8576b"
            ],
            [
             0.6666666666666666,
             "#ed7953"
            ],
            [
             0.7777777777777778,
             "#fb9f3a"
            ],
            [
             0.8888888888888888,
             "#fdca26"
            ],
            [
             1,
             "#f0f921"
            ]
           ]
          },
          "colorway": [
           "#636efa",
           "#EF553B",
           "#00cc96",
           "#ab63fa",
           "#FFA15A",
           "#19d3f3",
           "#FF6692",
           "#B6E880",
           "#FF97FF",
           "#FECB52"
          ],
          "font": {
           "color": "#2a3f5f"
          },
          "geo": {
           "bgcolor": "white",
           "lakecolor": "white",
           "landcolor": "#E5ECF6",
           "showlakes": true,
           "showland": true,
           "subunitcolor": "white"
          },
          "hoverlabel": {
           "align": "left"
          },
          "hovermode": "closest",
          "mapbox": {
           "style": "light"
          },
          "paper_bgcolor": "white",
          "plot_bgcolor": "#E5ECF6",
          "polar": {
           "angularaxis": {
            "gridcolor": "white",
            "linecolor": "white",
            "ticks": ""
           },
           "bgcolor": "#E5ECF6",
           "radialaxis": {
            "gridcolor": "white",
            "linecolor": "white",
            "ticks": ""
           }
          },
          "scene": {
           "xaxis": {
            "backgroundcolor": "#E5ECF6",
            "gridcolor": "white",
            "gridwidth": 2,
            "linecolor": "white",
            "showbackground": true,
            "ticks": "",
            "zerolinecolor": "white"
           },
           "yaxis": {
            "backgroundcolor": "#E5ECF6",
            "gridcolor": "white",
            "gridwidth": 2,
            "linecolor": "white",
            "showbackground": true,
            "ticks": "",
            "zerolinecolor": "white"
           },
           "zaxis": {
            "backgroundcolor": "#E5ECF6",
            "gridcolor": "white",
            "gridwidth": 2,
            "linecolor": "white",
            "showbackground": true,
            "ticks": "",
            "zerolinecolor": "white"
           }
          },
          "shapedefaults": {
           "line": {
            "color": "#2a3f5f"
           }
          },
          "ternary": {
           "aaxis": {
            "gridcolor": "white",
            "linecolor": "white",
            "ticks": ""
           },
           "baxis": {
            "gridcolor": "white",
            "linecolor": "white",
            "ticks": ""
           },
           "bgcolor": "#E5ECF6",
           "caxis": {
            "gridcolor": "white",
            "linecolor": "white",
            "ticks": ""
           }
          },
          "title": {
           "x": 0.05
          },
          "xaxis": {
           "automargin": true,
           "gridcolor": "white",
           "linecolor": "white",
           "ticks": "",
           "title": {
            "standoff": 15
           },
           "zerolinecolor": "white",
           "zerolinewidth": 2
          },
          "yaxis": {
           "automargin": true,
           "gridcolor": "white",
           "linecolor": "white",
           "ticks": "",
           "title": {
            "standoff": 15
           },
           "zerolinecolor": "white",
           "zerolinewidth": 2
          }
         }
        },
        "title": {
         "text": "Top 10 Brands by Average Selling Price"
        },
        "xaxis": {
         "anchor": "y",
         "categoryorder": "total descending",
         "domain": [
          0,
          1
         ],
         "title": {
          "text": "BrandName"
         }
        },
        "yaxis": {
         "anchor": "x",
         "domain": [
          0,
          1
         ],
         "title": {
          "text": "Selling Price"
         }
        }
       }
      }
     },
     "metadata": {},
     "output_type": "display_data"
    }
   ],
   "source": [
    "# Q3: Top 10 Brands by Average Selling Price\n",
    "\n",
    "top10_brands_avg = df.groupby('BrandName')['ProductSellingPrice'].mean().nlargest(10).index\n",
    "\n",
    "# Step 2: Filter original data to include only those brands\n",
    "df_top10_avg = df[df['BrandName'].isin(top10_brands_avg)]\n",
    "\n",
    "# Step 3: Box plot\n",
    "fig = px.box(df_top10_avg, x='BrandName', y='ProductSellingPrice',\n",
    "             title='Top 10 Brands by Average Selling Price',\n",
    "             labels={'ProductSellingPrice': 'Selling Price'})\n",
    "fig.update_layout(xaxis={'categoryorder': 'total descending'})\n",
    "fig.show()"
   ]
  },
  {
   "cell_type": "code",
   "execution_count": 133,
   "id": "2cabd11c",
   "metadata": {},
   "outputs": [
    {
     "data": {
      "text/plain": [
       "Index(['Nothing', 'Braun', 'Lapis Bard', 'Sony', 'Saregama', 'SELECTED',\n",
       "       'DAVIDOFF', 'Calvin Klein', 'ADIDAS', 'DENICRAAS'],\n",
       "      dtype='object', name='BrandName')"
      ]
     },
     "execution_count": 133,
     "metadata": {},
     "output_type": "execute_result"
    }
   ],
   "source": [
    "top10_brands_avg"
   ]
  },
  {
   "cell_type": "code",
   "execution_count": 134,
   "id": "b637c69b",
   "metadata": {},
   "outputs": [
    {
     "data": {
      "application/vnd.plotly.v1+json": {
       "config": {
        "plotlyServerURL": "https://plot.ly"
       },
       "data": [
        {
         "hovertemplate": "UserSatisfactionLevel=Excellent<br>DiscountPercent=%{x}<br>ProductRating=%{y}<br>ProductRatingCount=%{marker.size}<extra></extra>",
         "legendgroup": "Excellent",
         "marker": {
          "color": "#636efa",
          "size": {
           "bdata": "CQAAACUAAAAWAAAACwAAAKkAAAAHAAAAOwAAABEAAACVAAAABwAAAAUAAAB3AAAADQAAAK8AAAAMAAAACQAAABMAAAAZAAAAMAAAAC4BAADdAwAAEQAAABMAAABkAAAAOQEAAAoAAABSAQAASQAAAAoAAAAGAAAACQAAAAUAAAAGAAAADAAAACQAAADUAAAACQAAABcAAAB6AAAADgAAAB0AAABPAAAAlgAAAOgDAAANAAAAuAsAAHwAAADoAwAA8LkAAFgbAAB2AAAAYQAAAFYAAACsDQAAnQAAADoAAABOAgAAaQAAAM8AAAAQAAAAOwAAAAsAAAAJAAAAJwAAAFQAAABMAQAAXgAAAGMAAAAYAAAAnAAAAAkBAAAHAAAAJQEAAEABAADcAAAAewAAAFMAAAAlAAAARgAAACsAAACFAAAAeAAAAAsAAACEAAAAHAAAACwAAAAHAAAAHQAAABkAAAAOAAAACgAAABAAAACEAAAAEwAAAL8AAAA3AAAADwEAAHEAAADpAAAA3gAAAAUAAAAGAAAACAAAAI0AAAAMAAAAowEAAHoCAAAOAAAABgAAADEAAAAuAAAAEQAAACMAAAANAAAACQAAADQAAAArAAAADAAAACkAAAAFAAAAiQAAAAoAAAA6AAAAFAAAAM8AAAAHAAAABgAAAA4AAACQZQAA5AwAAFQkAACoFgAA1BcAAGCfAAD8hQAA5AwAAJghAABuAgAAYAkAAPwIAAAEKQAAUC0AAHgFAAAgNQAAtEYAALgkAAAPAAAAEQAAAB4AAAAYAAAAGgEAAN4AAAAGAAAAYQEAABkBAAAYFQAACAAAAAgAAACJAAAAQQAAAAwAAAAFAAAAHQAAAD8AAAAVAAAAEQAAAA==",
           "dtype": "i4"
          },
          "sizemode": "area",
          "sizeref": 153,
          "symbol": "circle"
         },
         "mode": "markers",
         "name": "Excellent",
         "showlegend": true,
         "type": "scattergl",
         "x": {
          "bdata": "zLgTuj2CQUC5JgK5JgJVQENHPHGwNRRAzLgTuj2CQUAYK+dsKhk6QEyJXajIAklAyn2Zgm+BUkAAAAAAAAAAAAAAAAAAAAAAEjg1l7aAU0AAAAAAAAAAALGSgT/UATlA2wC6a36BUUABNSzp1oJJQItul35zAVFA2wC6a36BUUCBk8BQIgI5QCAq0rOZATlAFc8hiNcDTkASnfGyPIRFQLAH44AGhUlAFOLRAHwDQUBaw29/DAJEQKxhY2GOBCBAdVmqQecBJkAAAAAAAAAAAF6ntTBBCixAaNz+q4wGN0Dq7jQjOwFJQC3Ygi3YgktAAAAAAAAAAABx1FDP0gVJQMrsh5HNBE5AAAAAAAAAAAAAAAAAAAAAALP0OMKdAyhAK1ASvxRCUEAVzyGI1wNOQCAbgQ1UAkRAHUnfgX/DUUAAAAAAAAAAAAAAAAAAAAAAT1sZpuGCRkCTYtdDbUBRQAAAAAAAAAAAAAAAAACAUUAAAAAAAAAAAGx6SjmiBkZAYRiGYRgGRkBhD7/11QZEQFkxUMIbTTlArwA2qoaOQUAAAAAAAAAAAK/8mp5SjkZAAAAAAAAAPkDsxE7sxE5LQKyTssxugkxAAAAAAAAATkCVm6NmJf9DQAAAAAAAADRAsD5NCfEMRUBE5coiUwc0QH1LeWnslURAWz5wMFcDPkAAAAAAAAAAABU6gxU6g09AUkAzCCAFREAAAAAAAAAAAJIsHJwzA0lAAAAAAAAAAAAAAAAAAAAAAAAAAAAAAAAAc8BH2CwHTEBzwEfYLAdMQHPAR9gsB0xAPyMukAIIOUBnk69Lf4JTQKGfkojpBU5AIBZDoPCFSUCSLBycMwM5QAAAAAAAAAAAAAAAAAAAAAAAAAAAAAAAAAAAAAAAAAAAXNokR+0EOUAgBUKrWQNRQP17niATsE9AAJECRAoQOUAAAAAAAAAAAAAAAAAAAAAAXUZscsZCUECbSlKCrsJQQHdQSnJuB01AAAAAAAAAAAB8FHAZ2iMUQJNMz2fEBTJA8fee3P6jDUDx957c/qP9P5ykibgCIhlAyJWmvSKCS0Bx1FDP0gVJQMrsh5HNBE5AdpWvmt5BUkAAAAAAAABEQAAAAAAAAAAAAAAAAAAAAACFDm9+bAFJQGcQQApoBklAAAAAAAAAAAC99vTn3T5DQAEAAAAAgEtAAAAAAAAAAAAAAAAAAAAAAI7jOI7jOEZAAAAAAAAAAACO4ziO4zhGQIRaKpgfBT5Awg25Sh/cQEAS5IrOFsFQQPQyO6T/gFNAfDQhL2wVJEAAAAAAAAAAAAAAAAAAAAAAL4wI9EMHMUAAAAAAAAAAAKdEmxJtSlVAVVH8KADBUkBcqDkJxIVGQAAAAAAAAElA7MRO7MQORUAAAAAAAIBGQAeebs0Pi0BAapAGaZAGSkBAWQKb9pNHQAAAAAAAAElAAAAAAAAARkB7amGlpxY+QAAAAAAAgEFAAtodjWwYP0DHcRzHcRw/QDaU11BeA0hArMuBsUIKNED2gNkDZg8oQAAAAAAAAERAXd4BR4qGSECQayKQayIwQAAAAAAAAAAAAAAAAAAAAADUQR3UQR0UQAAAAAAAAAAAAAAAAAAAAABdgIXSVQcuQAAAAAAAAAAAAAAAAAAAJEAAAAAAAAAkQF+0fzJqKDpAFresyh6BMUDSRnkjJcJQQGnKdDOhAzFAOrta08wAOUBo3GYNtQFEQEj6DvwbBj9AOlT7VMQDSUCPUQveZc4EQAAAAAAAAAAAOlT7VMQDSUA=",
          "dtype": "f8"
         },
         "xaxis": "x",
         "y": {
          "bdata": "zczMzMzMEkBmZmZmZmYSQDMzMzMzMxNAMzMzMzMzE0BmZmZmZmYSQM3MzMzMzBJAZmZmZmZmEkCamZmZmZkTQGZmZmZmZhJAmpmZmZmZE0BmZmZmZmYSQM3MzMzMzBJAZmZmZmZmEkBmZmZmZmYSQGZmZmZmZhJAmpmZmZmZE0AzMzMzMzMTQGZmZmZmZhJAzczMzMzMEkBmZmZmZmYSQGZmZmZmZhJAMzMzMzMzE0BmZmZmZmYSQDMzMzMzMxNAzczMzMzMEkBmZmZmZmYSQM3MzMzMzBJAMzMzMzMzE0DNzMzMzMwSQDMzMzMzMxNAzczMzMzMEkBmZmZmZmYSQDMzMzMzMxNAZmZmZmZmEkBmZmZmZmYSQM3MzMzMzBJAzczMzMzMEkDNzMzMzMwSQGZmZmZmZhJAMzMzMzMzE0DNzMzMzMwSQM3MzMzMzBJAzczMzMzMEkBmZmZmZmYSQGZmZmZmZhJAZmZmZmZmEkBmZmZmZmYSQGZmZmZmZhJAZmZmZmZmEkBmZmZmZmYSQM3MzMzMzBJAZmZmZmZmEkBmZmZmZmYSQGZmZmZmZhJAzczMzMzMEkBmZmZmZmYSQM3MzMzMzBJAMzMzMzMzE0BmZmZmZmYSQM3MzMzMzBJAZmZmZmZmEkAzMzMzMzMTQDMzMzMzMxNAZmZmZmZmEkBmZmZmZmYSQGZmZmZmZhJAZmZmZmZmEkBmZmZmZmYSQM3MzMzMzBJAzczMzMzMEkBmZmZmZmYSQGZmZmZmZhJAZmZmZmZmEkBmZmZmZmYSQGZmZmZmZhJAZmZmZmZmEkBmZmZmZmYSQGZmZmZmZhJAMzMzMzMzE0BmZmZmZmYSQGZmZmZmZhJAzczMzMzMEkCamZmZmZkTQGZmZmZmZhJAZmZmZmZmEkDNzMzMzMwSQJqZmZmZmRNAZmZmZmZmEkDNzMzMzMwSQM3MzMzMzBJAzczMzMzMEkBmZmZmZmYSQGZmZmZmZhJAMzMzMzMzE0BmZmZmZmYSQGZmZmZmZhJAzczMzMzMEkDNzMzMzMwSQGZmZmZmZhJAZmZmZmZmEkBmZmZmZmYSQDMzMzMzMxNAZmZmZmZmEkAzMzMzMzMTQGZmZmZmZhJAZmZmZmZmEkBmZmZmZmYSQJqZmZmZmRNAzczMzMzMEkBmZmZmZmYSQGZmZmZmZhJAZmZmZmZmEkDNzMzMzMwSQM3MzMzMzBJAZmZmZmZmEkBmZmZmZmYSQJqZmZmZmRNAZmZmZmZmEkBmZmZmZmYSQAAAAAAAABRAzczMzMzMEkBmZmZmZmYSQDMzMzMzMxNAZmZmZmZmEkBmZmZmZmYSQM3MzMzMzBJAzczMzMzMEkAzMzMzMzMTQGZmZmZmZhJAZmZmZmZmEkBmZmZmZmYSQGZmZmZmZhJAzczMzMzMEkBmZmZmZmYSQGZmZmZmZhJAZmZmZmZmEkBmZmZmZmYSQGZmZmZmZhJAZmZmZmZmEkDNzMzMzMwSQGZmZmZmZhJAZmZmZmZmEkBmZmZmZmYSQGZmZmZmZhJAZmZmZmZmEkBmZmZmZmYSQM3MzMzMzBJAmpmZmZmZE0BmZmZmZmYSQDMzMzMzMxNAzczMzMzMEkBmZmZmZmYSQM3MzMzMzBJAZmZmZmZmEkBmZmZmZmYSQGZmZmZmZhJAAAAAAAAAFEBmZmZmZmYSQGZmZmZmZhJAZmZmZmZmEkBmZmZmZmYSQDMzMzMzMxNAMzMzMzMzE0DNzMzMzMwSQDMzMzMzMxNAMzMzMzMzE0A=",
          "dtype": "f8"
         },
         "yaxis": "y"
        },
        {
         "hovertemplate": "UserSatisfactionLevel=Avoid This Product<br>DiscountPercent=%{x}<br>ProductRating=%{y}<br>ProductRatingCount=%{marker.size}<extra></extra>",
         "legendgroup": "Avoid This Product",
         "marker": {
          "color": "#EF553B",
          "size": {
           "bdata": "AAAAAAAAAAAAAAAAAAAAAAAAAAAAAAAAAAAAAAAAAAAAAAAAAAAAAAAAAAAAAAAAAAAAAAAAAAsAAAAAAAAAAAAAAAAAAAAAAAAAAAAAAAAAAAAAAAAAAAAAAAAAAAAAAAAAAAAAAAAAAAAAAAAAAAAAAAAAAAAAAAAAAAAAAAAAAAAAAAAAAAAAAAAAAAAAAAAAAAAAAAAAAAAAAAAAAAA=",
           "dtype": "i1"
          },
          "sizemode": "area",
          "sizeref": 153,
          "symbol": "circle"
         },
         "mode": "markers",
         "name": "Avoid This Product",
         "showlegend": true,
         "type": "scattergl",
         "x": {
          "bdata": "AAAAAAAAAAAIpSe/EgNOQAAAAAAAAAAAIBuBDVQCJECYI+hSCwQ+QN7d3d3dXUdAAAAAAAAAAAC/xZxcdoBPQKrgbMr1AD5AgZPAUCICOUA6u1rTzABJQCBVOJaQgUtAIShquo4DSUAaIdvHQQFLQBU6gxU6g09AFTqDFTqDT0AAAAAAAAAAAAAAAAAAAAAAAAAAAAAAAACSLBycMwM5QKTjZCjXwUxAAAAAAAAAAAAUk+MaY0FQQKyDB7wJhU1AT7njJ0OBUUCLbpd+cwFRQKCIoDznAlFAAAAAAAAAAADbALprfoFRQFjK9Eb7QFFA6C40E28BTEAPbUU3sgI0QEaZ+dpUAUpAtBOXTVDAVUAW5Bb3YQFLQOguNBNvAUxA5picR8fBUkALzXo8bQBTQOguNBNvAUxAM9RPqHrBUECGqietXYBLQKVJzPzrQlJA6C40E28BTECrkI/ov5w8QAAAAAAAAAAAAAAAAAAAAAAAAAAAAAAAAAAAAAAAAAAAAAAAAAAAAAAAAAAAAAAAAAAAAAAAAAAAAAAAAAAAAAAAAAAAAAAAAAAAAAAAAAAAAAAAAAAAAAAAAAAAAAAAAAAAAAAAAAAAAAAAAAAAAAAAAAAAAAAAAB/BfQT3ESxAAAAAAAAAAAAAAAAAAAAAAAAAAAAAAAAAAAAAAAAAAAAynluVIXZVQPefzc4aQVBAHuyA6+OoSEAzLizinYBQQPupUxSfFFRAICrSs5kBSUDXasYCvIFBQAAAAAAAAAAAAAAAAAAAAABSQDMIIAVEQLn3bSZvhEZAAAAAAAAAAADbALprfoFRQAAAAAAAAAAAum4j2IxBTUDHu10PToJGQMBMpzBsAURAA5z2p2aCRkCqt7Pp3UBQQAAAAAAAAAAAXdhJMgYBREAAAAAAAAAAAERIKm06hFBAAAAAAAAAREBSQDMIIAU0QOac1DBxg0VAhFoqmB8FTkBxKLVuNQRHQDgjgwBEg0lAe+BMDLAHTkAAAAAAAAAAAAEAAAAAABxAWKLocuOBTUB74EwMsAc+QAAAAAAAAAAAWz5wMFcDPkAAAAAAAAAAAAAAAAAAAAAAAAAAAAAAAAB/cE+m8Qc/QEjYLAd8hFFAAAAAAAAAAAAAAAAAAAAAAOuTARyxh1NAAAAAAAAAAAAVOoMVOoNPQOLDH7LXg0ZAyF++HowDMkCQAgdkzk9RQFJAMwggBURAGEKHOK9aT0CdSvkk4kBRQFJAMwggBURAUkAzCCAFREBkbc4iE4snQHvgTAywBy5AAAAAAAAAAAAAAAAAAIBOQAAAAAAAAAAAHZYDMfNQSEAAAAAAAIBOQAAAAAAAgE5A40MbraJxRUAAAAAAAAAAAIISFZLVBihACKUnvxIDTkCCEhWS1QYoQGN2ELNygFFAAAAAAACATkDKasOVIsYuQLtOiVSDrUBArMuBsUIKREB74EwMsAc+QBn2zf5EBElAUKlJiZPDUEApVD1p7QI0QAAAAAAAAAAAunlRL3wBTUD+vNtna4VLQBhgD5yJAU9AKL7GUxzsQUCsy4GxQgo0QDwmihGd8UpAcXhGCwyHS0AhKGq6jgNJQPETuBXNQAZAAAAAAAAAAAAZduvL8jlIQECn3vpN+E1AFresyh6BQUD6fBRoWMtOQAAAAAAAAAAAszJkbCyBS0CPUQveZc4EQB2tJCY8hkxA6XcWmatyTkDgSqsUgwBOQA==",
          "dtype": "f8"
         },
         "xaxis": "x",
         "y": {
          "bdata": "AAAAAAAAAAAAAAAAAAAAAAAAAAAAAAAAAAAAAAAAAAAAAAAAAAAAAAAAAAAAAAAAAAAAAAAAAAAAAAAAAAAAAAAAAAAAAAAAAAAAAAAAAAAAAAAAAAAAAAAAAAAAAAAAAAAAAAAAAAAAAAAAAAAAAAAAAAAAAAAAAAAAAAAAAAAAAAAAAAAAAAAAAAAAAAAAAAAAAAAAAAAAAAAAAAAAAAAAAAAAAAAAAAAAAAAAAAAAAAAAAAAAAAAAAAAAAAAAAAAAAAAAAAAAAAAAAAAAAAAAAAAAAAAAAAAAAAAAAAAAAAAAAAAAAAAAAAAAAAAAAAAAAAAAAAAAAAAAAAAAAAAAAAAAAAAAAAAAAAAAAAAAAAAAAAAAAAAAAAAAAAAAAAAAAAAAAAAAAAAAAAAAAAAAAAAAAAAAAAAAAAAAAAAAAAAAAAAAAAAAAAAAAAAAAAAAAAAAAAAAAAAAAAAAAAAAAAAAAAAAAAAAAAAAAAAAAAAAAAAAAAAAAAAAAAAAAAAAAAAAAAAAAAAAAAAAAAAAAAAAAAAAAAAAAAAAAAAAAAAAAAAAAAAAAAAAAAAAAAAAAAAAAAAAAAAAAADwPwAAAAAAAAAAAAAAAAAAAAAAAAAAAAAAAAAAAAAAAAAAAAAAAAAAAAAAAAAAAAAAAAAAAAAAAAAAAAAAAAAAAAAAAAAAAAAAAAAAAAAAAAAAAAAAAAAAAAAAAAAAAAAAAAAAAAAAAAAAAAAAAAAAAAAAAAAAAAAAAAAAAAAAAAAAAAAAAAAAAAAAAAAAAAAAAAAAAAAAAAAAAAAAAAAAAAAAAAAAAAAAAAAAAAAAAAAAAAAAAAAAAAAAAAAAAAAAAAAAAAAAAAAAAAAAAAAAAAAAAAAAAAAAAAAAAAAAAAAAAAAAAAAAAAAAAAAAAAAAAAAAAAAAAAAAAAAAAAAAAAAAAAAAAAAAAAAAAAAAAAAAAAAAAAAAAAAAAAAAAAAAAAAAAAAAAAAAAAAAAAAAAAAAAAAAAAAAAAAAAAAAAAAAAAAAAAAAAAAAAAAAAAAAAAAAAAAAAAAAAAAAAAAAAAAAAAAAAAAAAAAAAAAAAAAAAAAAAAAAAAAAAAAAAAAAAAAAAAAAAAAAAAAAAAAAAAAAAAAAAAAAAAAAAAAAAAAAAAAAAAAAAAAAAAAAAAAAAAAAAAAAAAAAAAAAAAAAAAAAAAAAAAAAAAAAAAAAAAAAAAAAAAAAAAAAAAAAAAAAAAAAAAAAAAAAAAAAAAAAAAAAAAAAAAAAAAAAAAAAAAAAAAAAAAAAAAAAAAAAAAAAAAAAAAAAAAAAAAAAAAAAAAAAAAAAAAAAAAAAAAAAAAAAAAAAAAAAAAAAAAAAAAAAAAAAAAAAAAAAAAAAAAAAAAAAAAAAAAAAAAAAAAAAAAAAAAAAAAAAAAAAAAAAAAAAAAAAAAAAAAAAAAAAAAAAAAAAAAAAAAAAAAAAAAAAAAAAAAAAAAAAAAAAAAAAAAAAAAAAAAAAAAAAAAAAAAAAAAAAAAAAAAAAAAAAAAAAAAAAAAAAAAAAAAAAAAAAAAAAAAAAAAAAAAAAAAAAAAAAAAAAAAAAAAAAAAAAAAAAAAAAAAAAAAAAAAAAAAAAAAAAAAAAAAAAAAAAAAAAAAAAAAAAAAAAAAAAAAAAAAAAAAAAAAAAAAAAAAAAAAAAAAAAAAAAAAAAAAAAAAAAAAAAAAAAAAAAAAAAAA==",
          "dtype": "f8"
         },
         "yaxis": "y"
        },
        {
         "hovertemplate": "UserSatisfactionLevel=Great Product<br>DiscountPercent=%{x}<br>ProductRating=%{y}<br>ProductRatingCount=%{marker.size}<extra></extra>",
         "legendgroup": "Great Product",
         "marker": {
          "color": "#00cc96",
          "size": {
           "bdata": "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",
           "dtype": "i4"
          },
          "sizemode": "area",
          "sizeref": 153,
          "symbol": "circle"
         },
         "mode": "markers",
         "name": "Great Product",
         "showlegend": true,
         "type": "scattergl",
         "x": {
          "bdata": "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",
          "dtype": "f8"
         },
         "xaxis": "x",
         "y": {
          "bdata": "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",
          "dtype": "f8"
         },
         "yaxis": "y"
        },
        {
         "hovertemplate": "UserSatisfactionLevel=Good Choice<br>DiscountPercent=%{x}<br>ProductRating=%{y}<br>ProductRatingCount=%{marker.size}<extra></extra>",
         "legendgroup": "Good Choice",
         "marker": {
          "color": "#ab63fa",
          "size": {
           "bdata": "LwHDA9gnIABIJiYABgE+AygKzwJMBH8AZgGgDzMAZQIjAGIAKwN4BX4B4QCgAHgANQBCAKIDBwAbAGABSwNgA1cDCQOJABcACgAOACAAEQAHAAwACAAeAxQFbABQANwFECeADDYBeAW/As8ACAHTAYABqwIcDEgAzBBvARoBNwCADIkAegCMAHkAlwF+AfwIEADEANUBCAAYAAwACABtAWwAGgAYAAUA2wASAA4AwQA0CNwFIAMtAK4AGgAMAAYADgBRACkACAAKACAACAAHAAgADgBvACUAFwC5AYUCXAFZAVgANgAwALAE6AOqALAEqwA8A0sCFwCwBJsDbgJ/AJMATwAJAHoBHgAIABMAGAAcAA==",
           "dtype": "i2"
          },
          "sizemode": "area",
          "sizeref": 153,
          "symbol": "circle"
         },
         "mode": "markers",
         "name": "Good Choice",
         "showlegend": true,
         "type": "scattergl",
         "x": {
          "bdata": "HcA3GobCUEDVrOTf8wRNQK2RcWVqA1RArZFxZWoDVECtkXFlagNUQOxBJIc9iEZAmbkDuOiBVEC31vDbH4NOQDZZxDApQlRAAe899GKCVEDiNSaZowFQQBgqskBBQlRAkKkV67tBUEC/pYtd+0FQQHJQu+GbA09A73KmsmSBUkAMQ+HDJIRLQGjcZg21AVRA8vs2VY7hVUAfNEfsRcJRQH7LRfEcglBA4+BZ/CYBUkDrh5Q7bQBOQJif3UYzwVJAAAAAAAAAAABzilQZ6gBEQIaZ/fSngFRATih8S7KES0CRZ++1sIFQQOaYnEfHwVJA8Kok0OgDTUB0P5YFTIFTQHQ/lgVMgVNAZcmKeDtBU0C0E5dNUMBVQMOHSQijglFAn/xKDNgBUkBsIRW1ZsJSQAAAAAAAAAAAAAAAAAAAAAAAAAAAAAAAAAAAAAAAAAAAAAAAAAAAAABGkYxq4wBRQA2xG/qDQFNAYaWnFlZ6UUAJDydb7gBEQA/oXrBVWFRAgqh0ZM9AVEABhf/9zABUQKxJjTysAFJAAAAAAAAAVECBQ5l+jwBTQBXPIYjXAz5AMlzUDRNCVEBk0e3Sby5TQJji3sxQP0FAAAAAAAAAAADGKq5QVkJSQAAAAAAAAAAAGabhgl6CUkAyXNQNE0JUQBmm4YJeglJAAAAAAAAAAAAfNEfsRcJRQKcmLnP8gEtAAAAAAACAUUCFifP9pzBUQMCfOZy4gklAGabhgl6CUkDQsJarZwRSQHDfyCsDglBAAAAAAAAAAAAuJWjipwIsQMCcSOduAlNASEm/U0iESECYXl9xeQFTQNbzzUqdgkhANR8FnjqCR0ApfIpVJIFQQJpKGpSPAk5AmF5fcXkBU0AYOrz5sQU0QA2KFrCPAlRAnV5iQMWHVEC6eVEvfAFNQAAAAAAAAAAAZ5OvS3+CU0CqHw5xf8xVQF97+vNuH1ZAqh8OcX/MVUArUBK/FEJQQPV8RlwgBUBAAAAAAAAAAAAAAAAAAAAAAHdfwxj9gkFArMuBsUIKNEBxeEYLDIdLQHF4RgsMh0tAHW2UN1IiUkB74EwMsAdOQEMKbv9ADlRAp0SbEm1KVUAdEdgHQw5UQHMyAOVyg0FAAAAAAAAAAAAz2xkTSgY7QNc49Cum1k5A1zj0K6bWTkBWYoDgFqxQQFZigOAWrFBAVmKA4BasUEBWYoDgFqxQQNc49Cum1k5AT1sZpuGCRkC4YE7RjDBRQF3YSTIGAVRAXdhJMgYBVEBd2EkyBgFUQJif3UYzwVJA4RVe4RVeVUAtJzYl6EBVQN4Z6mRUAzpAXF/YppEAJEBGkCs6WwRBQFJAMwggBTRAb5oi7AHGQkAKJnMQcOtNQAilJ78SA05Am3A/P1xBRUAAAAAAAAAAABXPIYjXA05AFresyh6BQUDfJGB92gBEQFD72Mu6gExAtc92JsqxQEC1z3YmyrFAQA==",
          "dtype": "f8"
         },
         "xaxis": "x",
         "y": {
          "bdata": "AAAAAAAAEEAzMzMzMzMPQDMzMzMzMw9AmpmZmZmZDUAzMzMzMzMPQJqZmZmZmQ1AzczMzMzMDEDNzMzMzMwMQM3MzMzMzAxAZmZmZmZmDkAAAAAAAAAQQM3MzMzMzAxAMzMzMzMzD0AAAAAAAAAQQM3MzMzMzAxAAAAAAAAAEEDNzMzMzMwMQDMzMzMzMw9AZmZmZmZmDkCamZmZmZkNQAAAAAAAABBAAAAAAAAAEEBmZmZmZmYOQAAAAAAAABBAmpmZmZmZDUAzMzMzMzMPQGZmZmZmZg5AMzMzMzMzD0AzMzMzMzMPQGZmZmZmZg5AAAAAAAAAEEAAAAAAAAAQQAAAAAAAABBAAAAAAAAAEEAAAAAAAAAQQAAAAAAAABBAAAAAAAAAEEAzMzMzMzMPQAAAAAAAABBAMzMzMzMzD0AzMzMzMzMPQGZmZmZmZg5AZmZmZmZmDkAAAAAAAAAQQM3MzMzMzAxAMzMzMzMzD0BmZmZmZmYOQAAAAAAAABBAAAAAAAAAEEAAAAAAAAAQQAAAAAAAABBAzczMzMzMDEDNzMzMzMwMQAAAAAAAABBAMzMzMzMzD0AzMzMzMzMPQAAAAAAAABBAzczMzMzMDEAzMzMzMzMPQAAAAAAAABBAAAAAAAAAEEAzMzMzMzMPQGZmZmZmZg5AZmZmZmZmDkBmZmZmZmYOQDMzMzMzMw9AZmZmZmZmDkBmZmZmZmYOQAAAAAAAABBAAAAAAAAAEEAzMzMzMzMPQAAAAAAAABBAzczMzMzMDEBmZmZmZmYOQJqZmZmZmQ1AMzMzMzMzD0AzMzMzMzMPQGZmZmZmZg5AAAAAAAAAEEAAAAAAAAAQQJqZmZmZmQ1AZmZmZmZmDkAAAAAAAAAQQM3MzMzMzAxAmpmZmZmZDUAAAAAAAAAQQAAAAAAAABBAAAAAAAAAEEAAAAAAAAAQQDMzMzMzMw9AAAAAAAAAEEAAAAAAAAAQQDMzMzMzMw9AAAAAAAAAEEDNzMzMzMwMQGZmZmZmZg5AAAAAAAAAEEAzMzMzMzMPQJqZmZmZmQ1AAAAAAAAAEEAAAAAAAAAQQJqZmZmZmQ1AAAAAAAAAEEAzMzMzMzMPQDMzMzMzMw9AMzMzMzMzD0BmZmZmZmYOQM3MzMzMzAxAmpmZmZmZDUAAAAAAAAAQQDMzMzMzMw9AMzMzMzMzD0BmZmZmZmYOQJqZmZmZmQ1AAAAAAAAAEECamZmZmZkNQAAAAAAAABBAMzMzMzMzD0BmZmZmZmYOQJqZmZmZmQ1AAAAAAAAAEEAzMzMzMzMPQDMzMzMzMw9AmpmZmZmZDUAAAAAAAAAQQDMzMzMzMw9AMzMzMzMzD0BmZmZmZmYOQAAAAAAAABBAAAAAAAAAEEDNzMzMzMwMQAAAAAAAABBAmpmZmZmZDUAzMzMzMzMPQDMzMzMzMw9AZmZmZmZmDkAzMzMzMzMPQA==",
          "dtype": "f8"
         },
         "yaxis": "y"
        },
        {
         "hovertemplate": "UserSatisfactionLevel=Below Average<br>DiscountPercent=%{x}<br>ProductRating=%{y}<br>ProductRatingCount=%{marker.size}<extra></extra>",
         "legendgroup": "Below Average",
         "marker": {
          "color": "#FFA15A",
          "size": {
           "bdata": "sASDABwABQAXAA0ABQAdAAcA",
           "dtype": "i2"
          },
          "sizemode": "area",
          "sizeref": 153,
          "symbol": "circle"
         },
         "mode": "markers",
         "name": "Below Average",
         "showlegend": true,
         "type": "scattergl",
         "x": {
          "bdata": "WsNvfwwCVEDkmr2z60FUQPpEFhW3BU1AAAAAAAAAAAAAHeXbS0FUQHiqxTcnA1BAhFoqmB8FPkC4YE7RjDBRQECn3vpN+E1A",
          "dtype": "f8"
         },
         "xaxis": "x",
         "y": {
          "bdata": "AAAAAAAACEAAAAAAAAAIQJqZmZmZmQVAmpmZmZmZAUBmZmZmZmYGQJqZmZmZmQFAzczMzMzMBECamZmZmZkFQM3MzMzMzARA",
          "dtype": "f8"
         },
         "yaxis": "y"
        },
        {
         "hovertemplate": "UserSatisfactionLevel=Average<br>DiscountPercent=%{x}<br>ProductRating=%{y}<br>ProductRatingCount=%{marker.size}<extra></extra>",
         "legendgroup": "Average",
         "marker": {
          "color": "#19d3f3",
          "size": {
           "bdata": "XwC3AGkA/QCbAI0ADAAFABIABgBCAQcABQAcAA8A1QAGAH0ACQAFABEABgAIACEAHwAHACYADwAFABIAbAclAKoABgAGABQAIgA=",
           "dtype": "i2"
          },
          "sizemode": "area",
          "sizeref": 153,
          "symbol": "circle"
         },
         "mode": "markers",
         "name": "Average",
         "showlegend": true,
         "type": "scattergl",
         "x": {
          "bdata": "bCEVtWbCUkDAnEjnbgJTQGwhFbVmwlJA33lKH5MESUDGKq5QVkJSQPJ/GWFIglRA8QCzqaRBU0AAAAAAAAAAAFqrBgGKAVJATih8S7KES0BY16I2AMJSQE2fo37XwlFAAAAAAAAAAABd2EkyBgFUQOQK2C5D7VVAgUOZfo8AU0Aqk9xYiQFSQCU8hEaK8lNA/4uVuj2FRkDseqCYHNdUQEOkqQYqRFBAA9cfvtcDRUD9s9t1qIVKQAAAAAAAADRAzczMzMwMSUAAAAAAAAAAAH9wT6bxBz9ASxbvbbVkUkAdbZQ3UiJSQHLxsg3QJ1NAmJ/dRjPBUkBT6pmhhAU8QCtQEr8UQlBAh0oF+EkrTUBo3GYNtQFEQJTOe04KQVBAFresyh6BQUA=",
          "dtype": "f8"
         },
         "xaxis": "x",
         "y": {
          "bdata": "mpmZmZmZCUAAAAAAAAAMQDMzMzMzMwtAMzMzMzMzC0AzMzMzMzMLQDMzMzMzMwtAZmZmZmZmCkAzMzMzMzMLQAAAAAAAAAxAmpmZmZmZCUAzMzMzMzMLQDMzMzMzMwtAmpmZmZmZCUAAAAAAAAAMQAAAAAAAAAxAZmZmZmZmCkCamZmZmZkJQDMzMzMzMwtAMzMzMzMzC0AzMzMzMzMLQAAAAAAAAAxAZmZmZmZmCkDNzMzMzMwIQAAAAAAAAAxAAAAAAAAADEBmZmZmZmYKQGZmZmZmZgpAAAAAAAAADEAzMzMzMzMLQM3MzMzMzAhAAAAAAAAADEAzMzMzMzMLQJqZmZmZmQlAmpmZmZmZCUAAAAAAAAAMQAAAAAAAAAxAAAAAAAAADEA=",
          "dtype": "f8"
         },
         "yaxis": "y"
        },
        {
         "hovertemplate": "UserSatisfactionLevel=Not Recommended<br>DiscountPercent=%{x}<br>ProductRating=%{y}<br>ProductRatingCount=%{marker.size}<extra></extra>",
         "legendgroup": "Not Recommended",
         "marker": {
          "color": "#FF6692",
          "size": {
           "bdata": "Fg==",
           "dtype": "i1"
          },
          "sizemode": "area",
          "sizeref": 153,
          "symbol": "circle"
         },
         "mode": "markers",
         "name": "Not Recommended",
         "showlegend": true,
         "type": "scattergl",
         "x": {
          "bdata": "AAAAAAAAAAA=",
          "dtype": "f8"
         },
         "xaxis": "x",
         "y": {
          "bdata": "ZmZmZmZm/j8=",
          "dtype": "f8"
         },
         "yaxis": "y"
        }
       ],
       "layout": {
        "legend": {
         "itemsizing": "constant",
         "title": {
          "text": "UserSatisfactionLevel"
         },
         "tracegroupgap": 0
        },
        "template": {
         "data": {
          "bar": [
           {
            "error_x": {
             "color": "#2a3f5f"
            },
            "error_y": {
             "color": "#2a3f5f"
            },
            "marker": {
             "line": {
              "color": "#E5ECF6",
              "width": 0.5
             },
             "pattern": {
              "fillmode": "overlay",
              "size": 10,
              "solidity": 0.2
             }
            },
            "type": "bar"
           }
          ],
          "barpolar": [
           {
            "marker": {
             "line": {
              "color": "#E5ECF6",
              "width": 0.5
             },
             "pattern": {
              "fillmode": "overlay",
              "size": 10,
              "solidity": 0.2
             }
            },
            "type": "barpolar"
           }
          ],
          "carpet": [
           {
            "aaxis": {
             "endlinecolor": "#2a3f5f",
             "gridcolor": "white",
             "linecolor": "white",
             "minorgridcolor": "white",
             "startlinecolor": "#2a3f5f"
            },
            "baxis": {
             "endlinecolor": "#2a3f5f",
             "gridcolor": "white",
             "linecolor": "white",
             "minorgridcolor": "white",
             "startlinecolor": "#2a3f5f"
            },
            "type": "carpet"
           }
          ],
          "choropleth": [
           {
            "colorbar": {
             "outlinewidth": 0,
             "ticks": ""
            },
            "type": "choropleth"
           }
          ],
          "contour": [
           {
            "colorbar": {
             "outlinewidth": 0,
             "ticks": ""
            },
            "colorscale": [
             [
              0,
              "#0d0887"
             ],
             [
              0.1111111111111111,
              "#46039f"
             ],
             [
              0.2222222222222222,
              "#7201a8"
             ],
             [
              0.3333333333333333,
              "#9c179e"
             ],
             [
              0.4444444444444444,
              "#bd3786"
             ],
             [
              0.5555555555555556,
              "#d8576b"
             ],
             [
              0.6666666666666666,
              "#ed7953"
             ],
             [
              0.7777777777777778,
              "#fb9f3a"
             ],
             [
              0.8888888888888888,
              "#fdca26"
             ],
             [
              1,
              "#f0f921"
             ]
            ],
            "type": "contour"
           }
          ],
          "contourcarpet": [
           {
            "colorbar": {
             "outlinewidth": 0,
             "ticks": ""
            },
            "type": "contourcarpet"
           }
          ],
          "heatmap": [
           {
            "colorbar": {
             "outlinewidth": 0,
             "ticks": ""
            },
            "colorscale": [
             [
              0,
              "#0d0887"
             ],
             [
              0.1111111111111111,
              "#46039f"
             ],
             [
              0.2222222222222222,
              "#7201a8"
             ],
             [
              0.3333333333333333,
              "#9c179e"
             ],
             [
              0.4444444444444444,
              "#bd3786"
             ],
             [
              0.5555555555555556,
              "#d8576b"
             ],
             [
              0.6666666666666666,
              "#ed7953"
             ],
             [
              0.7777777777777778,
              "#fb9f3a"
             ],
             [
              0.8888888888888888,
              "#fdca26"
             ],
             [
              1,
              "#f0f921"
             ]
            ],
            "type": "heatmap"
           }
          ],
          "histogram": [
           {
            "marker": {
             "pattern": {
              "fillmode": "overlay",
              "size": 10,
              "solidity": 0.2
             }
            },
            "type": "histogram"
           }
          ],
          "histogram2d": [
           {
            "colorbar": {
             "outlinewidth": 0,
             "ticks": ""
            },
            "colorscale": [
             [
              0,
              "#0d0887"
             ],
             [
              0.1111111111111111,
              "#46039f"
             ],
             [
              0.2222222222222222,
              "#7201a8"
             ],
             [
              0.3333333333333333,
              "#9c179e"
             ],
             [
              0.4444444444444444,
              "#bd3786"
             ],
             [
              0.5555555555555556,
              "#d8576b"
             ],
             [
              0.6666666666666666,
              "#ed7953"
             ],
             [
              0.7777777777777778,
              "#fb9f3a"
             ],
             [
              0.8888888888888888,
              "#fdca26"
             ],
             [
              1,
              "#f0f921"
             ]
            ],
            "type": "histogram2d"
           }
          ],
          "histogram2dcontour": [
           {
            "colorbar": {
             "outlinewidth": 0,
             "ticks": ""
            },
            "colorscale": [
             [
              0,
              "#0d0887"
             ],
             [
              0.1111111111111111,
              "#46039f"
             ],
             [
              0.2222222222222222,
              "#7201a8"
             ],
             [
              0.3333333333333333,
              "#9c179e"
             ],
             [
              0.4444444444444444,
              "#bd3786"
             ],
             [
              0.5555555555555556,
              "#d8576b"
             ],
             [
              0.6666666666666666,
              "#ed7953"
             ],
             [
              0.7777777777777778,
              "#fb9f3a"
             ],
             [
              0.8888888888888888,
              "#fdca26"
             ],
             [
              1,
              "#f0f921"
             ]
            ],
            "type": "histogram2dcontour"
           }
          ],
          "mesh3d": [
           {
            "colorbar": {
             "outlinewidth": 0,
             "ticks": ""
            },
            "type": "mesh3d"
           }
          ],
          "parcoords": [
           {
            "line": {
             "colorbar": {
              "outlinewidth": 0,
              "ticks": ""
             }
            },
            "type": "parcoords"
           }
          ],
          "pie": [
           {
            "automargin": true,
            "type": "pie"
           }
          ],
          "scatter": [
           {
            "fillpattern": {
             "fillmode": "overlay",
             "size": 10,
             "solidity": 0.2
            },
            "type": "scatter"
           }
          ],
          "scatter3d": [
           {
            "line": {
             "colorbar": {
              "outlinewidth": 0,
              "ticks": ""
             }
            },
            "marker": {
             "colorbar": {
              "outlinewidth": 0,
              "ticks": ""
             }
            },
            "type": "scatter3d"
           }
          ],
          "scattercarpet": [
           {
            "marker": {
             "colorbar": {
              "outlinewidth": 0,
              "ticks": ""
             }
            },
            "type": "scattercarpet"
           }
          ],
          "scattergeo": [
           {
            "marker": {
             "colorbar": {
              "outlinewidth": 0,
              "ticks": ""
             }
            },
            "type": "scattergeo"
           }
          ],
          "scattergl": [
           {
            "marker": {
             "colorbar": {
              "outlinewidth": 0,
              "ticks": ""
             }
            },
            "type": "scattergl"
           }
          ],
          "scattermap": [
           {
            "marker": {
             "colorbar": {
              "outlinewidth": 0,
              "ticks": ""
             }
            },
            "type": "scattermap"
           }
          ],
          "scattermapbox": [
           {
            "marker": {
             "colorbar": {
              "outlinewidth": 0,
              "ticks": ""
             }
            },
            "type": "scattermapbox"
           }
          ],
          "scatterpolar": [
           {
            "marker": {
             "colorbar": {
              "outlinewidth": 0,
              "ticks": ""
             }
            },
            "type": "scatterpolar"
           }
          ],
          "scatterpolargl": [
           {
            "marker": {
             "colorbar": {
              "outlinewidth": 0,
              "ticks": ""
             }
            },
            "type": "scatterpolargl"
           }
          ],
          "scatterternary": [
           {
            "marker": {
             "colorbar": {
              "outlinewidth": 0,
              "ticks": ""
             }
            },
            "type": "scatterternary"
           }
          ],
          "surface": [
           {
            "colorbar": {
             "outlinewidth": 0,
             "ticks": ""
            },
            "colorscale": [
             [
              0,
              "#0d0887"
             ],
             [
              0.1111111111111111,
              "#46039f"
             ],
             [
              0.2222222222222222,
              "#7201a8"
             ],
             [
              0.3333333333333333,
              "#9c179e"
             ],
             [
              0.4444444444444444,
              "#bd3786"
             ],
             [
              0.5555555555555556,
              "#d8576b"
             ],
             [
              0.6666666666666666,
              "#ed7953"
             ],
             [
              0.7777777777777778,
              "#fb9f3a"
             ],
             [
              0.8888888888888888,
              "#fdca26"
             ],
             [
              1,
              "#f0f921"
             ]
            ],
            "type": "surface"
           }
          ],
          "table": [
           {
            "cells": {
             "fill": {
              "color": "#EBF0F8"
             },
             "line": {
              "color": "white"
             }
            },
            "header": {
             "fill": {
              "color": "#C8D4E3"
             },
             "line": {
              "color": "white"
             }
            },
            "type": "table"
           }
          ]
         },
         "layout": {
          "annotationdefaults": {
           "arrowcolor": "#2a3f5f",
           "arrowhead": 0,
           "arrowwidth": 1
          },
          "autotypenumbers": "strict",
          "coloraxis": {
           "colorbar": {
            "outlinewidth": 0,
            "ticks": ""
           }
          },
          "colorscale": {
           "diverging": [
            [
             0,
             "#8e0152"
            ],
            [
             0.1,
             "#c51b7d"
            ],
            [
             0.2,
             "#de77ae"
            ],
            [
             0.3,
             "#f1b6da"
            ],
            [
             0.4,
             "#fde0ef"
            ],
            [
             0.5,
             "#f7f7f7"
            ],
            [
             0.6,
             "#e6f5d0"
            ],
            [
             0.7,
             "#b8e186"
            ],
            [
             0.8,
             "#7fbc41"
            ],
            [
             0.9,
             "#4d9221"
            ],
            [
             1,
             "#276419"
            ]
           ],
           "sequential": [
            [
             0,
             "#0d0887"
            ],
            [
             0.1111111111111111,
             "#46039f"
            ],
            [
             0.2222222222222222,
             "#7201a8"
            ],
            [
             0.3333333333333333,
             "#9c179e"
            ],
            [
             0.4444444444444444,
             "#bd3786"
            ],
            [
             0.5555555555555556,
             "#d8576b"
            ],
            [
             0.6666666666666666,
             "#ed7953"
            ],
            [
             0.7777777777777778,
             "#fb9f3a"
            ],
            [
             0.8888888888888888,
             "#fdca26"
            ],
            [
             1,
             "#f0f921"
            ]
           ],
           "sequentialminus": [
            [
             0,
             "#0d0887"
            ],
            [
             0.1111111111111111,
             "#46039f"
            ],
            [
             0.2222222222222222,
             "#7201a8"
            ],
            [
             0.3333333333333333,
             "#9c179e"
            ],
            [
             0.4444444444444444,
             "#bd3786"
            ],
            [
             0.5555555555555556,
             "#d8576b"
            ],
            [
             0.6666666666666666,
             "#ed7953"
            ],
            [
             0.7777777777777778,
             "#fb9f3a"
            ],
            [
             0.8888888888888888,
             "#fdca26"
            ],
            [
             1,
             "#f0f921"
            ]
           ]
          },
          "colorway": [
           "#636efa",
           "#EF553B",
           "#00cc96",
           "#ab63fa",
           "#FFA15A",
           "#19d3f3",
           "#FF6692",
           "#B6E880",
           "#FF97FF",
           "#FECB52"
          ],
          "font": {
           "color": "#2a3f5f"
          },
          "geo": {
           "bgcolor": "white",
           "lakecolor": "white",
           "landcolor": "#E5ECF6",
           "showlakes": true,
           "showland": true,
           "subunitcolor": "white"
          },
          "hoverlabel": {
           "align": "left"
          },
          "hovermode": "closest",
          "mapbox": {
           "style": "light"
          },
          "paper_bgcolor": "white",
          "plot_bgcolor": "#E5ECF6",
          "polar": {
           "angularaxis": {
            "gridcolor": "white",
            "linecolor": "white",
            "ticks": ""
           },
           "bgcolor": "#E5ECF6",
           "radialaxis": {
            "gridcolor": "white",
            "linecolor": "white",
            "ticks": ""
           }
          },
          "scene": {
           "xaxis": {
            "backgroundcolor": "#E5ECF6",
            "gridcolor": "white",
            "gridwidth": 2,
            "linecolor": "white",
            "showbackground": true,
            "ticks": "",
            "zerolinecolor": "white"
           },
           "yaxis": {
            "backgroundcolor": "#E5ECF6",
            "gridcolor": "white",
            "gridwidth": 2,
            "linecolor": "white",
            "showbackground": true,
            "ticks": "",
            "zerolinecolor": "white"
           },
           "zaxis": {
            "backgroundcolor": "#E5ECF6",
            "gridcolor": "white",
            "gridwidth": 2,
            "linecolor": "white",
            "showbackground": true,
            "ticks": "",
            "zerolinecolor": "white"
           }
          },
          "shapedefaults": {
           "line": {
            "color": "#2a3f5f"
           }
          },
          "ternary": {
           "aaxis": {
            "gridcolor": "white",
            "linecolor": "white",
            "ticks": ""
           },
           "baxis": {
            "gridcolor": "white",
            "linecolor": "white",
            "ticks": ""
           },
           "bgcolor": "#E5ECF6",
           "caxis": {
            "gridcolor": "white",
            "linecolor": "white",
            "ticks": ""
           }
          },
          "title": {
           "x": 0.05
          },
          "xaxis": {
           "automargin": true,
           "gridcolor": "white",
           "linecolor": "white",
           "ticks": "",
           "title": {
            "standoff": 15
           },
           "zerolinecolor": "white",
           "zerolinewidth": 2
          },
          "yaxis": {
           "automargin": true,
           "gridcolor": "white",
           "linecolor": "white",
           "ticks": "",
           "title": {
            "standoff": 15
           },
           "zerolinecolor": "white",
           "zerolinewidth": 2
          }
         }
        },
        "title": {
         "text": "Discount % vs Rating"
        },
        "xaxis": {
         "anchor": "y",
         "domain": [
          0,
          1
         ],
         "title": {
          "text": "DiscountPercent"
         }
        },
        "yaxis": {
         "anchor": "x",
         "domain": [
          0,
          1
         ],
         "title": {
          "text": "ProductRating"
         }
        }
       }
      }
     },
     "metadata": {},
     "output_type": "display_data"
    }
   ],
   "source": [
    "#Q4: Discount % vs Rating\n",
    "\n",
    "fig = px.scatter(df, x='DiscountPercent', y='ProductRating',\n",
    "                 size='ProductRatingCount', color='UserSatisfactionLevel',\n",
    "                 title='Discount % vs Rating')\n",
    "fig.show()"
   ]
  },
  {
   "cell_type": "code",
   "execution_count": 135,
   "id": "59dcbca4",
   "metadata": {},
   "outputs": [
    {
     "data": {
      "text/html": [
       "<div>\n",
       "<style scoped>\n",
       "    .dataframe tbody tr th:only-of-type {\n",
       "        vertical-align: middle;\n",
       "    }\n",
       "\n",
       "    .dataframe tbody tr th {\n",
       "        vertical-align: top;\n",
       "    }\n",
       "\n",
       "    .dataframe thead th {\n",
       "        text-align: right;\n",
       "    }\n",
       "</style>\n",
       "<table border=\"1\" class=\"dataframe\">\n",
       "  <thead>\n",
       "    <tr style=\"text-align: right;\">\n",
       "      <th></th>\n",
       "      <th>BrandName</th>\n",
       "      <th>ProductName</th>\n",
       "      <th>ProductMRP</th>\n",
       "      <th>ProductSellingPrice</th>\n",
       "      <th>ProductRating</th>\n",
       "      <th>ProductRatingCount</th>\n",
       "      <th>category</th>\n",
       "      <th>Discount</th>\n",
       "      <th>DiscountPercent</th>\n",
       "      <th>HasDiscount</th>\n",
       "      <th>UserSatisfactionLevel</th>\n",
       "    </tr>\n",
       "  </thead>\n",
       "  <tbody>\n",
       "    <tr>\n",
       "      <th>0</th>\n",
       "      <td>United Colors of Benetton</td>\n",
       "      <td>Men Solid Cotton T-shirt</td>\n",
       "      <td>1999</td>\n",
       "      <td>1299</td>\n",
       "      <td>4.7</td>\n",
       "      <td>9</td>\n",
       "      <td>Tshirt</td>\n",
       "      <td>700</td>\n",
       "      <td>35.017509</td>\n",
       "      <td>True</td>\n",
       "      <td>Excellent</td>\n",
       "    </tr>\n",
       "    <tr>\n",
       "      <th>1</th>\n",
       "      <td>Celio</td>\n",
       "      <td>Polo Collar Cotton T-shirt</td>\n",
       "      <td>0</td>\n",
       "      <td>0</td>\n",
       "      <td>0.0</td>\n",
       "      <td>0</td>\n",
       "      <td>Tshirt</td>\n",
       "      <td>0</td>\n",
       "      <td>0.000000</td>\n",
       "      <td>False</td>\n",
       "      <td>Avoid This Product</td>\n",
       "    </tr>\n",
       "    <tr>\n",
       "      <th>2</th>\n",
       "      <td>Campus Sutra</td>\n",
       "      <td>Men Self Design Cotton T-shirt</td>\n",
       "      <td>1699</td>\n",
       "      <td>560</td>\n",
       "      <td>4.4</td>\n",
       "      <td>795</td>\n",
       "      <td>Tshirt</td>\n",
       "      <td>1139</td>\n",
       "      <td>67.039435</td>\n",
       "      <td>True</td>\n",
       "      <td>Great Product</td>\n",
       "    </tr>\n",
       "    <tr>\n",
       "      <th>3</th>\n",
       "      <td>Campus Sutra</td>\n",
       "      <td>Men Solid Cotton Polo T-shirt</td>\n",
       "      <td>1699</td>\n",
       "      <td>560</td>\n",
       "      <td>4.0</td>\n",
       "      <td>303</td>\n",
       "      <td>Tshirt</td>\n",
       "      <td>1139</td>\n",
       "      <td>67.039435</td>\n",
       "      <td>True</td>\n",
       "      <td>Good Choice</td>\n",
       "    </tr>\n",
       "    <tr>\n",
       "      <th>4</th>\n",
       "      <td>Dzant</td>\n",
       "      <td>Pure Cotton T-shirt</td>\n",
       "      <td>2499</td>\n",
       "      <td>999</td>\n",
       "      <td>0.0</td>\n",
       "      <td>0</td>\n",
       "      <td>Tshirt</td>\n",
       "      <td>1500</td>\n",
       "      <td>60.024010</td>\n",
       "      <td>True</td>\n",
       "      <td>Avoid This Product</td>\n",
       "    </tr>\n",
       "  </tbody>\n",
       "</table>\n",
       "</div>"
      ],
      "text/plain": [
       "                   BrandName                     ProductName  ProductMRP  \\\n",
       "0  United Colors of Benetton        Men Solid Cotton T-shirt        1999   \n",
       "1                      Celio      Polo Collar Cotton T-shirt           0   \n",
       "2               Campus Sutra  Men Self Design Cotton T-shirt        1699   \n",
       "3               Campus Sutra   Men Solid Cotton Polo T-shirt        1699   \n",
       "4                      Dzant             Pure Cotton T-shirt        2499   \n",
       "\n",
       "   ProductSellingPrice  ProductRating  ProductRatingCount category  Discount  \\\n",
       "0                 1299            4.7                   9   Tshirt       700   \n",
       "1                    0            0.0                   0   Tshirt         0   \n",
       "2                  560            4.4                 795   Tshirt      1139   \n",
       "3                  560            4.0                 303   Tshirt      1139   \n",
       "4                  999            0.0                   0   Tshirt      1500   \n",
       "\n",
       "   DiscountPercent  HasDiscount UserSatisfactionLevel  \n",
       "0        35.017509         True             Excellent  \n",
       "1         0.000000        False    Avoid This Product  \n",
       "2        67.039435         True         Great Product  \n",
       "3        67.039435         True           Good Choice  \n",
       "4        60.024010         True    Avoid This Product  "
      ]
     },
     "execution_count": 135,
     "metadata": {},
     "output_type": "execute_result"
    }
   ],
   "source": [
    "df.head()"
   ]
  },
  {
   "cell_type": "code",
   "execution_count": 136,
   "id": "66728988",
   "metadata": {},
   "outputs": [],
   "source": [
    "#Create DiscountRatio, IsPopular, etc.\n",
    "df['DiscountRatio'] = df['Discount'] / df['ProductMRP']\n",
    "df['IsPopular'] = df['ProductRatingCount'] > 100"
   ]
  },
  {
   "cell_type": "code",
   "execution_count": 140,
   "id": "4fa59c3a",
   "metadata": {},
   "outputs": [
    {
     "data": {
      "text/plain": [
       "BrandName                  0\n",
       "ProductName                1\n",
       "ProductMRP                 0\n",
       "ProductSellingPrice        0\n",
       "ProductRating              0\n",
       "ProductRatingCount         0\n",
       "category                   0\n",
       "Discount                   0\n",
       "DiscountPercent            0\n",
       "HasDiscount                0\n",
       "UserSatisfactionLevel      0\n",
       "DiscountRatio            169\n",
       "IsPopular                  0\n",
       "dtype: int64"
      ]
     },
     "execution_count": 140,
     "metadata": {},
     "output_type": "execute_result"
    }
   ],
   "source": [
    "df.isnull().sum()"
   ]
  },
  {
   "cell_type": "code",
   "execution_count": 160,
   "id": "4fb503e7",
   "metadata": {},
   "outputs": [
    {
     "data": {
      "text/plain": [
       "BrandName                0\n",
       "ProductName              0\n",
       "ProductMRP               0\n",
       "ProductSellingPrice      0\n",
       "ProductRating            0\n",
       "ProductRatingCount       0\n",
       "category                 0\n",
       "Discount                 0\n",
       "DiscountPercent          0\n",
       "HasDiscount              0\n",
       "UserSatisfactionLevel    0\n",
       "DiscountRatio            0\n",
       "IsPopular                0\n",
       "BrandEncoded             0\n",
       "CategoryEncoded          0\n",
       "SatisfactionEncoded      0\n",
       "dtype: int64"
      ]
     },
     "execution_count": 160,
     "metadata": {},
     "output_type": "execute_result"
    }
   ],
   "source": [
    "df['DiscountRatio'] = df['DiscountRatio'].fillna(0)\n",
    "df['ProductName'] = df['ProductName'].fillna(0)\n",
    "df.isnull().sum()\n"
   ]
  },
  {
   "cell_type": "code",
   "execution_count": 161,
   "id": "cb4c5d9b",
   "metadata": {},
   "outputs": [],
   "source": [
    "#ML Model - Predict User Satisfaction Level\n",
    "from sklearn.preprocessing import LabelEncoder\n",
    "\n",
    "le_brand = LabelEncoder()\n",
    "le_category = LabelEncoder()\n",
    "le_satisfaction = LabelEncoder()\n",
    "\n",
    "# Apply encoding\n",
    "df['BrandEncoded'] = le_brand.fit_transform(df['BrandName'])\n",
    "df['CategoryEncoded'] = le_category.fit_transform(df['category'])\n",
    "df['SatisfactionEncoded'] = le_satisfaction.fit_transform(df['UserSatisfactionLevel'])"
   ]
  },
  {
   "cell_type": "code",
   "execution_count": 162,
   "id": "a4074671",
   "metadata": {},
   "outputs": [],
   "source": [
    "features = ['ProductMRP', 'ProductSellingPrice', 'ProductRating', 'ProductRatingCount',\n",
    "            'Discount', 'DiscountPercent', 'DiscountRatio', 'BrandEncoded', 'CategoryEncoded']\n",
    "\n",
    "target = 'SatisfactionEncoded'\n",
    "\n",
    "X = df[features]\n",
    "y = df[target]"
   ]
  },
  {
   "cell_type": "code",
   "execution_count": 163,
   "id": "ea59ecd0",
   "metadata": {},
   "outputs": [
    {
     "name": "stdout",
     "output_type": "stream",
     "text": [
      "Accuracy: 0.9768518518518519\n"
     ]
    }
   ],
   "source": [
    "# Scale the data\n",
    "scaler = StandardScaler()\n",
    "X_scaled = scaler.fit_transform(X)\n",
    "\n",
    "# Split\n",
    "X_train, X_test, y_train, y_test = train_test_split(X_scaled, y, test_size=0.2, random_state=42)\n",
    "\n",
    "# Train Model\n",
    "model = RandomForestClassifier(n_estimators=100, random_state=42)\n",
    "model.fit(X_train, y_train)\n",
    "\n",
    "# Predict\n",
    "y_pred = model.predict(X_test)\n",
    "\n",
    "# Evaluate\n",
    "print(\"Accuracy:\", accuracy_score(y_test, y_pred))"
   ]
  },
  {
   "cell_type": "code",
   "execution_count": 164,
   "id": "5ddfa1b8",
   "metadata": {},
   "outputs": [
    {
     "name": "stdout",
     "output_type": "stream",
     "text": [
      "                    precision    recall  f1-score   support\n",
      "\n",
      "           Average       0.88      0.64      0.74        11\n",
      "Avoid This Product       1.00      1.00      1.00        28\n",
      "     Below Average       0.00      0.00      0.00         1\n",
      "         Excellent       1.00      1.00      1.00        38\n",
      "       Good Choice       0.94      1.00      0.97        32\n",
      "     Great Product       1.00      1.00      1.00       106\n",
      "   Not Recommended       0.00      0.00      0.00         0\n",
      "\n",
      "          accuracy                           0.98       216\n",
      "         macro avg       0.69      0.66      0.67       216\n",
      "      weighted avg       0.98      0.98      0.98       216\n",
      "\n"
     ]
    },
    {
     "name": "stderr",
     "output_type": "stream",
     "text": [
      "c:\\Users\\Vaibhav Gudulkar\\Vaibhav Learnings\\.venv\\Lib\\site-packages\\sklearn\\metrics\\_classification.py:1731: UndefinedMetricWarning:\n",
      "\n",
      "Precision is ill-defined and being set to 0.0 in labels with no predicted samples. Use `zero_division` parameter to control this behavior.\n",
      "\n",
      "c:\\Users\\Vaibhav Gudulkar\\Vaibhav Learnings\\.venv\\Lib\\site-packages\\sklearn\\metrics\\_classification.py:1731: UndefinedMetricWarning:\n",
      "\n",
      "Recall is ill-defined and being set to 0.0 in labels with no true samples. Use `zero_division` parameter to control this behavior.\n",
      "\n",
      "c:\\Users\\Vaibhav Gudulkar\\Vaibhav Learnings\\.venv\\Lib\\site-packages\\sklearn\\metrics\\_classification.py:1731: UndefinedMetricWarning:\n",
      "\n",
      "F-score is ill-defined and being set to 0.0 in labels with no true nor predicted samples. Use `zero_division` parameter to control this behavior.\n",
      "\n",
      "c:\\Users\\Vaibhav Gudulkar\\Vaibhav Learnings\\.venv\\Lib\\site-packages\\sklearn\\metrics\\_classification.py:1731: UndefinedMetricWarning:\n",
      "\n",
      "Precision is ill-defined and being set to 0.0 in labels with no predicted samples. Use `zero_division` parameter to control this behavior.\n",
      "\n",
      "c:\\Users\\Vaibhav Gudulkar\\Vaibhav Learnings\\.venv\\Lib\\site-packages\\sklearn\\metrics\\_classification.py:1731: UndefinedMetricWarning:\n",
      "\n",
      "Recall is ill-defined and being set to 0.0 in labels with no true samples. Use `zero_division` parameter to control this behavior.\n",
      "\n",
      "c:\\Users\\Vaibhav Gudulkar\\Vaibhav Learnings\\.venv\\Lib\\site-packages\\sklearn\\metrics\\_classification.py:1731: UndefinedMetricWarning:\n",
      "\n",
      "F-score is ill-defined and being set to 0.0 in labels with no true nor predicted samples. Use `zero_division` parameter to control this behavior.\n",
      "\n",
      "c:\\Users\\Vaibhav Gudulkar\\Vaibhav Learnings\\.venv\\Lib\\site-packages\\sklearn\\metrics\\_classification.py:1731: UndefinedMetricWarning:\n",
      "\n",
      "Precision is ill-defined and being set to 0.0 in labels with no predicted samples. Use `zero_division` parameter to control this behavior.\n",
      "\n",
      "c:\\Users\\Vaibhav Gudulkar\\Vaibhav Learnings\\.venv\\Lib\\site-packages\\sklearn\\metrics\\_classification.py:1731: UndefinedMetricWarning:\n",
      "\n",
      "Recall is ill-defined and being set to 0.0 in labels with no true samples. Use `zero_division` parameter to control this behavior.\n",
      "\n",
      "c:\\Users\\Vaibhav Gudulkar\\Vaibhav Learnings\\.venv\\Lib\\site-packages\\sklearn\\metrics\\_classification.py:1731: UndefinedMetricWarning:\n",
      "\n",
      "F-score is ill-defined and being set to 0.0 in labels with no true nor predicted samples. Use `zero_division` parameter to control this behavior.\n",
      "\n"
     ]
    }
   ],
   "source": [
    "labels = le_satisfaction.transform(le_satisfaction.classes_)  # [0, 1, 2, 3, 4, 5, 6]\n",
    "print(classification_report(y_test, y_pred, labels=labels, target_names=le_satisfaction.classes_))"
   ]
  },
  {
   "cell_type": "code",
   "execution_count": 165,
   "id": "f618365e",
   "metadata": {},
   "outputs": [],
   "source": [
    "from sklearn.ensemble import RandomForestClassifier\n",
    "from sklearn.linear_model import LogisticRegression\n",
    "from sklearn.svm import SVC\n",
    "from sklearn.neighbors import KNeighborsClassifier\n",
    "from sklearn.metrics import accuracy_score, classification_report\n",
    "from sklearn.model_selection import train_test_split\n",
    "from sklearn.preprocessing import StandardScaler, LabelEncoder\n",
    "\n",
    "# Optional (XGBoost if installed)\n",
    "try:\n",
    "    from xgboost import XGBClassifier\n",
    "    has_xgb = True\n",
    "except:\n",
    "    has_xgb = False\n"
   ]
  },
  {
   "cell_type": "code",
   "execution_count": 166,
   "id": "5e2e92bc",
   "metadata": {},
   "outputs": [],
   "source": [
    "# # Label encode\n",
    "# le_satisfaction = LabelEncoder()\n",
    "# df['SatisfactionEncoded'] = le_satisfaction.fit_transform(df['UserSatisfactionLevel'])\n",
    "\n",
    "# le_brand = LabelEncoder()\n",
    "# df['BrandEncoded'] = le_brand.fit_transform(df['BrandName'])\n",
    "\n",
    "# le_category = LabelEncoder()\n",
    "# df['CategoryEncoded'] = le_category.fit_transform(df['category'])\n",
    "\n",
    "# # Create new feature\n",
    "# df['DiscountRatio'] = df['Discount'] / df['ProductMRP']\n",
    "\n",
    "# Feature & Target\n",
    "features = ['ProductMRP', 'ProductSellingPrice', 'ProductRating', 'ProductRatingCount',\n",
    "            'Discount', 'DiscountPercent', 'DiscountRatio', 'BrandEncoded', 'CategoryEncoded']\n",
    "target = 'SatisfactionEncoded'\n",
    "\n",
    "X = df[features]\n",
    "y = df[target]\n",
    "\n",
    "# Scale\n",
    "scaler = StandardScaler()\n",
    "X_scaled = scaler.fit_transform(X)\n",
    "\n",
    "X_train, X_test, y_train, y_test = train_test_split(\n",
    "    X_scaled, y, test_size=0.2, random_state=42)\n"
   ]
  },
  {
   "cell_type": "code",
   "execution_count": 167,
   "id": "91ba5ff2",
   "metadata": {},
   "outputs": [
    {
     "name": "stdout",
     "output_type": "stream",
     "text": [
      "\n",
      "🧠 Model: RandomForest — Accuracy: 0.9769\n",
      "                    precision    recall  f1-score   support\n",
      "\n",
      "           Average       0.88      0.64      0.74        11\n",
      "Avoid This Product       1.00      1.00      1.00        28\n",
      "     Below Average       0.00      0.00      0.00         1\n",
      "         Excellent       1.00      1.00      1.00        38\n",
      "       Good Choice       0.94      1.00      0.97        32\n",
      "     Great Product       1.00      1.00      1.00       106\n",
      "\n",
      "          accuracy                           0.98       216\n",
      "         macro avg       0.80      0.77      0.78       216\n",
      "      weighted avg       0.98      0.98      0.98       216\n",
      "\n",
      "\n",
      "🧠 Model: LogisticRegression — Accuracy: 0.7222\n"
     ]
    },
    {
     "name": "stderr",
     "output_type": "stream",
     "text": [
      "c:\\Users\\Vaibhav Gudulkar\\Vaibhav Learnings\\.venv\\Lib\\site-packages\\sklearn\\metrics\\_classification.py:1731: UndefinedMetricWarning:\n",
      "\n",
      "Precision is ill-defined and being set to 0.0 in labels with no predicted samples. Use `zero_division` parameter to control this behavior.\n",
      "\n",
      "c:\\Users\\Vaibhav Gudulkar\\Vaibhav Learnings\\.venv\\Lib\\site-packages\\sklearn\\metrics\\_classification.py:1731: UndefinedMetricWarning:\n",
      "\n",
      "Precision is ill-defined and being set to 0.0 in labels with no predicted samples. Use `zero_division` parameter to control this behavior.\n",
      "\n",
      "c:\\Users\\Vaibhav Gudulkar\\Vaibhav Learnings\\.venv\\Lib\\site-packages\\sklearn\\metrics\\_classification.py:1731: UndefinedMetricWarning:\n",
      "\n",
      "Precision is ill-defined and being set to 0.0 in labels with no predicted samples. Use `zero_division` parameter to control this behavior.\n",
      "\n",
      "c:\\Users\\Vaibhav Gudulkar\\Vaibhav Learnings\\.venv\\Lib\\site-packages\\sklearn\\metrics\\_classification.py:1731: UndefinedMetricWarning:\n",
      "\n",
      "Precision is ill-defined and being set to 0.0 in labels with no predicted samples. Use `zero_division` parameter to control this behavior.\n",
      "\n",
      "c:\\Users\\Vaibhav Gudulkar\\Vaibhav Learnings\\.venv\\Lib\\site-packages\\sklearn\\metrics\\_classification.py:1731: UndefinedMetricWarning:\n",
      "\n",
      "Precision is ill-defined and being set to 0.0 in labels with no predicted samples. Use `zero_division` parameter to control this behavior.\n",
      "\n",
      "c:\\Users\\Vaibhav Gudulkar\\Vaibhav Learnings\\.venv\\Lib\\site-packages\\sklearn\\metrics\\_classification.py:1731: UndefinedMetricWarning:\n",
      "\n",
      "Precision is ill-defined and being set to 0.0 in labels with no predicted samples. Use `zero_division` parameter to control this behavior.\n",
      "\n"
     ]
    },
    {
     "name": "stdout",
     "output_type": "stream",
     "text": [
      "                    precision    recall  f1-score   support\n",
      "\n",
      "           Average       0.00      0.00      0.00        11\n",
      "Avoid This Product       1.00      1.00      1.00        28\n",
      "     Below Average       0.00      0.00      0.00         1\n",
      "         Excellent       1.00      0.26      0.42        38\n",
      "       Good Choice       0.50      0.38      0.43        32\n",
      "     Great Product       0.69      1.00      0.82       106\n",
      "\n",
      "          accuracy                           0.72       216\n",
      "         macro avg       0.53      0.44      0.44       216\n",
      "      weighted avg       0.72      0.72      0.67       216\n",
      "\n",
      "\n",
      "🧠 Model: SVM — Accuracy: 0.6343\n",
      "                    precision    recall  f1-score   support\n",
      "\n",
      "           Average       0.00      0.00      0.00        11\n",
      "Avoid This Product       1.00      1.00      1.00        28\n",
      "     Below Average       0.00      0.00      0.00         1\n",
      "         Excellent       0.00      0.00      0.00        38\n",
      "       Good Choice       0.42      0.16      0.23        32\n",
      "     Great Product       0.60      0.98      0.74       106\n",
      "\n",
      "          accuracy                           0.63       216\n",
      "         macro avg       0.34      0.36      0.33       216\n",
      "      weighted avg       0.48      0.63      0.53       216\n",
      "\n",
      "\n",
      "🧠 Model: KNN — Accuracy: 0.6296\n",
      "                    precision    recall  f1-score   support\n",
      "\n",
      "           Average       0.33      0.09      0.14        11\n",
      "Avoid This Product       1.00      1.00      1.00        28\n",
      "     Below Average       0.00      0.00      0.00         1\n",
      "         Excellent       0.42      0.26      0.32        38\n",
      "       Good Choice       0.44      0.34      0.39        32\n",
      "     Great Product       0.63      0.81      0.71       106\n",
      "\n",
      "          accuracy                           0.63       216\n",
      "         macro avg       0.47      0.42      0.43       216\n",
      "      weighted avg       0.60      0.63      0.60       216\n",
      "\n"
     ]
    },
    {
     "name": "stderr",
     "output_type": "stream",
     "text": [
      "c:\\Users\\Vaibhav Gudulkar\\Vaibhav Learnings\\.venv\\Lib\\site-packages\\sklearn\\metrics\\_classification.py:1731: UndefinedMetricWarning:\n",
      "\n",
      "Precision is ill-defined and being set to 0.0 in labels with no predicted samples. Use `zero_division` parameter to control this behavior.\n",
      "\n",
      "c:\\Users\\Vaibhav Gudulkar\\Vaibhav Learnings\\.venv\\Lib\\site-packages\\sklearn\\metrics\\_classification.py:1731: UndefinedMetricWarning:\n",
      "\n",
      "Precision is ill-defined and being set to 0.0 in labels with no predicted samples. Use `zero_division` parameter to control this behavior.\n",
      "\n",
      "c:\\Users\\Vaibhav Gudulkar\\Vaibhav Learnings\\.venv\\Lib\\site-packages\\sklearn\\metrics\\_classification.py:1731: UndefinedMetricWarning:\n",
      "\n",
      "Precision is ill-defined and being set to 0.0 in labels with no predicted samples. Use `zero_division` parameter to control this behavior.\n",
      "\n"
     ]
    }
   ],
   "source": [
    "models = {\n",
    "    'RandomForest': RandomForestClassifier(n_estimators=100, random_state=42),\n",
    "    'LogisticRegression': LogisticRegression(max_iter=1000),\n",
    "    'SVM': SVC(),\n",
    "    'KNN': KNeighborsClassifier()\n",
    "}\n",
    "\n",
    "if has_xgb:\n",
    "    models['XGBoost'] = XGBClassifier(use_label_encoder=False, eval_metric='mlogloss')\n",
    "    \n",
    "results = []\n",
    "\n",
    "for name, model in models.items():\n",
    "    model.fit(X_train, y_train)\n",
    "    y_pred = model.predict(X_test)\n",
    "    acc = accuracy_score(y_test, y_pred)\n",
    "    print(f\"\\n🧠 Model: {name} — Accuracy: {acc:.4f}\")\n",
    "    print(classification_report(y_test, y_pred,\n",
    "                            labels=present_labels,\n",
    "                            target_names=present_class_names))\n",
    "    \n",
    "    results.append((name, acc, model))\n"
   ]
  },
  {
   "cell_type": "code",
   "execution_count": 168,
   "id": "820aa800",
   "metadata": {},
   "outputs": [
    {
     "name": "stdout",
     "output_type": "stream",
     "text": [
      "\n",
      "✅ Best Model: RandomForest with Accuracy: 0.9769\n"
     ]
    }
   ],
   "source": [
    "# Sort models by accuracy\n",
    "best_model_name, best_acc, best_model = sorted(results, key=lambda x: x[1], reverse=True)[0]\n",
    "print(f\"\\n✅ Best Model: {best_model_name} with Accuracy: {best_acc:.4f}\")\n"
   ]
  },
  {
   "cell_type": "code",
   "execution_count": null,
   "id": "56b93491",
   "metadata": {},
   "outputs": [],
   "source": []
  }
 ],
 "metadata": {
  "kernelspec": {
   "display_name": ".venv",
   "language": "python",
   "name": "python3"
  },
  "language_info": {
   "codemirror_mode": {
    "name": "ipython",
    "version": 3
   },
   "file_extension": ".py",
   "mimetype": "text/x-python",
   "name": "python",
   "nbconvert_exporter": "python",
   "pygments_lexer": "ipython3",
   "version": "3.13.2"
  }
 },
 "nbformat": 4,
 "nbformat_minor": 5
}
